{
  "nbformat": 4,
  "nbformat_minor": 0,
  "metadata": {
    "colab": {
      "provenance": [],
      "toc_visible": true,
      "authorship_tag": "ABX9TyOgiqGjG/mepX/MzA+ic7VT",
      "include_colab_link": true
    },
    "kernelspec": {
      "name": "python3",
      "display_name": "Python 3"
    },
    "language_info": {
      "name": "python"
    }
  },
  "cells": [
    {
      "cell_type": "markdown",
      "metadata": {
        "id": "view-in-github",
        "colab_type": "text"
      },
      "source": [
        "<a href=\"https://colab.research.google.com/github/cpu-once/NationalScienceandTechnologyBigDataAnalysis/blob/main/bigdataExam_chapter01.ipynb\" target=\"_parent\"><img src=\"https://colab.research.google.com/assets/colab-badge.svg\" alt=\"Open In Colab\"/></a>"
      ]
    },
    {
      "cell_type": "code",
      "source": [
        "# colab 한글 폰트 설정을 위한 현재 설정된 폰트 확인\n",
        "import matplotlib.font_manager as fm  # to manage font\n",
        "\n",
        "# font file들의 경로를 가지는 list 반환.\n",
        "sys_fonts=fm.findSystemFonts()\n",
        "print(f\"# of sys_font_family : {len(sys_fonts)}\")\n",
        "print(sys_fonts)\n",
        "\n",
        "# Debian, Ubuntu등에서 사용가능한 Nanum fonts 확인.\n",
        "nanum_fonts = [f for f in sys_fonts if 'Nanum' in f]\n",
        "print(f\"# of nanum_font family: {len(nanum_fonts)}\")\n",
        "print(nanum_fonts)\n",
        "\n",
        "# 현재 FontEntry들을 출력 (ttf파일 기준)\n",
        "ttf_fonts = fm.fontManager.ttflist\n",
        "print(f\"# of ttf_font entries: {len(ttf_fonts)}\")\n",
        "# for f in ttf_fonts:\n",
        "#   print(f.name)\n",
        "\n",
        "# 현재 Nanum font관련 FontEntry들을 출력 (ttf파일 기준)\n",
        "nanum_font_entries = [f for f in ttf_fonts if 'Nanum' in f.name]\n",
        "print(f\"# of nanum ttf_font entries: {len(nanum_font_entries)}\")\n",
        "# for f in ttf_fonts:"
      ],
      "metadata": {
        "colab": {
          "base_uri": "https://localhost:8080/"
        },
        "id": "TUBX0VhKuX_q",
        "outputId": "d0274646-90e7-40bb-c22d-0e365892d8cf"
      },
      "execution_count": 49,
      "outputs": [
        {
          "output_type": "stream",
          "name": "stdout",
          "text": [
            "# of sys_font_family : 29\n",
            "['/usr/share/fonts/truetype/liberation/LiberationSansNarrow-Italic.ttf', '/usr/share/fonts/truetype/nanum/NanumSquareB.ttf', '/usr/share/fonts/truetype/liberation/LiberationSansNarrow-Bold.ttf', '/usr/share/fonts/truetype/liberation/LiberationSans-Regular.ttf', '/usr/share/fonts/truetype/liberation/LiberationSerif-Italic.ttf', '/usr/share/fonts/truetype/nanum/NanumGothicBold.ttf', '/usr/share/fonts/truetype/nanum/NanumSquareR.ttf', '/usr/share/fonts/truetype/liberation/LiberationMono-BoldItalic.ttf', '/usr/share/fonts/truetype/nanum/NanumMyeongjoBold.ttf', '/usr/share/fonts/truetype/liberation/LiberationSans-Italic.ttf', '/usr/share/fonts/truetype/liberation/LiberationMono-Regular.ttf', '/usr/share/fonts/truetype/humor-sans/Humor-Sans.ttf', '/usr/share/fonts/truetype/liberation/LiberationSans-Bold.ttf', '/usr/share/fonts/truetype/nanum/NanumGothicCodingBold.ttf', '/usr/share/fonts/truetype/liberation/LiberationSansNarrow-BoldItalic.ttf', '/usr/share/fonts/truetype/liberation/LiberationMono-Italic.ttf', '/usr/share/fonts/truetype/liberation/LiberationSansNarrow-Regular.ttf', '/usr/share/fonts/truetype/nanum/NanumSquareRoundB.ttf', '/usr/share/fonts/truetype/liberation/LiberationSerif-Regular.ttf', '/usr/share/fonts/truetype/liberation/LiberationSans-BoldItalic.ttf', '/usr/share/fonts/truetype/nanum/NanumGothicCoding.ttf', '/usr/share/fonts/truetype/liberation/LiberationMono-Bold.ttf', '/usr/share/fonts/truetype/liberation/LiberationSerif-BoldItalic.ttf', '/usr/share/fonts/truetype/liberation/LiberationSerif-Bold.ttf', '/usr/share/fonts/truetype/nanum/NanumBarunGothicBold.ttf', '/usr/share/fonts/truetype/nanum/NanumSquareRoundR.ttf', '/usr/share/fonts/truetype/nanum/NanumGothic.ttf', '/usr/share/fonts/truetype/nanum/NanumBarunGothic.ttf', '/usr/share/fonts/truetype/nanum/NanumMyeongjo.ttf']\n",
            "# of nanum_font family: 12\n",
            "['/usr/share/fonts/truetype/nanum/NanumSquareB.ttf', '/usr/share/fonts/truetype/nanum/NanumGothicBold.ttf', '/usr/share/fonts/truetype/nanum/NanumSquareR.ttf', '/usr/share/fonts/truetype/nanum/NanumMyeongjoBold.ttf', '/usr/share/fonts/truetype/nanum/NanumGothicCodingBold.ttf', '/usr/share/fonts/truetype/nanum/NanumSquareRoundB.ttf', '/usr/share/fonts/truetype/nanum/NanumGothicCoding.ttf', '/usr/share/fonts/truetype/nanum/NanumBarunGothicBold.ttf', '/usr/share/fonts/truetype/nanum/NanumSquareRoundR.ttf', '/usr/share/fonts/truetype/nanum/NanumGothic.ttf', '/usr/share/fonts/truetype/nanum/NanumBarunGothic.ttf', '/usr/share/fonts/truetype/nanum/NanumMyeongjo.ttf']\n",
            "# of ttf_font entries: 67\n",
            "# of nanum ttf_font entries: 12\n"
          ]
        }
      ]
    },
    {
      "cell_type": "code",
      "source": [
        "# 나눔 폰트, Matplotlib 폰트 매니저에 추가\n",
        "import sys\n",
        "\n",
        "# Google Colab 환경에서 실행 중인지 확인\n",
        "if 'google.colab' in sys.modules:\n",
        "    # debconf를 Noninteractive 모드로 설정\n",
        "    !echo 'debconf debconf/frontend select Noninteractive' | \\\n",
        "    debconf-set-selections\n",
        "\n",
        "    # fonts-nanum 패키지를 설치\n",
        "    !sudo apt-get -qq -y install fonts-nanum\n",
        "\n",
        "    # Matplotlib의 폰트 매니저 가져오기\n",
        "    import matplotlib.font_manager as fm\n",
        "\n",
        "    # 나눔 폰트의 시스템 경로 찾기\n",
        "    font_files = fm.findSystemFonts(fontpaths=['/usr/share/fonts/truetype/nanum'])\n",
        "\n",
        "    # 찾은 각 나눔 폰트를 Matplotlib 폰트 매니저에 추가\n",
        "    for fpath in font_files:\n",
        "        fm.fontManager.addfont(fpath)"
      ],
      "metadata": {
        "id": "lUMwoBwjvPeT"
      },
      "execution_count": 50,
      "outputs": []
    },
    {
      "cell_type": "code",
      "source": [
        "# 현재 폰트 확인\n",
        "import matplotlib as mpl\n",
        "\n",
        "print(f\"font.family: {mpl.rcParams['font.family']}\"),\n",
        "print(f\"font.size  : {mpl.rcParams['font.size']}\")"
      ],
      "metadata": {
        "id": "fxsfod12pGu4",
        "colab": {
          "base_uri": "https://localhost:8080/"
        },
        "outputId": "d18c73d2-4aff-4963-d285-6c596841de91"
      },
      "execution_count": 51,
      "outputs": [
        {
          "output_type": "stream",
          "name": "stdout",
          "text": [
            "font.family: ['NanumGothic']\n",
            "font.size  : 12.0\n"
          ]
        }
      ]
    },
    {
      "cell_type": "code",
      "execution_count": 52,
      "metadata": {
        "id": "Jg3L3sm95vX3",
        "colab": {
          "base_uri": "https://localhost:8080/"
        },
        "outputId": "10e283f7-8ff7-4b86-e523-7b764778fba3"
      },
      "outputs": [
        {
          "output_type": "stream",
          "name": "stdout",
          "text": [
            "   PassengerId  Survived  Pclass  \\\n",
            "0            1         0       3   \n",
            "1            2         1       1   \n",
            "\n",
            "                                                Name     Sex   Age  SibSp  \\\n",
            "0                            Braund, Mr. Owen Harris    male  22.0      1   \n",
            "1  Cumings, Mrs. John Bradley (Florence Briggs Th...  female  38.0      1   \n",
            "\n",
            "   Parch     Ticket     Fare Cabin Embarked  \n",
            "0      0  A/5 21171   7.2500   NaN        S  \n",
            "1      0   PC 17599  71.2833   C85        C  \n"
          ]
        }
      ],
      "source": [
        "# pandas의 read_csv를 이용하여 csv 파일을 데이터프레임 형태로 불러오기\n",
        "from pandas import read_csv\n",
        "titanic = read_csv('https://raw.githubusercontent.com/algoboni/pythoncodebook1-1/main/1-1_titanic.csv')\n",
        "print(titanic.head(2))"
      ]
    },
    {
      "cell_type": "code",
      "source": [
        "# 데이터 기본 정보 확인\n",
        "\n",
        "# PassengerId : 승객 고유 번호\n",
        "# Survived :생존 여부, 1=생존, 0=사망\n",
        "# Pclass :티켓 클래스\n",
        "# Cabin : 객실 번호\n",
        "# Embarked : 승선항, C=Cherbourg, Q=Queenstown, S=Southampton -> 질적 변수로 볼 수 있고\n",
        "# Age, SibSp(동승한 형제 자매 및 배우자의 수)\n",
        "# Parch(동승한 부모 및 자녀의 수)\n",
        "# Fare(양적 변수)\n",
        "\n",
        "print(titanic.info())"
      ],
      "metadata": {
        "colab": {
          "base_uri": "https://localhost:8080/"
        },
        "id": "y6niTwanKws6",
        "outputId": "b4171c6a-1125-4f87-dffa-8b89ce413edf"
      },
      "execution_count": 53,
      "outputs": [
        {
          "output_type": "stream",
          "name": "stdout",
          "text": [
            "<class 'pandas.core.frame.DataFrame'>\n",
            "RangeIndex: 891 entries, 0 to 890\n",
            "Data columns (total 12 columns):\n",
            " #   Column       Non-Null Count  Dtype  \n",
            "---  ------       --------------  -----  \n",
            " 0   PassengerId  891 non-null    int64  \n",
            " 1   Survived     891 non-null    int64  \n",
            " 2   Pclass       891 non-null    int64  \n",
            " 3   Name         891 non-null    object \n",
            " 4   Sex          891 non-null    object \n",
            " 5   Age          714 non-null    float64\n",
            " 6   SibSp        891 non-null    int64  \n",
            " 7   Parch        891 non-null    int64  \n",
            " 8   Ticket       891 non-null    object \n",
            " 9   Fare         891 non-null    float64\n",
            " 10  Cabin        204 non-null    object \n",
            " 11  Embarked     889 non-null    object \n",
            "dtypes: float64(2), int64(5), object(5)\n",
            "memory usage: 83.7+ KB\n",
            "None\n"
          ]
        }
      ]
    },
    {
      "cell_type": "code",
      "source": [
        "# 결측치를 살펴보면, Age, Cabin, Embarked는 결측치가 있는 것으로 확인 된다.\n",
        "# Cabin은 결측치가 과반수 이상이기 때문에 특성을 삭제하기로 하며,\n",
        "# 이와 더불어 결측치는 없지만 수치적 의미가 없는 것으로 보이는 PassengerId도 삭제한다.\n",
        "\n",
        "# 변수 별 데이터 타입을 살펴 보면, 수치로 표현된 데이터의 타입은 int64(정수), float64(실수)\n",
        "# 로 텍스트로 표현된 데이터의 타입은 object로 되어 있는 것을 알 수 있다.\n",
        "\n",
        "# 질적변수임에도 불구하고 양적변수로 표시된 Survived, Pclass와 나머지 질적 변수들의\n",
        "# 데이터 타입은 아래와 같이 category 타입으로 변경할 수 있다.\n",
        "\n",
        "# feature 삭제\n",
        "del_feat = ['PassengerId', 'Cabin']\n",
        "titanic = titanic.drop(del_feat, axis=1)\n",
        "\n",
        "# 질적변수의 데이터 타입을 category로 변경\n",
        "qual = ['Survived', 'Pclass', 'Name', 'Sex', 'Ticket', 'Embarked']\n",
        "quan = ['Age', 'SibSp', 'Parch', 'Fare']\n",
        "\n",
        "for col in qual:\n",
        "  titanic[col] = titanic[col].astype('category')\n",
        "print(titanic.info())"
      ],
      "metadata": {
        "colab": {
          "base_uri": "https://localhost:8080/"
        },
        "id": "nCn-4VpCK1d3",
        "outputId": "b923620d-ec3e-4d20-b028-1f652264ad41"
      },
      "execution_count": 54,
      "outputs": [
        {
          "output_type": "stream",
          "name": "stdout",
          "text": [
            "<class 'pandas.core.frame.DataFrame'>\n",
            "RangeIndex: 891 entries, 0 to 890\n",
            "Data columns (total 10 columns):\n",
            " #   Column    Non-Null Count  Dtype   \n",
            "---  ------    --------------  -----   \n",
            " 0   Survived  891 non-null    category\n",
            " 1   Pclass    891 non-null    category\n",
            " 2   Name      891 non-null    category\n",
            " 3   Sex       891 non-null    category\n",
            " 4   Age       714 non-null    float64 \n",
            " 5   SibSp     891 non-null    int64   \n",
            " 6   Parch     891 non-null    int64   \n",
            " 7   Ticket    891 non-null    category\n",
            " 8   Fare      891 non-null    float64 \n",
            " 9   Embarked  889 non-null    category\n",
            "dtypes: category(6), float64(2), int64(2)\n",
            "memory usage: 96.2 KB\n",
            "None\n"
          ]
        }
      ]
    },
    {
      "cell_type": "code",
      "source": [
        "# 양적변수에 대해서는\n",
        "# count (데이터 개수)\n",
        "# mean (평균)\n",
        "# std (표준 편차)\n",
        "# min (최솟값)\n",
        "# 25% (1사분위수)\n",
        "# 50% (2사분위수)\n",
        "# 75% (3사분위수)\n",
        "# max (최댓값)\n",
        "\n",
        "# .describe()의 파라미터 include를 'all' 로 설정하면 모든 데이터 타입의 변수에 대해 기술 통계를\n",
        "# 제공하고, include=['float64', 'int64']와 같이 특정 데이터 타입의 리스트를 입력하면\n",
        "# 해당 데이터 타입에 대한 기술통계만 확인할 수 있다.\n",
        "print(titanic.describe(include=['float64', 'int64']))"
      ],
      "metadata": {
        "colab": {
          "base_uri": "https://localhost:8080/"
        },
        "id": "a2qasd_QLoe4",
        "outputId": "907294ff-a5ff-47a5-be84-afe8328f60f4"
      },
      "execution_count": 55,
      "outputs": [
        {
          "output_type": "stream",
          "name": "stdout",
          "text": [
            "              Age       SibSp       Parch        Fare\n",
            "count  714.000000  891.000000  891.000000  891.000000\n",
            "mean    29.699118    0.523008    0.381594   32.204208\n",
            "std     14.526497    1.102743    0.806057   49.693429\n",
            "min      0.420000    0.000000    0.000000    0.000000\n",
            "25%     20.125000    0.000000    0.000000    7.910400\n",
            "50%     28.000000    0.000000    0.000000   14.454200\n",
            "75%     38.000000    1.000000    0.000000   31.000000\n",
            "max     80.000000    8.000000    6.000000  512.329200\n"
          ]
        }
      ]
    },
    {
      "cell_type": "code",
      "source": [
        "# 질적변수에 대해서는\n",
        "# count (데이터 개수)\n",
        "# unique (범주형 변수의 level 개수)\n",
        "# top (빈도가 가장 높은 level)\n",
        "# freq (top leve의 빈도)\n",
        "\n",
        "#Ticket은 681개라는 과도한 level을 가지고 있는 것을 확인하였고, 질적변수로서 분석할 의미가\n",
        "# 없다고 판단하여 분석에서 삭제하기로 한다.\n",
        "\n",
        "print(titanic.describe(include=['category']))"
      ],
      "metadata": {
        "colab": {
          "base_uri": "https://localhost:8080/"
        },
        "id": "pCz_SCMHLyCB",
        "outputId": "811833ad-98cb-4634-cfa2-8ba08837c102"
      },
      "execution_count": 56,
      "outputs": [
        {
          "output_type": "stream",
          "name": "stdout",
          "text": [
            "        Survived  Pclass                         Name   Sex Ticket Embarked\n",
            "count        891     891                          891   891    891      889\n",
            "unique         2       3                          891     2    681        3\n",
            "top            0       3  van Melkebeke, Mr. Philemon  male   1601        S\n",
            "freq         549     491                            1   577      7      644\n"
          ]
        }
      ]
    },
    {
      "cell_type": "code",
      "source": [
        "# 도수분포표\n",
        "from pandas import DataFrame\n",
        "freq = DataFrame(titanic['Survived'].value_counts())\n",
        "print(freq)"
      ],
      "metadata": {
        "colab": {
          "base_uri": "https://localhost:8080/"
        },
        "id": "-5WBZbz6MB8O",
        "outputId": "bf2603af-34a3-4672-dd18-96c4a7634a22"
      },
      "execution_count": 57,
      "outputs": [
        {
          "output_type": "stream",
          "name": "stdout",
          "text": [
            "          count\n",
            "Survived       \n",
            "0           549\n",
            "1           342\n"
          ]
        }
      ]
    },
    {
      "cell_type": "code",
      "source": [
        "# 상대도수분포표 추가\n",
        "freq['상대도수'] = titanic['Survived'].value_counts(normalize=True)\n",
        "freq = freq.rename(columns={'count' : '도수'}) # 'count' 를 '도수'로 컬럼명 변경\n",
        "print(freq)"
      ],
      "metadata": {
        "colab": {
          "base_uri": "https://localhost:8080/"
        },
        "id": "n-Ne-79aMR0v",
        "outputId": "831718c5-ea49-454e-bb7a-c23a41935550"
      },
      "execution_count": 58,
      "outputs": [
        {
          "output_type": "stream",
          "name": "stdout",
          "text": [
            "           도수      상대도수\n",
            "Survived               \n",
            "0         549  0.616162\n",
            "1         342  0.383838\n"
          ]
        }
      ]
    },
    {
      "cell_type": "code",
      "source": [
        "# 상관계수, 스피어만 순위상관계수, 켄달의 타우\n",
        "\n",
        "from scipy.stats import spearmanr, kendalltau\n",
        "corr, p = spearmanr(titanic['Survived'], titanic['Pclass'])\n",
        "print(\"스피어만 상관계수는 {:.3f}, p-value는 {:.3f}\".format(corr, p))\n",
        "\n",
        "corr2, p2 = kendalltau(titanic['Survived'], titanic['Pclass'])\n",
        "print(\"켄달타우 상관계수는 {:.3f}, p-value는 {:.3f}\".format(corr2,p2))"
      ],
      "metadata": {
        "colab": {
          "base_uri": "https://localhost:8080/"
        },
        "id": "XtNJAartMyvT",
        "outputId": "862e632b-15d2-4330-95fb-69bcc8dfb5bb"
      },
      "execution_count": 59,
      "outputs": [
        {
          "output_type": "stream",
          "name": "stdout",
          "text": [
            "스피어만 상관계수는 -0.340, p-value는 0.000\n",
            "켄달타우 상관계수는 -0.324, p-value는 0.000\n"
          ]
        }
      ]
    },
    {
      "cell_type": "code",
      "source": [
        "# 질적변수 탐색 시각화\n",
        "\n",
        "#plotting 환경 설정\n",
        "import matplotlib.pyplot as plt\n",
        "plt.rcParams[\"figure.figsize\"] = (5, 5) # 그래프 그리기\n",
        "plt.rcParams[\"font.family\"] = 'NanumGothic' # 글꼴\n",
        "plt.rcParams[\"font.size\"] = 12 # 글꼴 크기\n",
        "plt.rcParams['axes.unicode_minus'] = False # 마이너스 표기\n",
        "fig, ax = plt.subplots(1,2, figsize=(10, 5)) # 그래프 구성\n",
        "\n",
        "# 막대 그래프\n",
        "ax[0].set_title('Survived 막대 그래프')\n",
        "freq['도수'].plot.bar(ax=ax[0], color=['yellow', 'purple'])\n",
        "\n",
        "# 파이 그래프\n",
        "ax[1].set_title('Survived 파이 그래프')\n",
        "ax[1].pie(freq['도수'].values, labels=freq['도수'].index, autopct = \"%.2f%%\", colors = ['yellow', 'purple'])\n",
        "plt.show()"
      ],
      "metadata": {
        "colab": {
          "base_uri": "https://localhost:8080/",
          "height": 486
        },
        "id": "4sMRU8IxNr6W",
        "outputId": "17153ec9-797a-4dc7-9310-203460592e0f"
      },
      "execution_count": 60,
      "outputs": [
        {
          "output_type": "display_data",
          "data": {
            "text/plain": [
              "<Figure size 1000x500 with 2 Axes>"
            ],
            "image/png": "[encoded data removed]"
          },
          "metadata": {}
        }
      ]
    },
    {
      "cell_type": "code",
      "source": [],
      "metadata": {
        "id": "JJt5UA-GJ8QP"
      },
      "execution_count": 60,
      "outputs": []
    },
    {
      "cell_type": "code",
      "source": [
        "# 계급의 개수를 지정하여 도수분포표 생성\n",
        "# Pandas라이브러리의 cut을 사용하여, Age 변수를 5구간으로 나누고,\n",
        "# .values_counts()를 적용하여 구간별 도수를 구하고\n",
        "# .reset_index()를 통해 인덱스를 리셋한 후\n",
        "# 구간별로 나눈 Age를 계급으로한 구간별로 오름차순으로 정렬\n",
        "\n",
        "# 상대도수를 구하기 위해 .apply(lambda x: )를 사용하여 각 도수들(x)을 도수의 합(sum)\n",
        "# 으로 나누었다.\n",
        "\n",
        "from pandas import cut\n",
        "!pip install stemgraphic\n",
        "\n",
        "result1 = cut(titanic['Age'], bins=5)\n",
        "freq1 = DataFrame(result1.value_counts()).reset_index()\n",
        "freq1 = freq1.rename(columns={'Age' :'계급', 'count' : '도수'}).sort_values(by='계급')\n",
        "\n",
        "# freq1의 상대 도수분포표 추가\n",
        "freq1['상대도수'] = freq1['도수'].apply(lambda x: x / freq1['도수'].sum())\n",
        "print(freq1)\n",
        "\n",
        "\n"
      ],
      "metadata": {
        "colab": {
          "base_uri": "https://localhost:8080/"
        },
        "id": "Z9tl_vVOEVn0",
        "outputId": "5193562d-754f-4ca2-b44c-1bcc9a53438a"
      },
      "execution_count": 61,
      "outputs": [
        {
          "output_type": "stream",
          "name": "stdout",
          "text": [
            "Requirement already satisfied: stemgraphic in /usr/local/lib/python3.12/dist-packages (0.9.1)\n",
            "Requirement already satisfied: docopt in /usr/local/lib/python3.12/dist-packages (from stemgraphic) (0.6.2)\n",
            "Requirement already satisfied: matplotlib in /usr/local/lib/python3.12/dist-packages (from stemgraphic) (3.10.0)\n",
            "Requirement already satisfied: pandas in /usr/local/lib/python3.12/dist-packages (from stemgraphic) (2.2.2)\n",
            "Requirement already satisfied: seaborn in /usr/local/lib/python3.12/dist-packages (from stemgraphic) (0.13.2)\n",
            "Requirement already satisfied: contourpy>=1.0.1 in /usr/local/lib/python3.12/dist-packages (from matplotlib->stemgraphic) (1.3.3)\n",
            "Requirement already satisfied: cycler>=0.10 in /usr/local/lib/python3.12/dist-packages (from matplotlib->stemgraphic) (0.12.1)\n",
            "Requirement already satisfied: fonttools>=4.22.0 in /usr/local/lib/python3.12/dist-packages (from matplotlib->stemgraphic) (4.60.1)\n",
            "Requirement already satisfied: kiwisolver>=1.3.1 in /usr/local/lib/python3.12/dist-packages (from matplotlib->stemgraphic) (1.4.9)\n",
            "Requirement already satisfied: numpy>=1.23 in /usr/local/lib/python3.12/dist-packages (from matplotlib->stemgraphic) (2.0.2)\n",
            "Requirement already satisfied: packaging>=20.0 in /usr/local/lib/python3.12/dist-packages (from matplotlib->stemgraphic) (25.0)\n",
            "Requirement already satisfied: pillow>=8 in /usr/local/lib/python3.12/dist-packages (from matplotlib->stemgraphic) (11.3.0)\n",
            "Requirement already satisfied: pyparsing>=2.3.1 in /usr/local/lib/python3.12/dist-packages (from matplotlib->stemgraphic) (3.2.5)\n",
            "Requirement already satisfied: python-dateutil>=2.7 in /usr/local/lib/python3.12/dist-packages (from matplotlib->stemgraphic) (2.9.0.post0)\n",
            "Requirement already satisfied: pytz>=2020.1 in /usr/local/lib/python3.12/dist-packages (from pandas->stemgraphic) (2025.2)\n",
            "Requirement already satisfied: tzdata>=2022.7 in /usr/local/lib/python3.12/dist-packages (from pandas->stemgraphic) (2025.2)\n",
            "Requirement already satisfied: six>=1.5 in /usr/local/lib/python3.12/dist-packages (from python-dateutil>=2.7->matplotlib->stemgraphic) (1.17.0)\n",
            "                 계급   도수      상대도수\n",
            "2    (0.34, 16.336]  100  0.140056\n",
            "0  (16.336, 32.252]  346  0.484594\n",
            "1  (32.252, 48.168]  188  0.263305\n",
            "3  (48.168, 64.084]   69  0.096639\n",
            "4    (64.084, 80.0]   11  0.015406\n"
          ]
        }
      ]
    },
    {
      "cell_type": "code",
      "source": [
        "# 계산적 대푯값\n",
        "# 계산적 대푯값에는 산술평균, 기하평균, 조화평균, 절사평균, 평방평균 등이 있다.\n",
        "# 산술평균 : 주어진 수의 합을 수의 개수로 나눈 값\n",
        "# 기하평균 : n 개의 양수의 곱의 n제곱근 값으로서, 물가 변동률, 경제성장률, 임금 인상률 드 시간적으로 변화하는 비율의 대푯값\n",
        "# 조화평균 : 역수의 산술평균의 역수로서, 평균 작업 속도, 평균 속도 등 시간적으로 계속 변화하는 속도의 대푯값\n",
        "# 절사평균 : 자료의 총 개수에서 일정 비율만큼 가장 큰 부분과 작은 부분을 제거한 후 산출한 산술 평균\n",
        "# 평방평균 : 주어진 수를 각각 제곱하여 산술평균을 구하고 제곱근을 취한 것으로서, 비정상적 관측치의 영향을 부각시킬 때 사용\n",
        "\n",
        "from scipy.stats.mstats import gmean, hmean, tmean\n",
        "import numpy as np\n",
        "\n",
        "example = [1, 2, 3, 4, 5, 10]\n",
        "print(\"산술 평균: {:.2f}\".format(np.mean(example)))\n",
        "print(\"기하 평균: {:.2f}\".format(gmean(example)))\n",
        "print(\"조화 평균: {:.2f}\".format(hmean(example)))\n",
        "\n",
        "# 1이상 5이하의 범위를 벗어나는 값을 제외\n",
        "print(\"절사 평균: {:.2f}\".format(tmean(example, (1,5))))\n",
        "\n",
        "# 평방평균\n",
        "qm = np.sqrt(np.mean(np.array(example)**2)) #list를 array로 변경한 후 계산\n",
        "print(\"평방 평균: {:.2f}\".format(qm))\n",
        "\n"
      ],
      "metadata": {
        "colab": {
          "base_uri": "https://localhost:8080/"
        },
        "id": "DfFD51lSj_Xu",
        "outputId": "1912861b-f03f-48ae-d356-56aed31ee9ca"
      },
      "execution_count": 62,
      "outputs": [
        {
          "output_type": "stream",
          "name": "stdout",
          "text": [
            "산술 평균: 4.17\n",
            "기하 평균: 3.26\n",
            "조화 평균: 2.52\n",
            "절사 평균: 3.00\n",
            "평방 평균: 5.08\n"
          ]
        }
      ]
    },
    {
      "cell_type": "code",
      "source": [
        "# 위치적 대푯값\n",
        "# 위치적 대푯값으로는 중위수(Median), 최빈값(Modes), 사분위수(Quartile),\n",
        "# 분위수(Quantile), 백분위수(Percentile)가 있다.\n",
        "\n",
        "import numpy as np\n",
        "print(\"중위수: \", titanic['Fare'].median())\n",
        "print(\"최빈값: \", titanic['Fare'].mode()[0])\n",
        "print(\"1사분위수: \", titanic['Fare'].quantile(q=0.25) )\n",
        "print(\"2사분위수: \", titanic['Fare'].quantile(q=0.5))\n",
        "print(\"3사분위수: \", titanic['Fare'].quantile(q=0.75))\n",
        "print(\"50백분위수: \", np.percentile(titanic['Fare'], 50))\n",
        "print(\"75백분위수: \", np.percentile(titanic['Fare'], 75))\n",
        "\n"
      ],
      "metadata": {
        "colab": {
          "base_uri": "https://localhost:8080/"
        },
        "id": "bAXvh8Ytj_fc",
        "outputId": "3ea3f2a9-9c88-4989-bf13-b314f6620940"
      },
      "execution_count": 63,
      "outputs": [
        {
          "output_type": "stream",
          "name": "stdout",
          "text": [
            "중위수:  14.4542\n",
            "최빈값:  8.05\n",
            "1사분위수:  7.9104\n",
            "2사분위수:  14.4542\n",
            "3사분위수:  31.0\n",
            "50백분위수:  14.4542\n",
            "75백분위수:  31.0\n"
          ]
        }
      ]
    },
    {
      "cell_type": "code",
      "source": [
        "# 절대적 산포도\n",
        "# 절대적 산포도로는\n",
        "# 범위 : 관측값의 최대값에서 최소값을 뺀 값\n",
        "# 사분위범위 (IQR) : 3사분위수에서 1사분위수를 뺀 값\n",
        "# 평균편차 (MD - Mean devation) : 편차의 절댓값의 산술평균\n",
        "# 사분편차 (QD - Quartile deviation) : 사분위범위 / 2\n",
        "# 분산 (Variance) : 편차의 제곱의 산술 평균\n",
        "# 표준편차 (SD - Standard deviation) : 분산의 양의 제곱근\n",
        "# ddof는 delta degrees of freedom으로서 자유도(Degrees of freedom을 결정하는 파라미터 이다.\n",
        "# ddof = 0 으로 설정하면 (n-0)을 자유도로, ddof =1 로 설정하면 (n-1)을 자유도로 설정한다.\n",
        "# 따라서, ddof = 0은 모분산 혹은 모표준편차를 구할 때\n",
        "# ddof = 1은 표본 분산 혹은 표본표준편차를 구할 때 사용된다.\n",
        "\n",
        "print(\"범위: %.2f\" %(titanic['Fare'].max() - titanic['Fare'].min() ))\n",
        "iqr = titanic['Fare'].quantile(0.75) - titanic['Fare'].quantile(0.25)\n",
        "print(\"사분위범위: %.2f\" %(iqr), \"\\n\")\n",
        "\n",
        "md = np.mean(np.abs(np.array(titanic['Fare']) - np.mean(titanic['Fare'])))\n",
        "print(\"평균편차: %.2f\" %(md))\n",
        "print(\"사분편차: %.2f\" %(iqr/2), \"\\n\")\n",
        "\n",
        "print(\"모분산: %.2f\" %(titanic['Fare'].var(ddof=0)))\n",
        "print(\"표본분산: %.2f\" %(titanic['Fare'].var(ddof=1)))\n",
        "print(\"모표준편차: %.2f\" %(titanic['Fare'].std(ddof=0)))\n",
        "print(\"표본표준편차: %.2f\" %(titanic['Fare'].std(ddof=1)))\n",
        "\n"
      ],
      "metadata": {
        "colab": {
          "base_uri": "https://localhost:8080/"
        },
        "id": "phAA97R9j_iJ",
        "outputId": "666f87e1-e359-4ce6-8118-42d7b9667d8f"
      },
      "execution_count": 64,
      "outputs": [
        {
          "output_type": "stream",
          "name": "stdout",
          "text": [
            "범위: 512.33\n",
            "사분위범위: 23.09 \n",
            "\n",
            "평균편차: 28.16\n",
            "사분편차: 11.54 \n",
            "\n",
            "모분산: 2466.67\n",
            "표본분산: 2469.44\n",
            "모표준편차: 49.67\n",
            "표본표준편차: 49.69\n"
          ]
        }
      ]
    },
    {
      "cell_type": "code",
      "source": [
        "# 상대적 산포도\n",
        "\n",
        "# 상대적 산포도에는 사분위 편차계수 (CQD, Coefficient of quartile deviation) : 사분편차를 중앙값으로 나눈 값\n",
        "# 평균편차계수 (CMD, Coefficient of mean deviation) : 평균편차를 산술평균으로 나눈 값\n",
        "# 변동 계수 (CV, Coefficient of variance) : 표준편차를 산술평균으로 나눈 값. 자료의 단위가 다르거나 평균의 차이가 클 때 평균에 대한 표준편차의 상대적 크기를 비교\n",
        "\n",
        "print(\"사분위편차계수: %.2f\" %(iqr/2/titanic['Fare'].median()))\n",
        "print(\"평균편차계수: %.2f\" %(md/titanic['Fare'].mean()))\n",
        "print(\"모집단 변동계수: %.2f\" %(titanic['Fare'].std(ddof=0)/titanic['Fare'].mean()))\n",
        "print(\"표본집단 변동계수: %.2f\" %(titanic['Fare'].std(ddof=1)/titanic['Fare'].mean()))\n",
        "\n"
      ],
      "metadata": {
        "colab": {
          "base_uri": "https://localhost:8080/"
        },
        "id": "Fn8t26yNj_k3",
        "outputId": "c01d59cf-1bb9-4cc7-f3f4-171b0badc78c"
      },
      "execution_count": 65,
      "outputs": [
        {
          "output_type": "stream",
          "name": "stdout",
          "text": [
            "사분위편차계수: 0.80\n",
            "평균편차계수: 0.87\n",
            "모집단 변동계수: 1.54\n",
            "표본집단 변동계수: 1.54\n"
          ]
        }
      ]
    },
    {
      "cell_type": "code",
      "source": [
        "# 왜도, 첨도\n",
        "\n",
        "# 왜도\n",
        "# 왜도(Skewness는 관측값 분포의 비대칭 정도를 나타낸다.\n",
        "# 왜도가 음수일 경우 분포의 왼쪽 부분에 긴 꼬리를 가지며,\n",
        "# 왜도가 양수일 경우 오른쪽 부분에 긴 꼬리를 가진다.\n",
        "# 정규분포의 왜도는 0이다.\n",
        "\n",
        "# 첨도\n",
        "# 첨도(Kurtosis)는 관측값 분포의 모양이 얼마나 뾰족한지를 나타낸다.\n",
        "# 극단적인 편차나 이상치가 많을 수록 큰 값을 나타낸다.\n",
        "# 첨도가 3보다 큰 경우 정규분포보다 뾰족하고 꼬리가 얇은 분포를 가지며\n",
        "# 첨도가 3보다 작은 경우 정규분포보다 뾰족하지 않고 두꺼운 분포를 가진다.\n",
        "\n",
        "# Pandas와 Scipy의 왜도와 첨도는 다소 다르게 나타나는데, Pandas는 bias 수정이 적용되지 않은 상태이고\n",
        "# Scipy는 bias 수정을 적용했기 때문이다.\n",
        "# Scipy에서 bias = Flase로 설정하면 둘은 동일한 결과를 얻게 된다.\n",
        "\n",
        "# pandas\n",
        "print(\"왜도: %.3f, 첨도: %3.f\" %(titanic['Fare'].skew(), titanic['Fare'].kurt()))\n",
        "\n",
        "# scipy\n",
        "from scipy.stats import skew, kurtosis\n",
        "ssF = skew(titanic['Fare'], bias=False)\n",
        "skF = kurtosis(titanic['Fare'], bias=False)\n",
        "ssT = skew(titanic['Fare'], bias=True)\n",
        "skT = kurtosis(titanic['Fare'], bias=True)\n",
        "print(\"왜도: %.3f(%.3f), 첨도: %.3f(%.3f)\" %(ssF, ssT, skF, skT))\n",
        "\n"
      ],
      "metadata": {
        "colab": {
          "base_uri": "https://localhost:8080/"
        },
        "id": "78JzPattj_nd",
        "outputId": "cd4bf09a-458e-43f2-89e7-463d5bf4471f"
      },
      "execution_count": 66,
      "outputs": [
        {
          "output_type": "stream",
          "name": "stdout",
          "text": [
            "왜도: 4.787, 첨도:  33\n",
            "왜도: 4.787(4.779), 첨도: 33.398(33.204)\n"
          ]
        }
      ]
    },
    {
      "cell_type": "code",
      "source": [
        "# 상관계수: 피어슨의 적률 상관계수\n",
        "# 피어슨(Pearson)의 적률상관계수는 양적변수의 상관관계를 나타낸다.\n",
        "# 예시의 코드는 Age와 Fare의 상관계수는 0.093인데 이는 상관성이 거의 없다고 볼 수 있다.\n",
        "# 한편, 해당 상관계수의 p-value 0.013을 보면 0.05보다 작기 때문에 표본의 상관계수가\n",
        "# 모상관계수 0과 차이가 없다는 귀무가설을 기각할 수 있다.\n",
        "# 따라서 해당 상관계수는 통계적으로 유의하다고 본다.\n",
        "\n",
        "from scipy.stats import pearsonr\n",
        "#PassengerId, Cabin이 없는 titanic에서 추가로 Age의 결측치가 있는 행을 삭제\n",
        "titanic = titanic.dropna(axis=0)\n",
        "corr, p = pearsonr(titanic['Age'], titanic['Fare'])\n",
        "print(\"피어슨 상관계수 {:.3f}, p-value {:.3f}\".format(corr, p))\n",
        "\n"
      ],
      "metadata": {
        "colab": {
          "base_uri": "https://localhost:8080/"
        },
        "id": "DnAH7vb2j_p5",
        "outputId": "4cc69350-9947-43fe-fcfb-b6457173cbf8"
      },
      "execution_count": 67,
      "outputs": [
        {
          "output_type": "stream",
          "name": "stdout",
          "text": [
            "피어슨 상관계수 0.093, p-value 0.013\n"
          ]
        }
      ]
    },
    {
      "cell_type": "code",
      "source": [
        "# 양적변수 탐색 시각화\n",
        "# import stemgraphic\n",
        "# stemgraphic.stem_graphic(titanic['Age'])\n",
        "# plt.show()\n",
        "\n"
      ],
      "metadata": {
        "id": "jOlF5i52j_sV"
      },
      "execution_count": 68,
      "outputs": []
    },
    {
      "cell_type": "code",
      "source": [
        "# 히스토그램은 도수분포의 상태를 도수분포표의 계급과 도수를 이용하여 기둥 모양으로\n",
        "# 나타낸 그래프이다.\n",
        "# x축에는 연속형 변수의 계급을 표시하고, y축에는 빈도를 표시한다.\n",
        "\n",
        "# 기본 히스토그램\n",
        "# 계급의 개수를 설정한 히스토그램\n",
        "# 계급의 범위를 설정한 히스토그램\n",
        "fig, ax = plt.subplots(1,3, figsize=(12,4))\n",
        "ax[0].hist(titanic['Age'])\n",
        "ax[0].set_title(titanic['Age'])\n",
        "ax[1].set_title(\"기본 히스토그램\")\n",
        "ax[1].hist(titanic['Age'], bins=4) #bin_number 설정\n",
        "ax[2].hist(titanic['Age'], bins=[i for i in range(0,90,10)]) # bin edges 설정\n",
        "plt.show()"
      ],
      "metadata": {
        "colab": {
          "base_uri": "https://localhost:8080/",
          "height": 636
        },
        "id": "TD-Cx8J4j_vJ",
        "outputId": "10cd45cb-b775-4a2c-ae9c-a258674be44b"
      },
      "execution_count": 69,
      "outputs": [
        {
          "output_type": "display_data",
          "data": {
            "text/plain": [
              "<Figure size 1200x400 with 3 Axes>"
            ],
            "image/png": "[encoded data removed]"
          },
          "metadata": {}
        }
      ]
    },
    {
      "cell_type": "code",
      "source": [
        "# 오자이브(Ogive)는 누적도수다각형의 각 계급구간의 누적 도수에 대응하는 기둥의 맨 위 중간점들을 직선으로 연결했을 때 나타나는 그래프이다."
      ],
      "metadata": {
        "id": "YudizwkPj_xc"
      },
      "execution_count": 69,
      "outputs": []
    },
    {
      "cell_type": "code",
      "source": [],
      "metadata": {
        "id": "NLJAdwdJj_0E"
      },
      "execution_count": 69,
      "outputs": []
    },
    {
      "cell_type": "code",
      "source": [],
      "metadata": {
        "id": "EpE5IwcJj_2u"
      },
      "execution_count": 69,
      "outputs": []
    },
    {
      "cell_type": "code",
      "source": [],
      "metadata": {
        "id": "Dfc0mPxbj_5W"
      },
      "execution_count": 69,
      "outputs": []
    },
    {
      "cell_type": "code",
      "source": [],
      "metadata": {
        "id": "JeD8BPwEj_71"
      },
      "execution_count": 69,
      "outputs": []
    },
    {
      "cell_type": "code",
      "source": [],
      "metadata": {
        "id": "Mxfy8_6Cj_-o"
      },
      "execution_count": 69,
      "outputs": []
    }
  ]
}