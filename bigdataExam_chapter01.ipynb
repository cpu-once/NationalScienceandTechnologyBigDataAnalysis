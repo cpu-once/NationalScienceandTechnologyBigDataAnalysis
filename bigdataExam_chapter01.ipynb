{
  "nbformat": 4,
  "nbformat_minor": 0,
  "metadata": {
    "colab": {
      "provenance": [],
      "toc_visible": true,
      "authorship_tag": "ABX9TyOi2E+VBgxij9nJuLTsxBQl",
      "include_colab_link": true
    },
    "kernelspec": {
      "name": "python3",
      "display_name": "Python 3"
    },
    "language_info": {
      "name": "python"
    }
  },
  "cells": [
    {
      "cell_type": "markdown",
      "metadata": {
        "id": "view-in-github",
        "colab_type": "text"
      },
      "source": [
        "<a href=\"https://colab.research.google.com/github/cpu-once/NationalScienceandTechnologyBigDataAnalysis/blob/main/bigdataExam_chapter01.ipynb\" target=\"_parent\"><img src=\"https://colab.research.google.com/assets/colab-badge.svg\" alt=\"Open In Colab\"/></a>"
      ]
    },
    {
      "cell_type": "code",
      "source": [
        "# colab 한글 폰트 설정을 위한 현재 설정된 폰트 확인\n",
        "import matplotlib.font_manager as fm  # to manage font\n",
        "\n",
        "# font file들의 경로를 가지는 list 반환.\n",
        "sys_fonts=fm.findSystemFonts()\n",
        "print(f\"# of sys_font_family : {len(sys_fonts)}\")\n",
        "print(sys_fonts)\n",
        "\n",
        "# Debian, Ubuntu등에서 사용가능한 Nanum fonts 확인.\n",
        "nanum_fonts = [f for f in sys_fonts if 'Nanum' in f]\n",
        "print(f\"# of nanum_font family: {len(nanum_fonts)}\")\n",
        "print(nanum_fonts)\n",
        "\n",
        "# 현재 FontEntry들을 출력 (ttf파일 기준)\n",
        "ttf_fonts = fm.fontManager.ttflist\n",
        "print(f\"# of ttf_font entries: {len(ttf_fonts)}\")\n",
        "# for f in ttf_fonts:\n",
        "#   print(f.name)\n",
        "\n",
        "# 현재 Nanum font관련 FontEntry들을 출력 (ttf파일 기준)\n",
        "nanum_font_entries = [f for f in ttf_fonts if 'Nanum' in f.name]\n",
        "print(f\"# of nanum ttf_font entries: {len(nanum_font_entries)}\")\n",
        "# for f in ttf_fonts:"
      ],
      "metadata": {
        "colab": {
          "base_uri": "https://localhost:8080/"
        },
        "id": "TUBX0VhKuX_q",
        "outputId": "f6dd37c2-bbe8-48c4-8348-3dd47dc9d798"
      },
      "execution_count": 95,
      "outputs": [
        {
          "output_type": "stream",
          "name": "stdout",
          "text": [
            "# of sys_font_family : 56\n",
            "['/usr/share/fonts/truetype/nanum/NanumSquare_acL.ttf', '/usr/share/fonts/truetype/liberation/LiberationSans-BoldItalic.ttf', '/usr/share/fonts/truetype/nanum/NanumBarunGothic-YetHangul.ttf', '/usr/share/fonts/truetype/liberation/LiberationMono-Regular.ttf', '/usr/share/fonts/truetype/nanum/NanumGothic.ttf', '/usr/share/fonts/truetype/nanum/NanumGothicLight.ttf', '/usr/share/fonts/truetype/nanum/NanumGothicCoding.ttf', '/usr/share/fonts/truetype/liberation/LiberationSerif-Italic.ttf', '/usr/share/fonts/truetype/liberation/LiberationMono-Italic.ttf', '/usr/share/fonts/truetype/nanum/NanumMyeongjo.ttf', '/usr/share/fonts/truetype/nanum/NanumBarunpenR.ttf', '/usr/share/fonts/truetype/liberation/LiberationSansNarrow-BoldItalic.ttf', '/usr/share/fonts/truetype/humor-sans/Humor-Sans.ttf', '/usr/share/fonts/truetype/liberation/LiberationMono-BoldItalic.ttf', '/usr/share/fonts/truetype/nanum/NanumBrush.ttf', '/usr/share/fonts/truetype/nanum/NanumGothicCodingBold.ttf', '/usr/share/fonts/truetype/nanum/NanumBarunGothicBold.ttf', '/usr/share/fonts/truetype/liberation/LiberationSans-Italic.ttf', '/usr/share/fonts/truetype/nanum/NanumSquareL.ttf', '/usr/share/fonts/truetype/liberation/LiberationSerif-BoldItalic.ttf', '/usr/share/fonts/truetype/liberation/LiberationSerif-Regular.ttf', '/usr/share/fonts/truetype/liberation/LiberationSansNarrow-Regular.ttf', '/usr/share/fonts/truetype/nanum/NanumSquareRoundEB.ttf', '/usr/share/fonts/truetype/liberation/LiberationSansNarrow-Bold.ttf', '/usr/share/fonts/truetype/nanum/NanumGothicEcoBold.ttf', '/usr/share/fonts/truetype/liberation/LiberationSansNarrow-Italic.ttf', '/usr/share/fonts/truetype/nanum/NanumPen.ttf', '/usr/share/fonts/truetype/nanum/NanumSquare_acB.ttf', '/usr/share/fonts/truetype/nanum/NanumGothicEcoExtraBold.ttf', '/usr/share/fonts/truetype/nanum/NanumSquareR.ttf', '/usr/share/fonts/truetype/nanum/NanumMyeongjoEcoBold.ttf', '/usr/share/fonts/truetype/nanum/NanumSquareRoundB.ttf', '/usr/share/fonts/truetype/nanum/NanumSquare_acR.ttf', '/usr/share/fonts/truetype/nanum/NanumBarunpenB.ttf', '/usr/share/fonts/truetype/nanum/NanumGothicEcoR.ttf', '/usr/share/fonts/truetype/nanum/NanumGothicExtraBold.ttf', '/usr/share/fonts/truetype/nanum/NanumBarunGothicLight.ttf', '/usr/share/fonts/truetype/nanum/NanumMyeongjoEco.ttf', '/usr/share/fonts/truetype/nanum/NanumSquareRoundL.ttf', '/usr/share/fonts/truetype/nanum/NanumBarunGothicUltraLight.ttf', '/usr/share/fonts/truetype/liberation/LiberationSerif-Bold.ttf', '/usr/share/fonts/truetype/nanum/NanumSquareEB.ttf', '/usr/share/fonts/truetype/liberation/LiberationSans-Bold.ttf', '/usr/share/fonts/truetype/liberation/LiberationSans-Regular.ttf', '/usr/share/fonts/truetype/nanum/NanumMyeongjo-YetHangul.ttf', '/usr/share/fonts/truetype/nanum/NanumMyeongjoEcoR.ttf', '/usr/share/fonts/truetype/nanum/NanumGothicBold.ttf', '/usr/share/fonts/truetype/nanum/NanumMyeongjoExtraBold.ttf', '/usr/share/fonts/truetype/nanum/NanumGothicEco.ttf', '/usr/share/fonts/truetype/liberation/LiberationMono-Bold.ttf', '/usr/share/fonts/truetype/nanum/NanumSquare_acEB.ttf', '/usr/share/fonts/truetype/nanum/NanumSquareB.ttf', '/usr/share/fonts/truetype/nanum/NanumSquareRoundR.ttf', '/usr/share/fonts/truetype/nanum/NanumMyeongjoEcoExtraBold.ttf', '/usr/share/fonts/truetype/nanum/NanumBarunGothic.ttf', '/usr/share/fonts/truetype/nanum/NanumMyeongjoBold.ttf']\n",
            "# of nanum_font family: 39\n",
            "['/usr/share/fonts/truetype/nanum/NanumSquare_acL.ttf', '/usr/share/fonts/truetype/nanum/NanumBarunGothic-YetHangul.ttf', '/usr/share/fonts/truetype/nanum/NanumGothic.ttf', '/usr/share/fonts/truetype/nanum/NanumGothicLight.ttf', '/usr/share/fonts/truetype/nanum/NanumGothicCoding.ttf', '/usr/share/fonts/truetype/nanum/NanumMyeongjo.ttf', '/usr/share/fonts/truetype/nanum/NanumBarunpenR.ttf', '/usr/share/fonts/truetype/nanum/NanumBrush.ttf', '/usr/share/fonts/truetype/nanum/NanumGothicCodingBold.ttf', '/usr/share/fonts/truetype/nanum/NanumBarunGothicBold.ttf', '/usr/share/fonts/truetype/nanum/NanumSquareL.ttf', '/usr/share/fonts/truetype/nanum/NanumSquareRoundEB.ttf', '/usr/share/fonts/truetype/nanum/NanumGothicEcoBold.ttf', '/usr/share/fonts/truetype/nanum/NanumPen.ttf', '/usr/share/fonts/truetype/nanum/NanumSquare_acB.ttf', '/usr/share/fonts/truetype/nanum/NanumGothicEcoExtraBold.ttf', '/usr/share/fonts/truetype/nanum/NanumSquareR.ttf', '/usr/share/fonts/truetype/nanum/NanumMyeongjoEcoBold.ttf', '/usr/share/fonts/truetype/nanum/NanumSquareRoundB.ttf', '/usr/share/fonts/truetype/nanum/NanumSquare_acR.ttf', '/usr/share/fonts/truetype/nanum/NanumBarunpenB.ttf', '/usr/share/fonts/truetype/nanum/NanumGothicEcoR.ttf', '/usr/share/fonts/truetype/nanum/NanumGothicExtraBold.ttf', '/usr/share/fonts/truetype/nanum/NanumBarunGothicLight.ttf', '/usr/share/fonts/truetype/nanum/NanumMyeongjoEco.ttf', '/usr/share/fonts/truetype/nanum/NanumSquareRoundL.ttf', '/usr/share/fonts/truetype/nanum/NanumBarunGothicUltraLight.ttf', '/usr/share/fonts/truetype/nanum/NanumSquareEB.ttf', '/usr/share/fonts/truetype/nanum/NanumMyeongjo-YetHangul.ttf', '/usr/share/fonts/truetype/nanum/NanumMyeongjoEcoR.ttf', '/usr/share/fonts/truetype/nanum/NanumGothicBold.ttf', '/usr/share/fonts/truetype/nanum/NanumMyeongjoExtraBold.ttf', '/usr/share/fonts/truetype/nanum/NanumGothicEco.ttf', '/usr/share/fonts/truetype/nanum/NanumSquare_acEB.ttf', '/usr/share/fonts/truetype/nanum/NanumSquareB.ttf', '/usr/share/fonts/truetype/nanum/NanumSquareRoundR.ttf', '/usr/share/fonts/truetype/nanum/NanumMyeongjoEcoExtraBold.ttf', '/usr/share/fonts/truetype/nanum/NanumBarunGothic.ttf', '/usr/share/fonts/truetype/nanum/NanumMyeongjoBold.ttf']\n",
            "# of ttf_font entries: 172\n",
            "# of nanum ttf_font entries: 117\n"
          ]
        }
      ]
    },
    {
      "cell_type": "code",
      "source": [
        "# 나눔 폰트, Matplotlib 폰트 매니저에 추가\n",
        "import sys\n",
        "\n",
        "# Google Colab 환경에서 실행 중인지 확인\n",
        "if 'google.colab' in sys.modules:\n",
        "    # debconf를 Noninteractive 모드로 설정\n",
        "    !echo 'debconf debconf/frontend select Noninteractive' | \\\n",
        "    debconf-set-selections\n",
        "\n",
        "    # fonts-nanum 패키지를 설치\n",
        "    !sudo apt-get -qq -y install fonts-nanum\n",
        "\n",
        "    # Matplotlib의 폰트 매니저 가져오기\n",
        "    import matplotlib.font_manager as fm\n",
        "\n",
        "    # 나눔 폰트의 시스템 경로 찾기\n",
        "    font_files = fm.findSystemFonts(fontpaths=['/usr/share/fonts/truetype/nanum'])\n",
        "\n",
        "    # 찾은 각 나눔 폰트를 Matplotlib 폰트 매니저에 추가\n",
        "    for fpath in font_files:\n",
        "        fm.fontManager.addfont(fpath)"
      ],
      "metadata": {
        "id": "lUMwoBwjvPeT"
      },
      "execution_count": 96,
      "outputs": []
    },
    {
      "cell_type": "code",
      "source": [
        "# 현재 폰트 확인\n",
        "import matplotlib as mpl\n",
        "\n",
        "print(f\"font.family: {mpl.rcParams['font.family']}\"),\n",
        "print(f\"font.size  : {mpl.rcParams['font.size']}\")"
      ],
      "metadata": {
        "id": "fxsfod12pGu4",
        "colab": {
          "base_uri": "https://localhost:8080/"
        },
        "outputId": "db90c534-0e88-4102-a0c5-cc16a835f84a"
      },
      "execution_count": 97,
      "outputs": [
        {
          "output_type": "stream",
          "name": "stdout",
          "text": [
            "font.family: ['NanumGothic']\n",
            "font.size  : 12.0\n"
          ]
        }
      ]
    },
    {
      "cell_type": "code",
      "execution_count": 98,
      "metadata": {
        "id": "Jg3L3sm95vX3",
        "colab": {
          "base_uri": "https://localhost:8080/"
        },
        "outputId": "12482408-9f7d-4967-fe21-f382ba619170"
      },
      "outputs": [
        {
          "output_type": "stream",
          "name": "stdout",
          "text": [
            "   PassengerId  Survived  Pclass  \\\n",
            "0            1         0       3   \n",
            "1            2         1       1   \n",
            "\n",
            "                                                Name     Sex   Age  SibSp  \\\n",
            "0                            Braund, Mr. Owen Harris    male  22.0      1   \n",
            "1  Cumings, Mrs. John Bradley (Florence Briggs Th...  female  38.0      1   \n",
            "\n",
            "   Parch     Ticket     Fare Cabin Embarked  \n",
            "0      0  A/5 21171   7.2500   NaN        S  \n",
            "1      0   PC 17599  71.2833   C85        C  \n"
          ]
        }
      ],
      "source": [
        "# pandas의 read_csv를 이용하여 csv 파일을 데이터프레임 형태로 불러오기\n",
        "from pandas import read_csv\n",
        "titanic = read_csv('https://raw.githubusercontent.com/algoboni/pythoncodebook1-1/main/1-1_titanic.csv')\n",
        "print(titanic.head(2))"
      ]
    },
    {
      "cell_type": "code",
      "source": [
        "# 데이터 기본 정보 확인\n",
        "\n",
        "# PassengerId : 승객 고유 번호\n",
        "# Survived :생존 여부, 1=생존, 0=사망\n",
        "# Pclass :티켓 클래스\n",
        "# Cabin : 객실 번호\n",
        "# Embarked : 승선항, C=Cherbourg, Q=Queenstown, S=Southampton -> 질적 변수로 볼 수 있고\n",
        "# Age, SibSp(동승한 형제 자매 및 배우자의 수)\n",
        "# Parch(동승한 부모 및 자녀의 수)\n",
        "# Fare(양적 변수)\n",
        "\n",
        "print(titanic.info())"
      ],
      "metadata": {
        "colab": {
          "base_uri": "https://localhost:8080/"
        },
        "id": "y6niTwanKws6",
        "outputId": "6ac9c5e3-91c1-4302-cdd9-e15395f55902"
      },
      "execution_count": 99,
      "outputs": [
        {
          "output_type": "stream",
          "name": "stdout",
          "text": [
            "<class 'pandas.core.frame.DataFrame'>\n",
            "RangeIndex: 891 entries, 0 to 890\n",
            "Data columns (total 12 columns):\n",
            " #   Column       Non-Null Count  Dtype  \n",
            "---  ------       --------------  -----  \n",
            " 0   PassengerId  891 non-null    int64  \n",
            " 1   Survived     891 non-null    int64  \n",
            " 2   Pclass       891 non-null    int64  \n",
            " 3   Name         891 non-null    object \n",
            " 4   Sex          891 non-null    object \n",
            " 5   Age          714 non-null    float64\n",
            " 6   SibSp        891 non-null    int64  \n",
            " 7   Parch        891 non-null    int64  \n",
            " 8   Ticket       891 non-null    object \n",
            " 9   Fare         891 non-null    float64\n",
            " 10  Cabin        204 non-null    object \n",
            " 11  Embarked     889 non-null    object \n",
            "dtypes: float64(2), int64(5), object(5)\n",
            "memory usage: 83.7+ KB\n",
            "None\n"
          ]
        }
      ]
    },
    {
      "cell_type": "code",
      "source": [
        "# 결측치를 살펴보면, Age, Cabin, Embarked는 결측치가 있는 것으로 확인 된다.\n",
        "# Cabin은 결측치가 과반수 이상이기 때문에 특성을 삭제하기로 하며,\n",
        "# 이와 더불어 결측치는 없지만 수치적 의미가 없는 것으로 보이는 PassengerId도 삭제한다.\n",
        "\n",
        "# 변수 별 데이터 타입을 살펴 보면, 수치로 표현된 데이터의 타입은 int64(정수), float64(실수)\n",
        "# 로 텍스트로 표현된 데이터의 타입은 object로 되어 있는 것을 알 수 있다.\n",
        "\n",
        "# 질적변수임에도 불구하고 양적변수로 표시된 Survived, Pclass와 나머지 질적 변수들의\n",
        "# 데이터 타입은 아래와 같이 category 타입으로 변경할 수 있다.\n",
        "\n",
        "# feature 삭제\n",
        "del_feat = ['PassengerId', 'Cabin']\n",
        "titanic = titanic.drop(del_feat, axis=1)\n",
        "\n",
        "# 질적변수의 데이터 타입을 category로 변경\n",
        "qual = ['Survived', 'Pclass', 'Name', 'Sex', 'Ticket', 'Embarked']\n",
        "quan = ['Age', 'SibSp', 'Parch', 'Fare']\n",
        "\n",
        "for col in qual:\n",
        "  titanic[col] = titanic[col].astype('category')\n",
        "print(titanic.info())"
      ],
      "metadata": {
        "colab": {
          "base_uri": "https://localhost:8080/"
        },
        "id": "nCn-4VpCK1d3",
        "outputId": "6f490684-51a5-4e2d-b454-22b2017a6e95"
      },
      "execution_count": 100,
      "outputs": [
        {
          "output_type": "stream",
          "name": "stdout",
          "text": [
            "<class 'pandas.core.frame.DataFrame'>\n",
            "RangeIndex: 891 entries, 0 to 890\n",
            "Data columns (total 10 columns):\n",
            " #   Column    Non-Null Count  Dtype   \n",
            "---  ------    --------------  -----   \n",
            " 0   Survived  891 non-null    category\n",
            " 1   Pclass    891 non-null    category\n",
            " 2   Name      891 non-null    category\n",
            " 3   Sex       891 non-null    category\n",
            " 4   Age       714 non-null    float64 \n",
            " 5   SibSp     891 non-null    int64   \n",
            " 6   Parch     891 non-null    int64   \n",
            " 7   Ticket    891 non-null    category\n",
            " 8   Fare      891 non-null    float64 \n",
            " 9   Embarked  889 non-null    category\n",
            "dtypes: category(6), float64(2), int64(2)\n",
            "memory usage: 96.2 KB\n",
            "None\n"
          ]
        }
      ]
    },
    {
      "cell_type": "code",
      "source": [
        "# 양적변수에 대해서는\n",
        "# count (데이터 개수)\n",
        "# mean (평균)\n",
        "# std (표준 편차)\n",
        "# min (최솟값)\n",
        "# 25% (1사분위수)\n",
        "# 50% (2사분위수)\n",
        "# 75% (3사분위수)\n",
        "# max (최댓값)\n",
        "\n",
        "# .describe()의 파라미터 include를 'all' 로 설정하면 모든 데이터 타입의 변수에 대해 기술 통계를\n",
        "# 제공하고, include=['float64', 'int64']와 같이 특정 데이터 타입의 리스트를 입력하면\n",
        "# 해당 데이터 타입에 대한 기술통계만 확인할 수 있다.\n",
        "print(titanic.describe(include=['float64', 'int64']))"
      ],
      "metadata": {
        "colab": {
          "base_uri": "https://localhost:8080/"
        },
        "id": "a2qasd_QLoe4",
        "outputId": "774b5eb0-7177-4c32-b142-ff35a583be0b"
      },
      "execution_count": 101,
      "outputs": [
        {
          "output_type": "stream",
          "name": "stdout",
          "text": [
            "              Age       SibSp       Parch        Fare\n",
            "count  714.000000  891.000000  891.000000  891.000000\n",
            "mean    29.699118    0.523008    0.381594   32.204208\n",
            "std     14.526497    1.102743    0.806057   49.693429\n",
            "min      0.420000    0.000000    0.000000    0.000000\n",
            "25%     20.125000    0.000000    0.000000    7.910400\n",
            "50%     28.000000    0.000000    0.000000   14.454200\n",
            "75%     38.000000    1.000000    0.000000   31.000000\n",
            "max     80.000000    8.000000    6.000000  512.329200\n"
          ]
        }
      ]
    },
    {
      "cell_type": "code",
      "source": [
        "# 질적변수에 대해서는\n",
        "# count (데이터 개수)\n",
        "# unique (범주형 변수의 level 개수)\n",
        "# top (빈도가 가장 높은 level)\n",
        "# freq (top leve의 빈도)\n",
        "\n",
        "#Ticket은 681개라는 과도한 level을 가지고 있는 것을 확인하였고, 질적변수로서 분석할 의미가\n",
        "# 없다고 판단하여 분석에서 삭제하기로 한다.\n",
        "\n",
        "print(titanic.describe(include=['category']))"
      ],
      "metadata": {
        "colab": {
          "base_uri": "https://localhost:8080/"
        },
        "id": "pCz_SCMHLyCB",
        "outputId": "03970ea7-1c43-4d69-88ec-c72dcfe517af"
      },
      "execution_count": 102,
      "outputs": [
        {
          "output_type": "stream",
          "name": "stdout",
          "text": [
            "        Survived  Pclass                         Name   Sex Ticket Embarked\n",
            "count        891     891                          891   891    891      889\n",
            "unique         2       3                          891     2    681        3\n",
            "top            0       3  van Melkebeke, Mr. Philemon  male   1601        S\n",
            "freq         549     491                            1   577      7      644\n"
          ]
        }
      ]
    },
    {
      "cell_type": "code",
      "source": [
        "# 도수분포표\n",
        "from pandas import DataFrame\n",
        "freq = DataFrame(titanic['Survived'].value_counts())\n",
        "print(freq)"
      ],
      "metadata": {
        "colab": {
          "base_uri": "https://localhost:8080/"
        },
        "id": "-5WBZbz6MB8O",
        "outputId": "8e80749c-c454-4b63-848f-ab82458ba1cc"
      },
      "execution_count": 103,
      "outputs": [
        {
          "output_type": "stream",
          "name": "stdout",
          "text": [
            "          count\n",
            "Survived       \n",
            "0           549\n",
            "1           342\n"
          ]
        }
      ]
    },
    {
      "cell_type": "code",
      "source": [
        "# 상대도수분포표 추가\n",
        "freq['상대도수'] = titanic['Survived'].value_counts(normalize=True)\n",
        "freq = freq.rename(columns={'count' : '도수'}) # 'count' 를 '도수'로 컬럼명 변경\n",
        "print(freq)"
      ],
      "metadata": {
        "colab": {
          "base_uri": "https://localhost:8080/"
        },
        "id": "n-Ne-79aMR0v",
        "outputId": "2694c2ae-b5c3-47df-eb92-5ad6ee54afa7"
      },
      "execution_count": 104,
      "outputs": [
        {
          "output_type": "stream",
          "name": "stdout",
          "text": [
            "           도수      상대도수\n",
            "Survived               \n",
            "0         549  0.616162\n",
            "1         342  0.383838\n"
          ]
        }
      ]
    },
    {
      "cell_type": "code",
      "source": [
        "# 상관계수, 스피어만 순위상관계수, 켄달의 타우\n",
        "\n",
        "from scipy.stats import spearmanr, kendalltau\n",
        "corr, p = spearmanr(titanic['Survived'], titanic['Pclass'])\n",
        "print(\"스피어만 상관계수는 {:.3f}, p-value는 {:.3f}\".format(corr, p))\n",
        "\n",
        "corr2, p2 = kendalltau(titanic['Survived'], titanic['Pclass'])\n",
        "print(\"켄달타우 상관계수는 {:.3f}, p-value는 {:.3f}\".format(corr2,p2))"
      ],
      "metadata": {
        "colab": {
          "base_uri": "https://localhost:8080/"
        },
        "id": "XtNJAartMyvT",
        "outputId": "4dbb77f0-ad31-4125-a3c9-ad50e2305f54"
      },
      "execution_count": 105,
      "outputs": [
        {
          "output_type": "stream",
          "name": "stdout",
          "text": [
            "스피어만 상관계수는 -0.340, p-value는 0.000\n",
            "켄달타우 상관계수는 -0.324, p-value는 0.000\n"
          ]
        }
      ]
    },
    {
      "cell_type": "code",
      "source": [
        "# 질적변수 탐색 시각화\n",
        "\n",
        "#plotting 환경 설정\n",
        "import matplotlib.pyplot as plt\n",
        "plt.rcParams[\"figure.figsize\"] = (5, 5) # 그래프 그리기\n",
        "plt.rcParams[\"font.family\"] = 'NanumGothic' # 글꼴\n",
        "plt.rcParams[\"font.size\"] = 12 # 글꼴 크기\n",
        "plt.rcParams['axes.unicode_minus'] = False # 마이너스 표기\n",
        "fig, ax = plt.subplots(1,2, figsize=(10, 5)) # 그래프 구성\n",
        "\n",
        "# 막대 그래프\n",
        "ax[0].set_title('Survived 막대 그래프')\n",
        "freq['도수'].plot.bar(ax=ax[0], color=['yellow', 'purple'])\n",
        "\n",
        "# 파이 그래프\n",
        "ax[1].set_title('Survived 파이 그래프')\n",
        "ax[1].pie(freq['도수'].values, labels=freq['도수'].index, autopct = \"%.2f%%\", colors = ['yellow', 'purple'])\n",
        "plt.show()"
      ],
      "metadata": {
        "colab": {
          "base_uri": "https://localhost:8080/",
          "height": 486
        },
        "id": "4sMRU8IxNr6W",
        "outputId": "a175b04d-f615-427a-8579-f814d19c188b"
      },
      "execution_count": 106,
      "outputs": [
        {
          "output_type": "display_data",
          "data": {
            "text/plain": [
              "<Figure size 1000x500 with 2 Axes>"
            ],
            "image/png": "[encoded data removed]"
          },
          "metadata": {}
        }
      ]
    },
    {
      "cell_type": "code",
      "source": [],
      "metadata": {
        "colab": {
          "base_uri": "https://localhost:8080/"
        },
        "id": "JJt5UA-GJ8QP",
        "outputId": "4d60b300-cc8d-4323-9cf6-c96075ae92b6"
      },
      "execution_count": 125,
      "outputs": [
        {
          "output_type": "stream",
          "name": "stdout",
          "text": [
            "<class 'pandas.core.frame.DataFrame'>\n",
            "RangeIndex: 5 entries, 0 to 4\n",
            "Data columns (total 2 columns):\n",
            " #   Column  Non-Null Count  Dtype   \n",
            "---  ------  --------------  -----   \n",
            " 0   Age     5 non-null      category\n",
            " 1   count   5 non-null      int64   \n",
            "dtypes: category(1), int64(1)\n",
            "memory usage: 429.0 bytes\n",
            "None\n"
          ]
        }
      ]
    },
    {
      "cell_type": "code",
      "source": [
        "# 계급의 개수를 지정하여 도수분포표 생성\n",
        "# Pandas라이브러리의 cut을 사용하여, Age 변수를 5구간으로 나누고,\n",
        "# .values_counts()를 적용하여 구간별 도수를 구하고\n",
        "# .reset_index()를 통해 인덱스를 리셋한 후\n",
        "# 구간별로 나눈 Age를 계급으로한 구간별로 오름차순으로 정렬\n",
        "\n",
        "# 상대도수를 구하기 위해 .apply(lambda x: )를 사용하여 각 도수들(x)을 도수의 합(sum)\n",
        "# 으로 나누었다.\n",
        "\n",
        "from pandas import cut\n",
        "result1 = cut(titanic['Age'], bins=5)\n",
        "freq1 = DataFrame(result1.value_counts()).reset_index()\n",
        "freq1 = freq1.rename(columns={'Age' :'계급', 'count' : '도수'}).sort_values(by='계급')\n",
        "\n",
        "# freq1의 상대 도수분포표 추가\n",
        "freq1['상대도수'] = freq1['도수'].apply(lambda x: x / freq1['도수'].sum())\n",
        "print(freq1)"
      ],
      "metadata": {
        "colab": {
          "base_uri": "https://localhost:8080/"
        },
        "id": "Z9tl_vVOEVn0",
        "outputId": "30960557-34ed-4384-cd16-3896bc4d7348"
      },
      "execution_count": 128,
      "outputs": [
        {
          "output_type": "stream",
          "name": "stdout",
          "text": [
            "                 계급   도수      상대도수\n",
            "2    (0.34, 16.336]  100  0.140056\n",
            "0  (16.336, 32.252]  346  0.484594\n",
            "1  (32.252, 48.168]  188  0.263305\n",
            "3  (48.168, 64.084]   69  0.096639\n",
            "4    (64.084, 80.0]   11  0.015406\n"
          ]
        }
      ]
    },
    {
      "cell_type": "code",
      "source": [],
      "metadata": {
        "id": "DIdoqTuULO8Y"
      },
      "execution_count": null,
      "outputs": []
    }
  ]
}