{
  "cells": [
    {
      "cell_type": "markdown",
      "metadata": {
        "id": "view-in-github",
        "colab_type": "text"
      },
      "source": [
        "<a href=\"https://colab.research.google.com/github/cpu-once/NationalScienceandTechnologyBigDataAnalysis/blob/main/01-01_%EA%B3%B5%ED%86%B5.ipynb\" target=\"_parent\"><img src=\"https://colab.research.google.com/assets/colab-badge.svg\" alt=\"Open In Colab\"/></a>"
      ]
    },
    {
      "cell_type": "code",
      "source": [
        "# 데이터 불러오기, pandas의 read_csv를 통해 csv 파일을 데이터프레임 형태로 불렁올 수 있다.\n",
        "# head.(2)를 통해 앞의 두 줄만 출력하였다.\n",
        "from pandas import read_csv\n",
        "titanic = read_csv('https://raw.githubusercontent.com/algoboni/pythoncodebook1-1/main/1-1_titanic.csv')\n",
        "print(titanic.head(2))"
      ],
      "metadata": {
        "id": "d4HXz5w9C8OS",
        "outputId": "d8b0e653-d6d0-455a-9fd1-0fcc3390aef9",
        "colab": {
          "base_uri": "https://localhost:8080/"
        }
      },
      "execution_count": 16,
      "outputs": [
        {
          "output_type": "stream",
          "name": "stdout",
          "text": [
            "   PassengerId  Survived  Pclass  \\\n",
            "0            1         0       3   \n",
            "1            2         1       1   \n",
            "\n",
            "                                                Name     Sex   Age  SibSp  \\\n",
            "0                            Braund, Mr. Owen Harris    male  22.0      1   \n",
            "1  Cumings, Mrs. John Bradley (Florence Briggs Th...  female  38.0      1   \n",
            "\n",
            "   Parch     Ticket     Fare Cabin Embarked  \n",
            "0      0  A/5 21171   7.2500   NaN        S  \n",
            "1      0   PC 17599  71.2833   C85        C  \n"
          ]
        }
      ]
    },
    {
      "cell_type": "code",
      "source": [
        "# 데이터 프레임 객체에 .info()를 함으로써 변수 별 결측치 개수와 데이터 타입을 확인할 수 있다.\n",
        "print(titanic.info())\n"
      ],
      "metadata": {
        "id": "E_l4s9RBpZxx",
        "outputId": "f360eea8-68fa-4870-b95b-e795c79c908f",
        "colab": {
          "base_uri": "https://localhost:8080/"
        }
      },
      "execution_count": 17,
      "outputs": [
        {
          "output_type": "stream",
          "name": "stdout",
          "text": [
            "<class 'pandas.core.frame.DataFrame'>\n",
            "RangeIndex: 891 entries, 0 to 890\n",
            "Data columns (total 12 columns):\n",
            " #   Column       Non-Null Count  Dtype  \n",
            "---  ------       --------------  -----  \n",
            " 0   PassengerId  891 non-null    int64  \n",
            " 1   Survived     891 non-null    int64  \n",
            " 2   Pclass       891 non-null    int64  \n",
            " 3   Name         891 non-null    object \n",
            " 4   Sex          891 non-null    object \n",
            " 5   Age          714 non-null    float64\n",
            " 6   SibSp        891 non-null    int64  \n",
            " 7   Parch        891 non-null    int64  \n",
            " 8   Ticket       891 non-null    object \n",
            " 9   Fare         891 non-null    float64\n",
            " 10  Cabin        204 non-null    object \n",
            " 11  Embarked     889 non-null    object \n",
            "dtypes: float64(2), int64(5), object(5)\n",
            "memory usage: 83.7+ KB\n",
            "None\n"
          ]
        }
      ]
    },
    {
      "cell_type": "code",
      "source": [
        "# feature 삭제\n",
        "del_feat = ['PassengerId', 'Cabin']\n",
        "titanic = titanic.drop(del_feat, axis=1)\n",
        "\n",
        "# 질적 변수의 데이터 타입을 category로 변경\n",
        "qual = ['Survived', 'Pclass', 'Name', 'Sex', 'Ticket', 'Embarked']\n",
        "quan = ['Age', 'SibSp', 'Parch', 'Fare']\n",
        "\n",
        "for col in qual:\n",
        "  titanic[col] = titanic[col].astype('category')\n",
        "print(titanic.info())\n",
        "\n",
        "# 결측치를 살펴보면, Age, Cabin, Embarked는 결측치가 있는 것으로 확인 된다.\n",
        "# Cabin은 결측치가 과반수 이상이기 때문에 삭제 하기로하며\n",
        "# 수치적으로 의미가 없는 것으로 보이는 PassengerId도 삭제\n",
        "# 질적변수임에도 불구하고 양적변수로 표시된 Survived, Pcalss와 나머지 질적변수들의 데이터 타입은\n",
        "# 위의 astype 함수를 통해 category 타입으로 변경 가능하다."
      ],
      "metadata": {
        "id": "z5aHGfKgpdN2",
        "outputId": "e8c61a38-e932-4c8f-8ab4-63ca52b4e5e3",
        "colab": {
          "base_uri": "https://localhost:8080/"
        }
      },
      "execution_count": 18,
      "outputs": [
        {
          "output_type": "stream",
          "name": "stdout",
          "text": [
            "<class 'pandas.core.frame.DataFrame'>\n",
            "RangeIndex: 891 entries, 0 to 890\n",
            "Data columns (total 10 columns):\n",
            " #   Column    Non-Null Count  Dtype   \n",
            "---  ------    --------------  -----   \n",
            " 0   Survived  891 non-null    category\n",
            " 1   Pclass    891 non-null    category\n",
            " 2   Name      891 non-null    category\n",
            " 3   Sex       891 non-null    category\n",
            " 4   Age       714 non-null    float64 \n",
            " 5   SibSp     891 non-null    int64   \n",
            " 6   Parch     891 non-null    int64   \n",
            " 7   Ticket    891 non-null    category\n",
            " 8   Fare      891 non-null    float64 \n",
            " 9   Embarked  889 non-null    category\n",
            "dtypes: category(6), float64(2), int64(2)\n",
            "memory usage: 96.2 KB\n",
            "None\n"
          ]
        }
      ]
    },
    {
      "cell_type": "code",
      "source": [
        "# 데이터프레임 객체에 .describe()를 함으로써 각 데이터 타입 별로 데이터의 기술 통계를 확인할 수 있다.\n",
        "# 질적변수에 대해서는 count(데이터개수), unique9번주형변수의 level의 개수), top(빈도가 가장 높은\n",
        "# level), freq(top level의 빈도)라는 정보를 제공한다.\n",
        "# 양적변수에 대해서는 count(데이터개수), mean(평균), std(표준편차), min(최솟값), 25%(1사분위수)\n",
        "#, 50%(2사분위수), 75%(3사분위수), max(최댓값)라는 정보를 제공한다.\n",
        "\n",
        "# .describe()의 파라미터 include를 'all'로 설저하면 모든 데이터 타입의 변수에 대해 기술 통계를\n",
        "# 제공하고, include=['float64', 'int64']와 같이\n",
        "# 특정 데이터 타입의 리스트를 입력하면 해당 데이터 타입에 대한 기술 통계만 확인할 수 있다.\n",
        "\n",
        "print(titanic.describe(include=['float64', 'int64']))\n",
        "print(titanic.describe(include=['category']))"
      ],
      "metadata": {
        "id": "Zn5aP_y2poL7",
        "outputId": "3f7fbb96-6b26-4fde-9ed5-fc2d9ac1010d",
        "colab": {
          "base_uri": "https://localhost:8080/"
        }
      },
      "execution_count": 22,
      "outputs": [
        {
          "output_type": "stream",
          "name": "stdout",
          "text": [
            "              Age       SibSp       Parch        Fare\n",
            "count  714.000000  891.000000  891.000000  891.000000\n",
            "mean    29.699118    0.523008    0.381594   32.204208\n",
            "std     14.526497    1.102743    0.806057   49.693429\n",
            "min      0.420000    0.000000    0.000000    0.000000\n",
            "25%     20.125000    0.000000    0.000000    7.910400\n",
            "50%     28.000000    0.000000    0.000000   14.454200\n",
            "75%     38.000000    1.000000    0.000000   31.000000\n",
            "max     80.000000    8.000000    6.000000  512.329200\n",
            "        Survived  Pclass                         Name   Sex Ticket Embarked\n",
            "count        891     891                          891   891    891      889\n",
            "unique         2       3                          891     2    681        3\n",
            "top            0       3  van Melkebeke, Mr. Philemon  male   1601        S\n",
            "freq         549     491                            1   577      7      644\n"
          ]
        }
      ]
    }
  ],
  "metadata": {
    "colab": {
      "name": "Colab 시작하기",
      "toc_visible": true,
      "provenance": [],
      "include_colab_link": true
    },
    "kernelspec": {
      "display_name": "Python 3",
      "name": "python3"
    }
  },
  "nbformat": 4,
  "nbformat_minor": 0
}