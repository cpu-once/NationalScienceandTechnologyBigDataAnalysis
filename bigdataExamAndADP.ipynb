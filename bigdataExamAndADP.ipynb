{
  "nbformat": 4,
  "nbformat_minor": 0,
  "metadata": {
    "colab": {
      "provenance": [],
      "toc_visible": true,
      "authorship_tag": "ABX9TyNHtLIxLXgY1Chd/VTntgx1",
      "include_colab_link": true
    },
    "kernelspec": {
      "name": "python3",
      "display_name": "Python 3"
    },
    "language_info": {
      "name": "python"
    }
  },
  "cells": [
    {
      "cell_type": "markdown",
      "metadata": {
        "id": "view-in-github",
        "colab_type": "text"
      },
      "source": [
        "<a href=\"https://colab.research.google.com/github/cpu-once/NationalScienceandTechnologyBigDataAnalysis/blob/main/bigdataExamAndADP.ipynb\" target=\"_parent\"><img src=\"https://colab.research.google.com/assets/colab-badge.svg\" alt=\"Open In Colab\"/></a>"
      ]
    },
    {
      "cell_type": "markdown",
      "source": [
        "# PART-1-CHAPTER-01 | 파이썬"
      ],
      "metadata": {
        "id": "ircXLWqtzrmV"
      }
    },
    {
      "cell_type": "code",
      "source": [
        "### 출력\n",
        "# 문자 출력\n",
        "print(\"안녕! 시나공\")\n",
        "\n",
        "# 숫자 출력\n",
        "print(2024)\n",
        "\n",
        "#자동  출력\n",
        "\"길벗은\"\n",
        "\"여러분의 합격을 응원합니다.\""
      ],
      "metadata": {
        "id": "ZvgLLn662XzS",
        "colab": {
          "base_uri": "https://localhost:8080/",
          "height": 73
        },
        "outputId": "c6d98eeb-e209-417b-a64e-9d01a6e12469"
      },
      "execution_count": null,
      "outputs": [
        {
          "output_type": "stream",
          "name": "stdout",
          "text": [
            "안녕! 시나공\n",
            "2024\n"
          ]
        },
        {
          "output_type": "execute_result",
          "data": {
            "text/plain": [
              "'여러분의 합격을 응원합니다.'"
            ],
            "application/vnd.google.colaboratory.intrinsic+json": {
              "type": "string"
            }
          },
          "metadata": {},
          "execution_count": 11
        }
      ]
    },
    {
      "cell_type": "code",
      "source": [
        "# 주석\n",
        "#한 줄 주석처리\n",
        "print(\"파이썬\")\n",
        "# print(\"파이썬은 쉽다\")\n",
        "\n",
        "# 여러 줄 주석처리\n",
        "# print(\"이 책의 저자 김태헌입니다.\")\n",
        "print(\"여러분의 합격을 가장 빠른 길로 안내할게요!\")\n",
        "# print(\"믿고 따라와주세요!\")"
      ],
      "metadata": {
        "id": "TbC8JpLa2eMo",
        "colab": {
          "base_uri": "https://localhost:8080/"
        },
        "outputId": "216db4ad-0711-4995-8b41-38280d4a4efc"
      },
      "execution_count": null,
      "outputs": [
        {
          "output_type": "stream",
          "name": "stdout",
          "text": [
            "파이썬\n",
            "여러분의 합격을 가장 빠른 길로 안내할게요!\n"
          ]
        }
      ]
    },
    {
      "cell_type": "code",
      "source": [
        "# 산술 연산자\n",
        "#사칙 연산\n",
        "print(1+2, 4-1, 2*3, 16/3)\n",
        "\n",
        "# 나누기 결과\n",
        "15/3\n",
        "\n",
        "# 몫 연산자\n",
        "16//3\n",
        "\n",
        "# 나머지 연산자\n",
        "16%3\n",
        "\n",
        "#거듭 제곱\n",
        "4**2\n",
        "\n",
        "#제곱근 16**0.5\n",
        "16**0.5\n",
        "\n",
        "# 산술 연산자 우선순위\n",
        "4+3*2\n",
        "\n",
        "# ** > (*, /. //, %) > (+, -)\n",
        "\n",
        "# 문자끼리 더하기\n",
        "\"py\" + \"thon\"\n",
        "\n",
        "# 문자와 숫자 더하기\n",
        "\"py\" + 3\n"
      ],
      "metadata": {
        "id": "wNE7KRh22foz",
        "colab": {
          "base_uri": "https://localhost:8080/",
          "height": 193
        },
        "outputId": "3439cef9-fb53-4c8f-d6dd-f3111a7a79dc"
      },
      "execution_count": null,
      "outputs": [
        {
          "output_type": "stream",
          "name": "stdout",
          "text": [
            "3 3 6 5.333333333333333\n"
          ]
        },
        {
          "output_type": "error",
          "ename": "TypeError",
          "evalue": "can only concatenate str (not \"int\") to str",
          "traceback": [
            "\u001b[0;31m---------------------------------------------------------------------------\u001b[0m",
            "\u001b[0;31mTypeError\u001b[0m                                 Traceback (most recent call last)",
            "\u001b[0;32m/tmp/ipython-input-2334435001.py\u001b[0m in \u001b[0;36m<cell line: 0>\u001b[0;34m()\u001b[0m\n\u001b[1;32m     27\u001b[0m \u001b[0;34m\u001b[0m\u001b[0m\n\u001b[1;32m     28\u001b[0m \u001b[0;31m# 문자와 숫자 더하기\u001b[0m\u001b[0;34m\u001b[0m\u001b[0;34m\u001b[0m\u001b[0m\n\u001b[0;32m---> 29\u001b[0;31m \u001b[0;34m\"py\"\u001b[0m \u001b[0;34m+\u001b[0m \u001b[0;36m3\u001b[0m\u001b[0;34m\u001b[0m\u001b[0;34m\u001b[0m\u001b[0m\n\u001b[0m",
            "\u001b[0;31mTypeError\u001b[0m: can only concatenate str (not \"int\") to str"
          ]
        }
      ]
    },
    {
      "cell_type": "code",
      "source": [
        "# 자료형\n",
        "# 정수형\n",
        "type(1)\n",
        "\n",
        "# 실수형\n",
        "type(1.1)\n",
        "\n",
        "# 문자열\n",
        "type('helllo')\n",
        "\n",
        "# 숫자로 된 문자\n",
        "type('3')\n",
        "\n",
        "# 같지만 다른 숫자\n",
        "type(3),type(3.0), type('3')\n",
        "\n",
        "# 참과 거짓\n",
        "type(True), type(False)\n",
        "\n",
        "# 참은 1, 거짓은 0\n",
        "True + True + True + False + False"
      ],
      "metadata": {
        "id": "muF9TrzN2iWN",
        "colab": {
          "base_uri": "https://localhost:8080/"
        },
        "outputId": "6cd927df-273b-4fc0-c7ce-036628864d18"
      },
      "execution_count": null,
      "outputs": [
        {
          "output_type": "execute_result",
          "data": {
            "text/plain": [
              "3"
            ]
          },
          "metadata": {},
          "execution_count": 16
        }
      ]
    },
    {
      "cell_type": "code",
      "source": [
        "# 변수\n",
        "# 예약어\n",
        "# False, assert, def, for, is , raise, None, async, del, from, lambda, return, True, await, elif\n",
        "# global, nonlocal, try, __peg_parser__, break, else, if, not, while, and, class, except, import,\n",
        "# or, with, as, continue, finally, in, pass, yield\n",
        "# 예약어를 가까운 거리의 단어 순서대로 그룹핑한다면?\n",
        "\n",
        "# 변수에 값 대입\n",
        "americano = 4500\n",
        "\n",
        "# 변수 출력\n",
        "print(americano) # 변수 출력\n",
        "print('americano') #문자 출력\n",
        "\n",
        "# 변수 연산\n",
        "latte = 5000\n",
        "print(americano + latte)\n",
        "\n",
        "# 결괏값 변수에 대입\n",
        "result = americano + latte\n",
        "print(result)\n",
        "\n",
        "# 변수 업데이트\n",
        "americano = 4500\n",
        "americano = americano - 1000\n",
        "print(americano)\n",
        "\n",
        "# 다중 변수 할당\n",
        "a, b, c = 10, 20, 30\n",
        "print(a)\n",
        "print(b)\n",
        "print(c)\n",
        "print(a+b+c)"
      ],
      "metadata": {
        "id": "RiVknWB32jsj"
      },
      "execution_count": null,
      "outputs": []
    },
    {
      "cell_type": "code",
      "source": [
        "# 자료형 변환\n",
        "# 임시적 자료형 변환 (implicit)\n",
        "a = 2\n",
        "b = 0.17\n",
        "a = a + b\n",
        "type(a)\n",
        "\n",
        "# 명시적 자료형 변환 (explicit)\n",
        "box = 2.17\n",
        "print(\"문자열: \", str(box))\n",
        "print(\"정수형: \", int(box))\n",
        "\n",
        "#자료형 변환\n",
        "box = \"3.14\"\n",
        "box = float(box) + 10\n",
        "box"
      ],
      "metadata": {
        "id": "c2gi9PD82oP-"
      },
      "execution_count": null,
      "outputs": []
    },
    {
      "cell_type": "code",
      "source": [
        "# 비교 연산자\n",
        "# 참 조건\n",
        "10 > 5\n",
        "\n",
        "# 거짓 조건\n",
        "10 < 5\n",
        "\n",
        "# 크거나(작거나) 같다\n",
        "10 >= 5\n",
        "\n",
        "# 두 값이 같다\n",
        "10 == 10\n",
        "\n",
        "# 두 값이 다르다\n",
        "10 != 5\n",
        "\n",
        "# 변수 값 비교\n",
        "a = 10\n",
        "b = 10\n",
        "a == b\n",
        "\n",
        "# 참 조건\n",
        "a >= b\n",
        "\n",
        "# 거짓 조건\n",
        "a > b\n",
        "\n",
        "# 문자 비교\n",
        "c = \"빅데이터\"\n",
        "d = \"빅데이터\"\n",
        "e = \"데이터\"\n",
        "\n",
        "# 주소비교가 아니라 값 비교\n",
        "print(c == d)\n",
        "print(d == e)"
      ],
      "metadata": {
        "id": "t-0Ou0_T2p_x"
      },
      "execution_count": null,
      "outputs": []
    },
    {
      "cell_type": "code",
      "source": [
        "# 조건문\n",
        "\n",
        "점수=87\n",
        "\n",
        "if 점수 >= 90:\n",
        "  print(\"A\")\n",
        "elif 점수 >= 80:\n",
        "  print(\"B\")\n",
        "elif 점수 >= 70:\n",
        "  print(\"C\")\n",
        "else:\n",
        "  print(\"D\")\n",
        "\n",
        "# 조건문 (참)\n",
        "if True:\n",
        "  print(\"실행\")\n",
        "\n",
        "# 조건문 (거짓)\n",
        "if False:\n",
        "  print(\"무시\")\n",
        "\n",
        "# 비교 연산자\n",
        "score = 10\n",
        "if score >= 10:\n",
        "  print(\"10보다 크거나 같다\")\n",
        "\n",
        "if score > 9:\n",
        "  print(\"9 보다 크다\")\n",
        "\n",
        "if score <= 10:\n",
        "  print(\"10보다 작거나 같다\")\n",
        "\n",
        "if score < 11:\n",
        "  print(\"11 보다 작다\")\n",
        "\n",
        "if score == 10:\n",
        "  print(\"score는 10이다\")\n",
        "\n",
        "if score != 11:\n",
        "  print(\"score는 11과 같지 않다\")\n",
        "\n",
        "# 논리 연산자\n",
        "# True and True = True\n",
        "# True and False = False\n",
        "# False and False = False\n",
        "# True or True = True\n",
        "# True or False = True\n",
        "# False or Flalse = False\n",
        "\n",
        "print(\"True and True: \", True and True)\n",
        "print(\"True and False: \", True and False)\n",
        "print(\"False and False: \", False and False)\n",
        "print(\"True or True: \", True or True)\n",
        "print(\"True or False: \", True or False)\n",
        "print(\"False or False: \", False or False)\n",
        "\n",
        "# else\n",
        "if score < 10 and score >=5:\n",
        "  print(\"score는 5이상, 10 미만입니다.\")\n",
        "else:\n",
        "  print(\"scpre는 5 미만, 10 이상입니다.\")\n",
        "\n",
        "# elif\n",
        "socre = 7\n",
        "\n",
        "if score > 10:\n",
        "  print(\"A\")\n",
        "elif score < 10 and score >= 5:\n",
        "  print(\"B\")\n",
        "else:\n",
        "  print(\"C\")\n",
        "\n",
        "# 조건문의 구성\n",
        "score = 2\n",
        "\n",
        "if score >= 10:\n",
        "  print(\"score는 10 이상입니다.\")\n",
        "elif score < 10 and score >=5:\n",
        "  print(\"scpre는 5 이상 10 미만입니다.\")\n",
        "elif score < 4 and score >=3:\n",
        "  print(\"score는 2 이하입니다.\")\n",
        "else:\n",
        "  print(\"score는 2 이하입니다.\")"
      ],
      "metadata": {
        "id": "O2YzvtPT2rcp",
        "colab": {
          "base_uri": "https://localhost:8080/"
        },
        "outputId": "ad034fee-f758-4e54-b7ae-147905409dd9"
      },
      "execution_count": null,
      "outputs": [
        {
          "output_type": "stream",
          "name": "stdout",
          "text": [
            "B\n",
            "실행\n",
            "10보다 크거나 같다\n",
            "9 보다 크다\n",
            "10보다 작거나 같다\n",
            "11 보다 작다\n",
            "score는 10이다\n",
            "score는 11과 같지 않다\n",
            "True and True:  True\n",
            "True and False:  False\n",
            "False and False:  False\n",
            "True or True:  True\n",
            "True or False:  True\n",
            "False or False:  False\n",
            "scpre는 5 미만, 10 이상입니다.\n",
            "C\n",
            "score는 2 이하입니다.\n"
          ]
        }
      ]
    },
    {
      "cell_type": "code",
      "source": [
        "# 리스트\n",
        "# 리스트 생성\n",
        "# 인덱스는 0 부터 시작\n",
        "listbox = [4, 2, 10, 6, 8]\n",
        "print(listbox)\n",
        "\n",
        "# 리스트의 첫 번째 값\n",
        "print(listbox[0])\n",
        "\n",
        "# 리스트 자료형 확인\n",
        "print(type(listbox))\n",
        "\n",
        "# 리스트 생성(문자) - 작은따옴표 혹은 큰 따옴표\n",
        "listbox = [\"길벗\", \"시나공\", \"빅데이터\"]\n",
        "print(listbox)\n",
        "\n",
        "# 리스트 값 추가\n",
        "listbox.append(\"분석\")\n",
        "print(listbox)\n",
        "\n",
        "# 리스트 정렬\n",
        "listbox = [4, 2, 10, 6, 8]\n",
        "listbox_sorted = sorted(listbox)\n",
        "listbox_sorted\n",
        "\n",
        "# 내림차순 정렬\n",
        "sorted(listbox, reverse=True)\n",
        "\n",
        "# 문자가 있는 리스트 자료형도 정렬 가능. , 단 문자와 숫자가 섞여 있다면 정렬할 수 없음"
      ],
      "metadata": {
        "id": "14QGLaGq2sni",
        "colab": {
          "base_uri": "https://localhost:8080/"
        },
        "outputId": "7f7b095f-611e-4a5f-82f3-2d4b05a729cc"
      },
      "execution_count": null,
      "outputs": [
        {
          "output_type": "stream",
          "name": "stdout",
          "text": [
            "[4, 2, 10, 6, 8]\n",
            "4\n",
            "<class 'list'>\n",
            "['길벗', '시나공', '빅데이터']\n",
            "['길벗', '시나공', '빅데이터', '분석']\n"
          ]
        },
        {
          "output_type": "execute_result",
          "data": {
            "text/plain": [
              "[10, 8, 6, 4, 2]"
            ]
          },
          "metadata": {},
          "execution_count": 33
        }
      ]
    },
    {
      "cell_type": "code",
      "source": [
        "# 딕셔너리\n",
        "\n",
        "# 딕셔너리 생성\n",
        "dictbox = {'name' : '쿼카', 'level' : 5}\n",
        "\n",
        "# 딕셔너리 자료형\n",
        "print(type(dictbox))\n",
        "\n",
        "# 딕셔너리 값 출력\n",
        "print(dictbox['name'])\n",
        "print(dictbox['level'])\n",
        "\n",
        "# 딕셔너리 값 변경\n",
        "dictbox['level'] = 6\n",
        "print(dictbox['level'])\n",
        "\n",
        "# 딕셔너리 키\n",
        "print(dictbox.keys())\n",
        "\n",
        "# 딕셔너리 값\n",
        "print(dictbox.values())\n",
        "\n",
        "# 딕셔너리 키와 값\n",
        "print(dictbox.items())\n",
        "\n",
        "# 딕셔너리를 리스트로 변환\n",
        "print(list(dictbox.values()))\n",
        "\n",
        "# 딕셔너리 생성(변수)\n",
        "a = '합격맛집'\n",
        "b = '길벗'\n",
        "c = '출판사'\n",
        "\n",
        "dictbox = {'name': a, c:b}\n",
        "print(dictbox)\n",
        "\n",
        "# 딕셔너리 생성(리스트)\n",
        "listbox1 = ['딴짓분식', '딴짓카페', '딴짓피자']\n",
        "listbox2 = [4.8, 4.9, 5.0]\n",
        "\n",
        "dictbox = {'가게' : listbox1, '평점' : listbox2}\n",
        "print(dictbox)"
      ],
      "metadata": {
        "id": "gZ0igihC2tcB",
        "colab": {
          "base_uri": "https://localhost:8080/"
        },
        "outputId": "c8c21a12-ea7b-42be-b203-4ad1d30104e9"
      },
      "execution_count": null,
      "outputs": [
        {
          "output_type": "stream",
          "name": "stdout",
          "text": [
            "<class 'dict'>\n",
            "쿼카\n",
            "5\n",
            "6\n",
            "dict_keys(['name', 'level'])\n",
            "dict_values(['쿼카', 6])\n",
            "dict_items([('name', '쿼카'), ('level', 6)])\n",
            "['쿼카', 6]\n",
            "{'name': '합격맛집', '출판사': '길벗'}\n",
            "{'가게': ['딴짓분식', '딴짓카페', '딴짓피자'], '평점': [4.8, 4.9, 5.0]}\n"
          ]
        }
      ]
    },
    {
      "cell_type": "code",
      "source": [
        "# 인덱싱과 슬라이싱\n",
        "\n",
        "# 인덱싱\n",
        "listbox = [2, 4, 6 ,8, 10]\n",
        "print(listbox[0]) # index 0, 첫 번째 값\n",
        "print(listbox[1]) # index 3, 네 번째 값\n",
        "print(listbox[-1])\n",
        "\n",
        "# 슬라이싱\n",
        "print(listbox[0:3])\n",
        "print(listbox[1:3])\n",
        "print(listbox[3:])\n",
        "print(listbox[:3])\n",
        "print(listbox[::2])\n",
        "\n",
        "# 값 변경(슬라이싱 활용)\n",
        "listbox[1:3] = [ 10,20 ]\n",
        "print(listbox)"
      ],
      "metadata": {
        "id": "LhRuL0RF2ub3",
        "colab": {
          "base_uri": "https://localhost:8080/"
        },
        "outputId": "082e9270-13e2-49a8-e685-cd687cb182ca"
      },
      "execution_count": null,
      "outputs": [
        {
          "output_type": "stream",
          "name": "stdout",
          "text": [
            "2\n",
            "4\n",
            "10\n",
            "[2, 4, 6]\n",
            "[4, 6]\n",
            "[8, 10]\n",
            "[2, 4, 6]\n",
            "[2, 6, 10]\n",
            "[2, 10, 20, 8, 10]\n"
          ]
        }
      ]
    },
    {
      "cell_type": "code",
      "source": [
        "# 내장 함수\n",
        "listbox = [4,2,10,6,8]\n",
        "sum(listbox)\n",
        "\n",
        "#  합계\n",
        "boolbox = [True, False, False]\n",
        "print(sum(boolbox))\n",
        "\n",
        "# 최댓값\n",
        "print(max(listbox))\n",
        "\n",
        "# 최솟값\n",
        "print(min(listbox))\n",
        "\n",
        "# 항목의 개수\n",
        "print(len(listbox))\n",
        "\n",
        "# 반올림\n",
        "print(round(1.2345, 2))\n",
        "print(round(1.2375, 2))"
      ],
      "metadata": {
        "id": "KXDDHzh42wCN",
        "colab": {
          "base_uri": "https://localhost:8080/"
        },
        "outputId": "586ab0ca-fd89-4ac9-f36e-ce20a495e6fd"
      },
      "execution_count": null,
      "outputs": [
        {
          "output_type": "stream",
          "name": "stdout",
          "text": [
            "1\n",
            "10\n",
            "2\n",
            "5\n",
            "1.23\n",
            "1.24\n"
          ]
        }
      ]
    },
    {
      "cell_type": "code",
      "source": [
        "# 문자열\n",
        "# 문자 변경\n",
        "text = \"빅데이터 분석기사 파이썬 공부\"\n",
        "text = text.replace(\"공부\", \"스터디\")\n",
        "print(text)\n",
        "\n",
        "text = \"빅데이터 분석기사 파이썬 공부\"\n",
        "text = text.replace(\"파이썬\",\"머신러닝\").replace(\"분석기사\",\"분석을 위한\")\n",
        "print(text)\n",
        "\n",
        "# 문자열 슬라이싱 (앞인덱스 포함, 뒤 인덱스 미포함, [) 규칙, 인덱스 시작 0 부터)\n",
        "text = \"안녕하세요! 함께 성장해요.\"\n",
        "print(text[:2])\n",
        "print(text[7:9])\n",
        "date = \"2022-12-25\"\n",
        "print(date[5:])\n",
        "\n",
        "# 문자열 분리\n",
        "print(date.split('-'))\n",
        "print(text.split()) # splite 인자 안주면, 스페이스바를 delimiter\n",
        "print(list(date)) # 문자열을 list로 자료형 번환을 하면 한 글자씩 순서대로 값으로 가진 리스트가 된다."
      ],
      "metadata": {
        "id": "fE07yTOS2xFt",
        "colab": {
          "base_uri": "https://localhost:8080/"
        },
        "outputId": "4c07cf4a-d2b6-4033-e9bf-48c68779a104"
      },
      "execution_count": null,
      "outputs": [
        {
          "output_type": "stream",
          "name": "stdout",
          "text": [
            "빅데이터 분석기사 파이썬 스터디\n",
            "빅데이터 분석을 위한 머신러닝 공부\n",
            "안녕\n",
            "함께\n",
            "12-25\n",
            "['2022', '12', '25']\n",
            "['안녕하세요!', '함께', '성장해요.']\n",
            "['2', '0', '2', '2', '-', '1', '2', '-', '2', '5']\n"
          ]
        }
      ]
    },
    {
      "cell_type": "code",
      "source": [
        "# 반복문\n",
        "listbox = [2, 4, 6, 8, 10]\n",
        "for item in listbox:\n",
        "  print(item)\n",
        "\n",
        "print()\n",
        "\n",
        "# for 문 코드 범위\n",
        "listbox = [2, 4, 6, 8, 10]\n",
        "for item in listbox:\n",
        "  print(item)\n",
        "print(\"끝\")\n",
        "\n",
        "print()\n",
        "\n",
        "listbox = [2, 4, 6, 8, 10]\n",
        "for item in listbox:\n",
        "  result = item + 1\n",
        "  print(result)\n",
        "\n",
        "print()\n",
        "\n",
        "# range() 활용\n",
        "for item in range(5):\n",
        "  print(item)\n",
        "\n",
        "print()\n",
        "\n",
        "for i in range(5,10):\n",
        "  print(i)\n",
        "\n",
        "print()\n",
        "\n",
        "#list.append()\n",
        "listbox = []\n",
        "for i in range(1,6):\n",
        "  listbox.append(i)\n",
        "print(listbox)\n",
        "\n",
        "#enumerate()\n",
        "listbox = ['길벗', '시나공', '빅분기', '분석']\n",
        "for index, item in enumerate(listbox):\n",
        "  print(index, item)\n",
        "\n",
        "#zip()\n",
        "person_info = {\n",
        "    'name' : '사랑',\n",
        "    'age' : 20,\n",
        "    'city' : '부산',\n",
        "    'hobbies' : ['연애', '수영', '코딩']\n",
        "}\n",
        "for k, v in zip(person_info.keys(), person_info.values()):\n",
        "  print(k,v)"
      ],
      "metadata": {
        "id": "Z0Xrqnrp2x9Z",
        "colab": {
          "base_uri": "https://localhost:8080/"
        },
        "outputId": "a3df0fa4-178b-464d-fc46-8810c88533d7"
      },
      "execution_count": 20,
      "outputs": [
        {
          "output_type": "stream",
          "name": "stdout",
          "text": [
            "2\n",
            "4\n",
            "6\n",
            "8\n",
            "10\n",
            "\n",
            "2\n",
            "4\n",
            "6\n",
            "8\n",
            "10\n",
            "끝\n",
            "\n",
            "3\n",
            "5\n",
            "7\n",
            "9\n",
            "11\n",
            "\n",
            "0\n",
            "1\n",
            "2\n",
            "3\n",
            "4\n",
            "\n",
            "5\n",
            "6\n",
            "7\n",
            "8\n",
            "9\n",
            "\n",
            "[1, 2, 3, 4, 5]\n",
            "0 길벗\n",
            "1 시나공\n",
            "2 빅분기\n",
            "3 분석\n",
            "name 사랑\n",
            "age 20\n",
            "city 부산\n",
            "hobbies ['연애', '수영', '코딩']\n"
          ]
        }
      ]
    },
    {
      "cell_type": "code",
      "source": [
        "# 함수\n",
        "# 일반함수\n",
        "def hello(): #함수 정의\n",
        "  print(\"안녕하세요!\")\n",
        "\n",
        "hello() # 함수 호출\n",
        "hello() # 함수 호출\n",
        "hello() # 함수 호출\n",
        "\n",
        "# 매개변수가 있는 함수\n",
        "def hello(name):\n",
        "  print(\"hello\"+ name)\n",
        "\n",
        "hello(\"빅분기\")\n",
        "\n",
        "# 2개의 매개변수를 받아 이를 더하는 함수\n",
        "def plus(x, y):\n",
        "  print(x+y)\n",
        "\n",
        "  a = 2\n",
        "  b = 3\n",
        "  plus(a,b)\n",
        "\n",
        "# 변환 값이 있는 함수\n",
        "def plus(x,y):\n",
        "  result = x+y\n",
        "  return result\n",
        "\n",
        "a = plus(2,3)\n",
        "print(a)"
      ],
      "metadata": {
        "id": "bcra4eFu2ykd",
        "colab": {
          "base_uri": "https://localhost:8080/"
        },
        "outputId": "808531b7-2131-4328-f261-8f582f118c03"
      },
      "execution_count": 26,
      "outputs": [
        {
          "output_type": "stream",
          "name": "stdout",
          "text": [
            "안녕하세요!\n",
            "안녕하세요!\n",
            "안녕하세요!\n",
            "hello빅분기\n",
            "5\n"
          ]
        }
      ]
    },
    {
      "cell_type": "code",
      "source": [
        "# 확인문제\n",
        "listbox = [\"감사\", \"행복\", \"사랑\", \"성공\", \"긍정\", \"변화\", \"성장\", \"희망\"]\n",
        "# 1. 리스트에 있는 값의 수를 출력하시오.\n",
        "print(len(listbox))\n",
        "# 2. 리스트의 첫 번째 값을 출력하시오.\n",
        "print(listbox[0])\n",
        "# 3. 리스트의 마지막 값을 출력하시오.\n",
        "print(listbox[-1])\n",
        "# 4. 리스트에서 처음부터 세번쨰 값 까지를 출력하시오\n",
        "print(listbox[:3])\n",
        "# 5. 리스트에서 마지막 앞 단어를 출력하시오\n",
        "print(listbox[-2])\n",
        "# 6. 리스트 값 중 '행복'과 '사랑'만 출력하시오\n",
        "print(listbox[1:3])\n",
        "# 7. 리스트 값 중 '변화' -> '웃음'으로 변경하시오\n",
        "print(listbox[5])\n",
        "listbox[5] = '웃음'\n",
        "print(listbox[5])\n",
        "\n",
        "print()\n",
        "# 8. cols 변수는 컬럼명을 담고 있다. cols 리스트에 있는 name, age, phone 컬럼명을 반복문을 통해 출력하시오\n",
        "cols = ['name', 'age', 'phone']\n",
        "for col in cols:\n",
        "  print(col)\n",
        "\n",
        "print()\n",
        "# 9. 리스트에서 최댓값에서 최솟값으 뺸 결과를 리턴(반환)하는 함수를 만들고 실행하시오.\n",
        "listminmax = [1,2,3,4,5,6,7,9]\n",
        "def minmax(list):\n",
        "  return max(list) - min(list)\n",
        "\n",
        "print(minmax(listminmax))\n",
        "\n",
        "print()\n",
        "# 10. 문자열에서 \"여러분\"을 \"당신\"으로 변경한 결과를 리턴하는 함수를 만들고 실행하시오.\n",
        "str_data=\"여러분의 합격을 응원합니다!\"\n",
        "\n",
        "def replaceEveryoneToYou(someString):\n",
        "  return print(someString.replace(\"여러분\", \"당신\"))\n",
        "\n",
        "replaceEveryoneToYou(str_data)"
      ],
      "metadata": {
        "id": "ups-Ic-M20CJ",
        "colab": {
          "base_uri": "https://localhost:8080/"
        },
        "outputId": "7acd45b8-c0dc-4777-c60c-86b8a4676da1"
      },
      "execution_count": 3,
      "outputs": [
        {
          "output_type": "stream",
          "name": "stdout",
          "text": [
            "8\n",
            "감사\n",
            "희망\n",
            "['감사', '행복', '사랑']\n",
            "성장\n",
            "['행복', '사랑']\n",
            "변화\n",
            "웃음\n",
            "\n",
            "name\n",
            "age\n",
            "phone\n",
            "\n",
            "8\n",
            "\n",
            "당신의 합격을 응원합니다!\n"
          ]
        }
      ]
    },
    {
      "cell_type": "markdown",
      "source": [
        "# PART-1-CHAPTER-02 | 판다스"
      ],
      "metadata": {
        "id": "NlUSPrvPzsj3"
      }
    },
    {
      "cell_type": "code",
      "source": [
        "# 데이터프레임과 시리즈\n",
        "# 판다스의 데이터는 시리즈(Series)와 데이터프레임(DataFrame)으로 구성되어 있다.\n",
        "# 시리즈는 1차원 형태, 데이터프레임은 행(rows)과 열(columns)이 있는 2차원(표) 형태\n",
        "\n",
        "# 행과 열\n",
        "# 행은 각 데이터/레코드(가로)고, 열은 컬럼 전체(세로)다.\n",
        "# 판다스에서 축(axis)을 숫자로 나타낼 때는 행은 0, 열은 1로 표시하므로 숫자 순서대로 행(0)렬(1)로 기억하면 좋다.\n",
        "\n",
        "# 판다스의 별칭\n",
        "# 판다스 라이브러리를 불러오자 import pandas 뒤에 as pd가 붙은 것을 확인 할 수 있다.\n",
        "# 앞으로 pandas는 pd라는 별칭(alias, 줄여서 as로 사용)으로 사용하기 위함이다.\n",
        "import pandas as pd\n",
        "\n",
        "# 시리즈(Series)\n",
        "# 시리즈는 pd.Series(데이터)로 만들 수 있다.\n",
        "# 시리즈의 괄호 안 데이터는 리스트를 활용해 만들 수 있다.\n",
        "# 출력 해보면 인덱스와 값이 출력되고, 자료형은 'object'다.\n",
        "# 판다스에서 object형은 주로 문자열 데이터를 나타내는 데 사용된다.\n",
        "\n",
        "menu = pd.Series(['비빔밥', '김치찌개', '된장찌개'])\n",
        "print(menu)\n",
        "\n",
        "print()\n",
        "# 숫자를 리스트 형태로 만들고, 이를 pd.Series()로 감싸게 되면 시리즈로 변경된다.\n",
        "# 이 시리즈 값의 자료형(타입)은 int다.\n",
        "# 판다스는 리스트에 포함된 데이터 타입을 기반으로 시리즈의 데이터 타입을 자동으로 결정한다.\n",
        "\n",
        "price = pd.Series([10000, 9000, 8000])\n",
        "print(price)\n",
        "\n",
        "print()\n",
        "# 데이터 프레임\n",
        "# 앞서 만든 2개의 시리즈를 합쳐 데이터프레임(표 형태)으로 만들어 보자.\n",
        "# 데이터 프레임은 pd.DataFrame({\"컬럼명\":데이터}) 로 만든다.\n",
        "# 자세히 살펴보면 소괄호 안에 중괄호로 묶여 있다.\n",
        "# 컬럼명의 \"메뉴\"는 문자(따옴표 있음) 그 자체고, 데이터의 menu는 변수명(따옴표 없음)이다.\n",
        "\n",
        "df1 = pd.DataFrame({\n",
        "    \"메뉴\" : menu,\n",
        "    \"가격\" : price\n",
        "})\n",
        "print(df1)\n",
        "\n",
        "print()\n",
        "# 데이터프레임을 만들 때 시리즈를 꼭 거쳐야 하는 것은 아니다.\n",
        "# 다음과 같이 데이터 프레임을 만들 수도 있다.\n",
        "\n",
        "df2 = pd.DataFrame({\n",
        "    \"메뉴\" : ['비빔밥', '김치찌개', '된장찌개'],\n",
        "    \"가격\" : [10000, 9000, 8000],\n",
        "    \"원산지\" : ['국내산', '국내산', '국내산']\n",
        "})\n",
        "print(df2)\n",
        "\n",
        "print()\n",
        "# 컬럼 선택\n",
        "# 데이터 프레임에서 특정 컬럼만 선택해 표시할 수 있다.\n",
        "# df['컬럼명'] 또는 df[\"컬럼명\"] 으로 컬럼명을 작은 따옴표 또는 큰 따옴표로 묶어주면 된다.\n",
        "\n",
        "print(df2['메뉴'])\n",
        "\n",
        "print()\n",
        "# 데이터프레임과 시리즈 자료형\n",
        "# 데이터프레임에서 특정 컬럼 1개만 선택하면 시리즈 형태가 된다.\n",
        "# 시리즈 형태가 아닌 데이터 프레임이 필요할 때가 있는데,\n",
        "# 1개의 컬럼을 시리즈가 아닌 데이터프레임으로 만드는 간단한 방법은 한번 더 대괄호로 묶어주는 것이다.\n",
        "\n",
        "print(df2[['메뉴']])\n",
        "\n",
        "print()\n",
        "# 복수의 컬럼을 선택할 때는 대괄호 2개를 사용한다. 결과는 데이터프레임 자료형이다.\n",
        "print(df2[['메뉴', '가격']])\n",
        "\n",
        "print()\n",
        "# 컬럼을 1개 선택하더라도 다음과 같이 데이터프레임 자료형으로 필요할 때 대괄호 2개를 사용할 수 있다.\n",
        "df3 = pd.DataFrame({\n",
        "    \"구분\" : [\"df[]\", \"df[[]]\"],\n",
        "    \"반환된 자료형\" : [\"1개 컬럼 선택\", \"1개 이상의 컬럼 선택\"],\n",
        "    \"예\" : [\"df['컬럼1']\", \"df['컬럼1'], df[['컬럼1','컬럼2']]\"]\n",
        "})\n",
        "print(df3)\n",
        "\n",
        "print()\n",
        "# 컬럼을 복수로 선택할 때는 주로 리스트를 활용한다.\n",
        "# cols 변수에 메뉴와 가격 컬럼명을 담고 df[cols] 를 실행하면\n",
        "# cols 변수에 있는 컬럼이 선택되어 데이터프레임으로 출력된다.\n",
        "# 대괄호가 하나처럼 보이나 df[['메뉴', '가격']]과 같음을 이해한다.\n",
        "cols = ['메뉴','가격']\n",
        "df2[cols]\n",
        "\n",
        "print()\n",
        "# 자료형 비교\n",
        "# type() 함수로 자료형을 확인해 보자.\n",
        "# df는 데이터 프레임,\n",
        "# df['컬럼명']은 시리즈,\n",
        "# df[['컬럼명']]은 데이터 프레임이다.\n",
        "\n",
        "# 머신러닝(작업형2)에서 입력 데이터로 특정 컬럼을 데이터프레임으로 넣어야 할 때가 있다.\n",
        "# df['컬럼명']과 같이 컬럼명을 1개만 선택하면 시리즈 형태가 된다.\n",
        "# 데이터프레임으로 만들기 위해 df[['컬럼명']]으로 사용한다.\n",
        "# 컬럼이 1개일 때 시리즈가 아닌 데이터프레임으로 만들기 위해 대괄호 2개가 종종 사용된다.\n",
        "\n",
        "print(\"df      :\", type(df2))\n",
        "print(\"df['가격'] :\", type(df2['가격']))\n",
        "print(\"df[['가격']]:\", type(df2[['가격']]))"
      ],
      "metadata": {
        "id": "3nB5-EnC22Go",
        "colab": {
          "base_uri": "https://localhost:8080/"
        },
        "outputId": "017709f9-b991-4424-ecc3-cb12a27cad5e"
      },
      "execution_count": 47,
      "outputs": [
        {
          "output_type": "stream",
          "name": "stdout",
          "text": [
            "0     비빔밥\n",
            "1    김치찌개\n",
            "2    된장찌개\n",
            "dtype: object\n",
            "\n",
            "0    10000\n",
            "1     9000\n",
            "2     8000\n",
            "dtype: int64\n",
            "\n",
            "     메뉴     가격\n",
            "0   비빔밥  10000\n",
            "1  김치찌개   9000\n",
            "2  된장찌개   8000\n",
            "\n",
            "     메뉴     가격  원산지\n",
            "0   비빔밥  10000  국내산\n",
            "1  김치찌개   9000  국내산\n",
            "2  된장찌개   8000  국내산\n",
            "\n",
            "0     비빔밥\n",
            "1    김치찌개\n",
            "2    된장찌개\n",
            "Name: 메뉴, dtype: object\n",
            "\n",
            "     메뉴\n",
            "0   비빔밥\n",
            "1  김치찌개\n",
            "2  된장찌개\n",
            "\n",
            "     메뉴     가격\n",
            "0   비빔밥  10000\n",
            "1  김치찌개   9000\n",
            "2  된장찌개   8000\n",
            "\n",
            "       구분       반환된 자료형                             예\n",
            "0    df[]      1개 컬럼 선택                     df['컬럼1']\n",
            "1  df[[]]  1개 이상의 컬럼 선택  df['컬럼1'], df[['컬럼1','컬럼2']]\n",
            "\n",
            "\n",
            "df      : <class 'pandas.core.frame.DataFrame'>\n",
            "df['가격'] : <class 'pandas.core.series.Series'>\n",
            "df[['가격']]: <class 'pandas.core.frame.DataFrame'>\n"
          ]
        }
      ]
    },
    {
      "cell_type": "code",
      "source": [
        "# 데이터 저장 및 불러오기"
      ],
      "metadata": {
        "id": "CwtI3HjJ25SO"
      },
      "execution_count": null,
      "outputs": []
    },
    {
      "cell_type": "code",
      "source": [
        "# 자료형 변환"
      ],
      "metadata": {
        "id": "0Pzifxsr27tQ"
      },
      "execution_count": null,
      "outputs": []
    },
    {
      "cell_type": "code",
      "source": [
        "# 새로운 컬럼 추가"
      ],
      "metadata": {
        "id": "vISXpGDe29Dv"
      },
      "execution_count": null,
      "outputs": []
    },
    {
      "cell_type": "code",
      "source": [
        "# 데이터 삭제"
      ],
      "metadata": {
        "id": "PcIKNf9a2-V_"
      },
      "execution_count": null,
      "outputs": []
    },
    {
      "cell_type": "code",
      "source": [
        "# 인덱싱 / 슬라이싱 (loc)"
      ],
      "metadata": {
        "id": "SJOOj3BT2_kD"
      },
      "execution_count": null,
      "outputs": []
    },
    {
      "cell_type": "code",
      "source": [
        "# 인덱싱 / 슬라이싱 (iloc)"
      ],
      "metadata": {
        "id": "dCtXYlJ93C-t"
      },
      "execution_count": null,
      "outputs": []
    },
    {
      "cell_type": "code",
      "source": [
        "# 데이터 추가 / 변경"
      ],
      "metadata": {
        "id": "O1soxZDg3G1g"
      },
      "execution_count": null,
      "outputs": []
    },
    {
      "cell_type": "code",
      "source": [
        "# 정렬"
      ],
      "metadata": {
        "id": "r9S5v59d3Ir-"
      },
      "execution_count": null,
      "outputs": []
    },
    {
      "cell_type": "code",
      "source": [
        "# 필터링"
      ],
      "metadata": {
        "id": "8W7T9qTi3Jq4"
      },
      "execution_count": null,
      "outputs": []
    },
    {
      "cell_type": "code",
      "source": [
        "# 결측치 처리"
      ],
      "metadata": {
        "id": "l5HvYlMZ3KhF"
      },
      "execution_count": null,
      "outputs": []
    },
    {
      "cell_type": "code",
      "source": [
        "# 값 변경"
      ],
      "metadata": {
        "id": "fUdubxdP3LYY"
      },
      "execution_count": null,
      "outputs": []
    },
    {
      "cell_type": "code",
      "source": [
        "# 문자열"
      ],
      "metadata": {
        "id": "uAzBeHR13MjI"
      },
      "execution_count": null,
      "outputs": []
    },
    {
      "cell_type": "code",
      "source": [
        "# 내장 함수"
      ],
      "metadata": {
        "id": "LHP3rKj93Ncc"
      },
      "execution_count": null,
      "outputs": []
    },
    {
      "cell_type": "code",
      "source": [
        "# 그룹핑"
      ],
      "metadata": {
        "id": "5ksEeyLd3Ok3"
      },
      "execution_count": null,
      "outputs": []
    },
    {
      "cell_type": "code",
      "source": [
        "# 시계열 데이터 (dataframe)"
      ],
      "metadata": {
        "id": "ngRDOWW83Pmj"
      },
      "execution_count": null,
      "outputs": []
    },
    {
      "cell_type": "code",
      "source": [
        "# 시계열 데이터 (Timedelta)"
      ],
      "metadata": {
        "id": "YkM01L5g3R5i"
      },
      "execution_count": null,
      "outputs": []
    },
    {
      "cell_type": "code",
      "source": [
        "# 데이터프레임 합치기"
      ],
      "metadata": {
        "id": "YfOyXh_63XCl"
      },
      "execution_count": null,
      "outputs": []
    },
    {
      "cell_type": "code",
      "source": [
        "# 피벗테이블"
      ],
      "metadata": {
        "id": "V4ukNpf03atI"
      },
      "execution_count": null,
      "outputs": []
    },
    {
      "cell_type": "code",
      "source": [
        "# 확인문제"
      ],
      "metadata": {
        "id": "U8nrmhdG3dZt"
      },
      "execution_count": null,
      "outputs": []
    },
    {
      "cell_type": "markdown",
      "source": [
        "# PART-1-CHAPTER-03 | 작업형1 연습문제"
      ],
      "metadata": {
        "id": "aOROlDIpztnD"
      }
    },
    {
      "cell_type": "code",
      "source": [
        "# 필터링, 최솟값, 중앙값"
      ],
      "metadata": {
        "id": "0KLVj_NB3ftZ"
      },
      "execution_count": null,
      "outputs": []
    },
    {
      "cell_type": "code",
      "source": [
        "# 카테고리, 인덱스, 문자열 슬라이싱"
      ],
      "metadata": {
        "id": "Ry2GM9NJ3kHA"
      },
      "execution_count": null,
      "outputs": []
    },
    {
      "cell_type": "code",
      "source": [
        "# 파생변수, 정렬, 인덱싱"
      ],
      "metadata": {
        "id": "qMxIUoGI3mdW"
      },
      "execution_count": null,
      "outputs": []
    },
    {
      "cell_type": "code",
      "source": [
        "# 값 변경, 정렬, 합계"
      ],
      "metadata": {
        "id": "QVlGXTNI3pEw"
      },
      "execution_count": null,
      "outputs": []
    },
    {
      "cell_type": "code",
      "source": [
        "# 문자열 슬라이싱, 파생변수, 평균값"
      ],
      "metadata": {
        "id": "60vf8MAl3rHj"
      },
      "execution_count": null,
      "outputs": []
    },
    {
      "cell_type": "code",
      "source": [
        "# 필터링, 분산"
      ],
      "metadata": {
        "id": "eLiUC-6x3ti-"
      },
      "execution_count": null,
      "outputs": []
    },
    {
      "cell_type": "code",
      "source": [
        "# 값 변경(연산), 필터링 절댓값"
      ],
      "metadata": {
        "id": "YqMRk4e93u8R"
      },
      "execution_count": null,
      "outputs": []
    },
    {
      "cell_type": "code",
      "source": [
        "# 시계열 데이터, 필터링, 데이터 개수"
      ],
      "metadata": {
        "id": "YDShqeiu3xi4"
      },
      "execution_count": null,
      "outputs": []
    },
    {
      "cell_type": "code",
      "source": [
        "# 필터링, 카테고리, 최빈값"
      ],
      "metadata": {
        "id": "27daNt_Y31dC"
      },
      "execution_count": null,
      "outputs": []
    },
    {
      "cell_type": "code",
      "source": [
        "# 그룹핑, 최댓값, 정렬"
      ],
      "metadata": {
        "id": "gTswnEDc33oR"
      },
      "execution_count": null,
      "outputs": []
    },
    {
      "cell_type": "code",
      "source": [
        "# 슬라이싱, 사분위수, 결측치 제거"
      ],
      "metadata": {
        "id": "RypQq9tz35_R"
      },
      "execution_count": null,
      "outputs": []
    },
    {
      "cell_type": "code",
      "source": [
        "# 결측치 처리, 최빈값, 데이터 개수"
      ],
      "metadata": {
        "id": "5vCg2huW38n7"
      },
      "execution_count": null,
      "outputs": []
    },
    {
      "cell_type": "code",
      "source": [
        "# 결측 데이터 찾기, 필터링, 평균값"
      ],
      "metadata": {
        "id": "-PUQGwEv3-6P"
      },
      "execution_count": null,
      "outputs": []
    },
    {
      "cell_type": "code",
      "source": [
        "# 중복 데이터 제거, 값 변경, 필터링"
      ],
      "metadata": {
        "id": "Av_xpoC44MDD"
      },
      "execution_count": null,
      "outputs": []
    },
    {
      "cell_type": "code",
      "source": [
        "# 이상치, IQR"
      ],
      "metadata": {
        "id": "guxmCr6a4V7-"
      },
      "execution_count": null,
      "outputs": []
    },
    {
      "cell_type": "code",
      "source": [
        "# 이상치, 소수점 있는 데이터 찾기, 표준 편차"
      ],
      "metadata": {
        "id": "8NqCUxpe4ZV5"
      },
      "execution_count": null,
      "outputs": []
    },
    {
      "cell_type": "code",
      "source": [
        "# 데이터(행) 기준 평균값, 인덱싱"
      ],
      "metadata": {
        "id": "a_PM8D0y4cq6"
      },
      "execution_count": null,
      "outputs": []
    },
    {
      "cell_type": "code",
      "source": [
        "# 결측치(뒤의 값으로 대체), 그룹합"
      ],
      "metadata": {
        "id": "K0b6SEF04g-p"
      },
      "execution_count": null,
      "outputs": []
    },
    {
      "cell_type": "code",
      "source": [
        "# 시계열 데이터, 월별 집계, 인덱스"
      ],
      "metadata": {
        "id": "5J_rMAwX4j4w"
      },
      "execution_count": null,
      "outputs": []
    },
    {
      "cell_type": "code",
      "source": [
        "# 시간 간의 차이 계산(분), 필터링"
      ],
      "metadata": {
        "id": "yikp56eg4oaR"
      },
      "execution_count": null,
      "outputs": []
    },
    {
      "cell_type": "code",
      "source": [
        "# 시간 간의 차이 계산(분), 그룹핑"
      ],
      "metadata": {
        "id": "rC7b-qry4qez"
      },
      "execution_count": null,
      "outputs": []
    },
    {
      "cell_type": "code",
      "source": [
        "# 시간 간의 차이 계산(분), 비율"
      ],
      "metadata": {
        "id": "iTn7B8pS4ucf"
      },
      "execution_count": null,
      "outputs": []
    },
    {
      "cell_type": "code",
      "source": [
        "# 그룹핑, 값 찾기, 필터링"
      ],
      "metadata": {
        "id": "SIdjya6U4w4y"
      },
      "execution_count": null,
      "outputs": []
    },
    {
      "cell_type": "code",
      "source": [
        "# 시간 간의 차이 계산(일)"
      ],
      "metadata": {
        "id": "Butzg4Fi4zJQ"
      },
      "execution_count": null,
      "outputs": []
    },
    {
      "cell_type": "code",
      "source": [
        "# 날짜와 시간 정보 변환, 비율"
      ],
      "metadata": {
        "id": "qMSb0xzx42LR"
      },
      "execution_count": null,
      "outputs": []
    },
    {
      "cell_type": "code",
      "source": [
        "# 시간 범위, 속도(km/h)"
      ],
      "metadata": {
        "id": "KBjv6yjo45oD"
      },
      "execution_count": null,
      "outputs": []
    },
    {
      "cell_type": "code",
      "source": [
        "# 날짜와 시간, 문자열"
      ],
      "metadata": {
        "id": "gyKvLphF47md"
      },
      "execution_count": null,
      "outputs": []
    },
    {
      "cell_type": "code",
      "source": [
        "# 함수, 월별 집계"
      ],
      "metadata": {
        "id": "ehq35vJo49L4"
      },
      "execution_count": null,
      "outputs": []
    },
    {
      "cell_type": "code",
      "source": [
        "# 주말, 평일 구분"
      ],
      "metadata": {
        "id": "TJy_ORc95AGB"
      },
      "execution_count": null,
      "outputs": []
    },
    {
      "cell_type": "code",
      "source": [
        "# 문자열, 형 변환"
      ],
      "metadata": {
        "id": "gS3EfJf55CAO"
      },
      "execution_count": null,
      "outputs": []
    },
    {
      "cell_type": "code",
      "source": [
        "# 합계(열 방향), 상위 값 선택"
      ],
      "metadata": {
        "id": "BpCSqv8z5DQB"
      },
      "execution_count": null,
      "outputs": []
    },
    {
      "cell_type": "code",
      "source": [
        "# 데이터프레임 재구조화"
      ],
      "metadata": {
        "id": "8V3OU0aK5Fo8"
      },
      "execution_count": null,
      "outputs": []
    },
    {
      "cell_type": "code",
      "source": [
        "# 데이터 합치기 (concat)"
      ],
      "metadata": {
        "id": "o5qXGA4n5Hy3"
      },
      "execution_count": null,
      "outputs": []
    },
    {
      "cell_type": "code",
      "source": [
        "# 데이터 합치기 (merge)"
      ],
      "metadata": {
        "id": "6mgjIhMB5JgC"
      },
      "execution_count": null,
      "outputs": []
    },
    {
      "cell_type": "code",
      "source": [
        "# 조건별 변환 (transform)"
      ],
      "metadata": {
        "id": "8hi7Kr8x5PQe"
      },
      "execution_count": null,
      "outputs": []
    },
    {
      "cell_type": "code",
      "source": [
        "# 재구조화 (unstack),맵핑"
      ],
      "metadata": {
        "id": "reiNHRUa5TOT"
      },
      "execution_count": null,
      "outputs": []
    },
    {
      "cell_type": "code",
      "source": [
        "# 피벗테이블"
      ],
      "metadata": {
        "id": "0Ip04RR-5X8s"
      },
      "execution_count": null,
      "outputs": []
    },
    {
      "cell_type": "code",
      "source": [
        "# 재구조화 (melt), 그룹핑"
      ],
      "metadata": {
        "id": "hlYjx3ga5Zio"
      },
      "execution_count": null,
      "outputs": []
    },
    {
      "cell_type": "markdown",
      "source": [
        "#PART-2-CHAPTER-01 | 머신러닝 기초"
      ],
      "metadata": {
        "id": "Rv-DiiuGzvrN"
      }
    },
    {
      "cell_type": "code",
      "source": [
        "# 지도 학습, 비지도 학습, 강화 학습"
      ],
      "metadata": {
        "id": "N43-Ofps5dto"
      },
      "execution_count": null,
      "outputs": []
    },
    {
      "cell_type": "code",
      "source": [
        "# 분류와 회귀"
      ],
      "metadata": {
        "id": "se38WuBX5gzY"
      },
      "execution_count": null,
      "outputs": []
    },
    {
      "cell_type": "code",
      "source": [
        "# 정형 데이터"
      ],
      "metadata": {
        "id": "-u79KXS35h7e"
      },
      "execution_count": null,
      "outputs": []
    },
    {
      "cell_type": "code",
      "source": [
        "# 머신러닝 프로세스"
      ],
      "metadata": {
        "id": "pY-n3y9R5iy1"
      },
      "execution_count": null,
      "outputs": []
    },
    {
      "cell_type": "markdown",
      "source": [
        "# PART-2-CHAPTER-02 | 머신러닝 실습(분류)"
      ],
      "metadata": {
        "id": "hF1gH1SfzwAe"
      }
    },
    {
      "cell_type": "code",
      "source": [
        "# 문제 정의"
      ],
      "metadata": {
        "id": "cNVd4DSW5kll"
      },
      "execution_count": null,
      "outputs": []
    },
    {
      "cell_type": "code",
      "source": [
        "# 라이브러리 및 데이터 불러오기"
      ],
      "metadata": {
        "id": "xtS66jdu5mJD"
      },
      "execution_count": null,
      "outputs": []
    },
    {
      "cell_type": "code",
      "source": [
        "# 탐색적 데이터 분석 (EDA)"
      ],
      "metadata": {
        "id": "P28cVD5d5nYC"
      },
      "execution_count": null,
      "outputs": []
    },
    {
      "cell_type": "code",
      "source": [
        "# 데이터 전처리"
      ],
      "metadata": {
        "id": "Mie6Zx-j5pgk"
      },
      "execution_count": null,
      "outputs": []
    },
    {
      "cell_type": "code",
      "source": [
        "# 검증 데이터 나누기"
      ],
      "metadata": {
        "id": "nrMgiGhN5rGN"
      },
      "execution_count": null,
      "outputs": []
    },
    {
      "cell_type": "code",
      "source": [
        "# 머신러닝 학습 및 평가"
      ],
      "metadata": {
        "id": "qgNe7-Dl5sKD"
      },
      "execution_count": null,
      "outputs": []
    },
    {
      "cell_type": "code",
      "source": [
        "# 예측 및 결과 파일 생성"
      ],
      "metadata": {
        "id": "gHBMMoKG5uqw"
      },
      "execution_count": null,
      "outputs": []
    },
    {
      "cell_type": "markdown",
      "source": [
        "# PART-2-CHAPTER-03 | 머신러닝 평가지표"
      ],
      "metadata": {
        "id": "4CrU680DzwTR"
      }
    },
    {
      "cell_type": "code",
      "source": [
        "# 이진 분류 평가지표"
      ],
      "metadata": {
        "id": "eP5tY_2u5xVK"
      },
      "execution_count": null,
      "outputs": []
    },
    {
      "cell_type": "code",
      "source": [
        "# 다중 분류 평가지표"
      ],
      "metadata": {
        "id": "KEUWaIiM5y59"
      },
      "execution_count": null,
      "outputs": []
    },
    {
      "cell_type": "code",
      "source": [
        "# 회귀 평가지표"
      ],
      "metadata": {
        "id": "8qZEJvVo52Ev"
      },
      "execution_count": null,
      "outputs": []
    },
    {
      "cell_type": "markdown",
      "source": [
        "# PART-2-CHAPTER-04 | 머신러닝 실습(회귀)"
      ],
      "metadata": {
        "id": "hdg3iUUczwjo"
      }
    },
    {
      "cell_type": "code",
      "source": [
        "# 문제 정의"
      ],
      "metadata": {
        "id": "qhwwZGD755Rx"
      },
      "execution_count": null,
      "outputs": []
    },
    {
      "cell_type": "code",
      "source": [
        "# 라이브러리 및 데이터 불러오기"
      ],
      "metadata": {
        "id": "py63phWb56pJ"
      },
      "execution_count": null,
      "outputs": []
    },
    {
      "cell_type": "code",
      "source": [
        "# 탐색적 데이터 분석 (EDA)"
      ],
      "metadata": {
        "id": "JCjr1X8r58X2"
      },
      "execution_count": null,
      "outputs": []
    },
    {
      "cell_type": "code",
      "source": [
        "# 데이터 전처리"
      ],
      "metadata": {
        "id": "mO8tj4iS6EyF"
      },
      "execution_count": null,
      "outputs": []
    },
    {
      "cell_type": "code",
      "source": [
        "# 검증 데이터 나누기"
      ],
      "metadata": {
        "id": "I5_p3UtF6H1l"
      },
      "execution_count": null,
      "outputs": []
    },
    {
      "cell_type": "code",
      "source": [
        "# 머신러닝 학습 및 평가"
      ],
      "metadata": {
        "id": "eVJ7Pjq56I8P"
      },
      "execution_count": null,
      "outputs": []
    },
    {
      "cell_type": "code",
      "source": [
        "# 예측 및 결과 파일 생성"
      ],
      "metadata": {
        "id": "2SQ_RYHF6Khp"
      },
      "execution_count": null,
      "outputs": []
    },
    {
      "cell_type": "markdown",
      "source": [
        "# PART-2-CHAPTER-05 | 머신러닝 실습(다중 분류)"
      ],
      "metadata": {
        "id": "Eu9O628uzw4O"
      }
    },
    {
      "cell_type": "code",
      "source": [
        "# 문제 정의"
      ],
      "metadata": {
        "id": "6439__Ot6PRP"
      },
      "execution_count": null,
      "outputs": []
    },
    {
      "cell_type": "code",
      "source": [
        "# 라이브러리 및 데이터 불러오기"
      ],
      "metadata": {
        "id": "q9REgtq16QaW"
      },
      "execution_count": null,
      "outputs": []
    },
    {
      "cell_type": "code",
      "source": [
        "# 탐색적 데이터 분석 (EDA)"
      ],
      "metadata": {
        "id": "RJ53cziC6SkL"
      },
      "execution_count": null,
      "outputs": []
    },
    {
      "cell_type": "code",
      "source": [
        "# 데이터 전처리"
      ],
      "metadata": {
        "id": "WuLQIfis6UYJ"
      },
      "execution_count": null,
      "outputs": []
    },
    {
      "cell_type": "code",
      "source": [
        "# 검증 데이터 나누기"
      ],
      "metadata": {
        "id": "6NNI7qLA6VvX"
      },
      "execution_count": null,
      "outputs": []
    },
    {
      "cell_type": "code",
      "source": [
        "# 머신러닝 학습 및 평가"
      ],
      "metadata": {
        "id": "-StTIGnM6XSN"
      },
      "execution_count": null,
      "outputs": []
    },
    {
      "cell_type": "code",
      "source": [
        "# 예측 및 결과 파일 생성"
      ],
      "metadata": {
        "id": "frZaVWQJ6Yz7"
      },
      "execution_count": null,
      "outputs": []
    },
    {
      "cell_type": "markdown",
      "source": [
        "# PART-2-CHAPTER-06 | 이진 분류 연습문제\n"
      ],
      "metadata": {
        "id": "uRCJ9Oi4zxIv"
      }
    },
    {
      "cell_type": "code",
      "source": [
        "# 환자의 당뇨병 여부 예측"
      ],
      "metadata": {
        "id": "8P5lUA476bLa"
      },
      "execution_count": null,
      "outputs": []
    },
    {
      "cell_type": "code",
      "source": [
        "# 이직 여부 예측"
      ],
      "metadata": {
        "id": "7rFUXbnC6dVO"
      },
      "execution_count": null,
      "outputs": []
    },
    {
      "cell_type": "code",
      "source": [
        "# 신용카드 신청자의 미래 신용 예측"
      ],
      "metadata": {
        "id": "Zuf113gi6ete"
      },
      "execution_count": null,
      "outputs": []
    },
    {
      "cell_type": "markdown",
      "source": [
        "# PART-2-CHAPTER-07 | 다중 분류 연습문제\n"
      ],
      "metadata": {
        "id": "1D84RxikzxeU"
      }
    },
    {
      "cell_type": "code",
      "source": [
        "# 신용 등급 예측"
      ],
      "metadata": {
        "id": "DIvK4hGZ6hKR"
      },
      "execution_count": null,
      "outputs": []
    },
    {
      "cell_type": "code",
      "source": [
        "# 약물 종류 예측"
      ],
      "metadata": {
        "id": "VPkyQCQS6ikx"
      },
      "execution_count": null,
      "outputs": []
    },
    {
      "cell_type": "code",
      "source": [
        "# 유리 종류 예측"
      ],
      "metadata": {
        "id": "rPSfwebH6jvL"
      },
      "execution_count": null,
      "outputs": []
    },
    {
      "cell_type": "markdown",
      "source": [
        "# PART-2-CHAPTER-08 | 회귀 연습문제\n"
      ],
      "metadata": {
        "id": "tiASFUbrzxyE"
      }
    },
    {
      "cell_type": "code",
      "source": [
        "# 항공권 가격 예측"
      ],
      "metadata": {
        "id": "_WPpvez_6mAp"
      },
      "execution_count": null,
      "outputs": []
    },
    {
      "cell_type": "code",
      "source": [
        "# 노트북 가격 예측"
      ],
      "metadata": {
        "id": "WLGXHk0p6o4z"
      },
      "execution_count": null,
      "outputs": []
    },
    {
      "cell_type": "code",
      "source": [
        "# 중고차 가격 예측"
      ],
      "metadata": {
        "id": "w8tEilqq6qOB"
      },
      "execution_count": null,
      "outputs": []
    },
    {
      "cell_type": "markdown",
      "source": [
        "# PART-3-CHAPTER-01 | 가설 검정"
      ],
      "metadata": {
        "id": "IM4PVTr8zyEh"
      }
    },
    {
      "cell_type": "code",
      "source": [
        "# 가설검정의 이해"
      ],
      "metadata": {
        "id": "lvzbqqj16wrH"
      },
      "execution_count": null,
      "outputs": []
    },
    {
      "cell_type": "code",
      "source": [
        "# 단일 표본 검정"
      ],
      "metadata": {
        "id": "YAJLoC3Q6zSD"
      },
      "execution_count": null,
      "outputs": []
    },
    {
      "cell_type": "code",
      "source": [
        "# 대응 표본 검정"
      ],
      "metadata": {
        "id": "TQuwFRDy61CP"
      },
      "execution_count": null,
      "outputs": []
    },
    {
      "cell_type": "code",
      "source": [
        "# 독립 표본 검정"
      ],
      "metadata": {
        "id": "3aMbRnzv63Eo"
      },
      "execution_count": null,
      "outputs": []
    },
    {
      "cell_type": "markdown",
      "source": [
        "# PART-3-CHAPTER-02  | 분산 분석"
      ],
      "metadata": {
        "id": "2mAn7OhPzyTb"
      }
    },
    {
      "cell_type": "code",
      "source": [
        "# 일원 분산 분석"
      ],
      "metadata": {
        "id": "s-c3NlGk64uK"
      },
      "execution_count": null,
      "outputs": []
    },
    {
      "cell_type": "code",
      "source": [
        "# 이원 분산 분석"
      ],
      "metadata": {
        "id": "_Uw5bDOb65yF"
      },
      "execution_count": null,
      "outputs": []
    },
    {
      "cell_type": "markdown",
      "source": [
        "# PART-3-CHAPTER-03  | 카이제곱 검정"
      ],
      "metadata": {
        "id": "iMAAyftyzykV"
      }
    },
    {
      "cell_type": "code",
      "source": [
        "# 적합도 검정"
      ],
      "metadata": {
        "id": "63IPvFIv69k4"
      },
      "execution_count": null,
      "outputs": []
    },
    {
      "cell_type": "code",
      "source": [
        "# 독립성 검정"
      ],
      "metadata": {
        "id": "4fcw82HZ6_H_"
      },
      "execution_count": null,
      "outputs": []
    },
    {
      "cell_type": "code",
      "source": [
        "# 동질성 검정"
      ],
      "metadata": {
        "id": "Ft2d3H8r6_7p"
      },
      "execution_count": null,
      "outputs": []
    },
    {
      "cell_type": "markdown",
      "source": [
        "# PART-3-CHAPTER-04  | 회귀 분석"
      ],
      "metadata": {
        "id": "qbue3x5Qzyy4"
      }
    },
    {
      "cell_type": "code",
      "source": [
        "# 상관 계수"
      ],
      "metadata": {
        "id": "AmSWpR3c7Bf3"
      },
      "execution_count": null,
      "outputs": []
    },
    {
      "cell_type": "code",
      "source": [
        "# 단순 선형 회귀 분석"
      ],
      "metadata": {
        "id": "S9do3sAG7Dqx"
      },
      "execution_count": null,
      "outputs": []
    },
    {
      "cell_type": "code",
      "source": [
        "# 다중 선형 회귀 분석"
      ],
      "metadata": {
        "id": "4e_KVOfZ7FHa"
      },
      "execution_count": null,
      "outputs": []
    },
    {
      "cell_type": "code",
      "source": [
        "# 범주형 변수"
      ],
      "metadata": {
        "id": "ENB6r5xT7GS1"
      },
      "execution_count": null,
      "outputs": []
    },
    {
      "cell_type": "markdown",
      "source": [
        "# PART-3-CHAPTER-05  | 로지스틱 회귀 분석"
      ],
      "metadata": {
        "id": "yk8ZeZ6k1kIo"
      }
    },
    {
      "cell_type": "code",
      "source": [
        "# 로지스틱 회귀 분석"
      ],
      "metadata": {
        "id": "UqJWr60h7IDD"
      },
      "execution_count": null,
      "outputs": []
    },
    {
      "cell_type": "code",
      "source": [
        "# 오즈와 오즈비"
      ],
      "metadata": {
        "id": "h5VewXwj7Jer"
      },
      "execution_count": null,
      "outputs": []
    },
    {
      "cell_type": "markdown",
      "source": [
        "# PART-3-CHAPTER-06 | 작업형3 연습 문제"
      ],
      "metadata": {
        "id": "wJ8aJLvn1mxY"
      }
    },
    {
      "cell_type": "code",
      "source": [
        "# 단일 표본 검정"
      ],
      "metadata": {
        "id": "xX-kpo2L7Odj"
      },
      "execution_count": null,
      "outputs": []
    },
    {
      "cell_type": "code",
      "source": [
        "# 독립 표본 검정"
      ],
      "metadata": {
        "id": "9IbLIwjx7RnA"
      },
      "execution_count": null,
      "outputs": []
    },
    {
      "cell_type": "code",
      "source": [
        "# 대응 표본 검정"
      ],
      "metadata": {
        "id": "gmEUA8uD7Tov"
      },
      "execution_count": null,
      "outputs": []
    },
    {
      "cell_type": "code",
      "source": [
        "# 일원 분산 분석"
      ],
      "metadata": {
        "id": "dy6zcnwd7UxP"
      },
      "execution_count": null,
      "outputs": []
    },
    {
      "cell_type": "code",
      "source": [
        "# 이원 분산 분석"
      ],
      "metadata": {
        "id": "s7jk2qKX7Vzo"
      },
      "execution_count": null,
      "outputs": []
    },
    {
      "cell_type": "code",
      "source": [
        "# 적합도 검정"
      ],
      "metadata": {
        "id": "B2CkGf4w7XHl"
      },
      "execution_count": null,
      "outputs": []
    },
    {
      "cell_type": "code",
      "source": [
        "# 독립성 검정"
      ],
      "metadata": {
        "id": "KC9MUCnS7YBS"
      },
      "execution_count": null,
      "outputs": []
    },
    {
      "cell_type": "code",
      "source": [
        "# 다중 선형 회귀"
      ],
      "metadata": {
        "id": "0LSWLp_s7Y3I"
      },
      "execution_count": null,
      "outputs": []
    },
    {
      "cell_type": "code",
      "source": [
        "# 로지스틱 회귀"
      ],
      "metadata": {
        "id": "pXZM48mf7Zxc"
      },
      "execution_count": null,
      "outputs": []
    },
    {
      "cell_type": "markdown",
      "source": [
        "# 기출 및 연습문제"
      ],
      "metadata": {
        "id": "iAxQGH3r1vk7"
      }
    }
  ]
}