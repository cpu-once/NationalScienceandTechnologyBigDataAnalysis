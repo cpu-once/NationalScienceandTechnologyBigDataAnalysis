{
  "nbformat": 4,
  "nbformat_minor": 0,
  "metadata": {
    "colab": {
      "provenance": [],
      "authorship_tag": "ABX9TyN2nFJsarTrGWKNMwtH3hfh",
      "include_colab_link": true
    },
    "kernelspec": {
      "name": "python3",
      "display_name": "Python 3"
    },
    "language_info": {
      "name": "python"
    }
  },
  "cells": [
    {
      "cell_type": "markdown",
      "metadata": {
        "id": "view-in-github",
        "colab_type": "text"
      },
      "source": [
        "<a href=\"https://colab.research.google.com/github/cpu-once/NationalScienceandTechnologyBigDataAnalysis/blob/main/bigdataExamAndADP.ipynb\" target=\"_parent\"><img src=\"https://colab.research.google.com/assets/colab-badge.svg\" alt=\"Open In Colab\"/></a>"
      ]
    },
    {
      "cell_type": "markdown",
      "source": [
        "# PART-1-CHAPTER-01 | 파이썬"
      ],
      "metadata": {
        "id": "ircXLWqtzrmV"
      }
    },
    {
      "cell_type": "code",
      "source": [
        "### 출력\n",
        "# 문자 출력\n",
        "print(\"안녕! 시나공\")\n",
        "\n",
        "# 숫자 출력\n",
        "print(2024)\n",
        "\n",
        "#자동  출력\n",
        "\"길벗은\"\n",
        "\"여러분의 합격을 응원합니다.\""
      ],
      "metadata": {
        "id": "ZvgLLn662XzS",
        "colab": {
          "base_uri": "https://localhost:8080/",
          "height": 73
        },
        "outputId": "5d4df669-56c6-4ffb-9077-e809aeab8d43"
      },
      "execution_count": 7,
      "outputs": [
        {
          "output_type": "stream",
          "name": "stdout",
          "text": [
            "안녕! 시나공\n",
            "2024\n"
          ]
        },
        {
          "output_type": "execute_result",
          "data": {
            "text/plain": [
              "'여러분의 합격을 응원합니다.'"
            ],
            "application/vnd.google.colaboratory.intrinsic+json": {
              "type": "string"
            }
          },
          "metadata": {},
          "execution_count": 7
        }
      ]
    },
    {
      "cell_type": "code",
      "source": [
        "# 주석\n",
        "#한 줄 주석처리\n",
        "print(\"파이썬\")\n",
        "# print(\"파이썬은 쉽다\")\n",
        "\n",
        "# 여러 줄 주석처리\n",
        "# print(\"이 책의 저자 김태헌입니다.\")\n",
        "print(\"여러분의 합격을 가장 빠른 길로 안내할게요!\")\n",
        "# print(\"믿고 따라와주세요!\")"
      ],
      "metadata": {
        "id": "TbC8JpLa2eMo",
        "colab": {
          "base_uri": "https://localhost:8080/"
        },
        "outputId": "f9a88482-d07b-4896-9635-d57ef1913306"
      },
      "execution_count": 8,
      "outputs": [
        {
          "output_type": "stream",
          "name": "stdout",
          "text": [
            "파이썬\n",
            "여러분의 합격을 가장 빠른 길로 안내할게요!\n"
          ]
        }
      ]
    },
    {
      "cell_type": "code",
      "source": [
        "# 산술 연산자\n",
        "#사칙 연산\n",
        "print(1+2, 4-1, 2*3, 16/3)\n",
        "\n",
        "# 나누기 결과\n",
        "15/3\n",
        "\n",
        "# 몫 연산자\n",
        "16//3\n",
        "\n",
        "# 나머지 연산자\n",
        "16%3\n",
        "\n",
        "#거듭 제곱\n",
        "4**2\n",
        "\n",
        "#제곱근 16**0.5\n",
        "16**0.5\n",
        "\n",
        "# 산술 연산자 우선순위\n",
        "4+3*2\n",
        "\n",
        "# ** > (*, /. //, %) > (+, -)\n",
        "\n",
        "# 문자끼리 더하기\n",
        "\"py\" + \"thon\"\n",
        "\n",
        "# 문자와 숫자 더하기\n",
        "\"py\" + 3\n"
      ],
      "metadata": {
        "id": "wNE7KRh22foz",
        "colab": {
          "base_uri": "https://localhost:8080/",
          "height": 193
        },
        "outputId": "c271e47a-e4c1-4c3b-8e97-1cc7ee5706c2"
      },
      "execution_count": 9,
      "outputs": [
        {
          "output_type": "stream",
          "name": "stdout",
          "text": [
            "3 3 6 5.333333333333333\n"
          ]
        },
        {
          "output_type": "error",
          "ename": "TypeError",
          "evalue": "can only concatenate str (not \"int\") to str",
          "traceback": [
            "\u001b[0;31m---------------------------------------------------------------------------\u001b[0m",
            "\u001b[0;31mTypeError\u001b[0m                                 Traceback (most recent call last)",
            "\u001b[0;32m/tmp/ipython-input-2334435001.py\u001b[0m in \u001b[0;36m<cell line: 0>\u001b[0;34m()\u001b[0m\n\u001b[1;32m     27\u001b[0m \u001b[0;34m\u001b[0m\u001b[0m\n\u001b[1;32m     28\u001b[0m \u001b[0;31m# 문자와 숫자 더하기\u001b[0m\u001b[0;34m\u001b[0m\u001b[0;34m\u001b[0m\u001b[0m\n\u001b[0;32m---> 29\u001b[0;31m \u001b[0;34m\"py\"\u001b[0m \u001b[0;34m+\u001b[0m \u001b[0;36m3\u001b[0m\u001b[0;34m\u001b[0m\u001b[0;34m\u001b[0m\u001b[0m\n\u001b[0m",
            "\u001b[0;31mTypeError\u001b[0m: can only concatenate str (not \"int\") to str"
          ]
        }
      ]
    },
    {
      "cell_type": "code",
      "source": [
        "# 자료형\n",
        "# 정수형\n",
        "type(1)\n",
        "\n",
        "# 실수형\n",
        "type(1.1)\n",
        "\n",
        "# 문자열\n",
        "type('helllo')\n",
        "\n",
        "# 숫자로 된 문자\n",
        "type('3')\n",
        "\n",
        "# 같지만 다른 숫자\n",
        "type(3),type(3.0), type('3')\n",
        "\n",
        "# 참과 거짓\n",
        "type(True), type(False)\n",
        "\n",
        "# 참은 1, 거짓은 0\n",
        "True + True + True + False + False"
      ],
      "metadata": {
        "id": "muF9TrzN2iWN"
      },
      "execution_count": null,
      "outputs": []
    },
    {
      "cell_type": "code",
      "source": [
        "# 변수\n",
        "# 예약어\n",
        "# False, assert, def, for, is , raise, None, async, del, from, lambda, return, True, await, elif\n",
        "# global, nonlocal, try, __peg_parser__, break, else, if, not, while, and, class, except, import,\n",
        "# or, with, as, continue, finally, in, pass, yield\n",
        "# 예약어를 가까운 거리의 단어 순서대로 그룹핑한다면?\n",
        "\n",
        "# 변수에 값 대입\n",
        "americano = 4500\n",
        "\n",
        "# 변수 출력\n",
        "print(americano) # 변수 출력\n",
        "print('americano') #문자 출력\n",
        "\n",
        "# 변수 연산\n",
        "latte = 5000\n",
        "print(americano + latte)\n",
        "\n",
        "# 결괏값 변수에 대입\n",
        "result = americano + latte\n",
        "print(result)\n",
        "\n",
        "# 변수 업데이트\n",
        "americano = 4500\n",
        "americano = americano - 1000\n",
        "print(americano)\n",
        "\n",
        "# 다중 변수 할당\n",
        "a, b, c = 10, 20, 30\n",
        "print(a)\n",
        "print(b)\n",
        "print(c)\n",
        "print(a+b+c)"
      ],
      "metadata": {
        "id": "RiVknWB32jsj"
      },
      "execution_count": null,
      "outputs": []
    },
    {
      "cell_type": "code",
      "source": [
        "# 자료형 변환\n",
        "# 임시적 자료형 변환 (implicit)\n",
        "a = 2\n",
        "b = 0.17\n",
        "a = a + b\n",
        "type(a)\n",
        "\n",
        "# 명시적 자료형 변환 (explicit)\n",
        "box = 2.17\n",
        "print(\"문자열: \", str(box))\n",
        "print(\"정수형: \", int(box))\n",
        "\n",
        "#자료형 변환\n",
        "box = \"3.14\"\n",
        "box = float(box) + 10\n",
        "box"
      ],
      "metadata": {
        "id": "c2gi9PD82oP-"
      },
      "execution_count": null,
      "outputs": []
    },
    {
      "cell_type": "code",
      "source": [
        "# 비교 연산자\n",
        "# 참 조건\n",
        "10 > 5\n",
        "\n",
        "# 거짓 조건\n",
        "10 < 5\n",
        "\n",
        "# 크거나(작거나) 같다\n",
        "10 >= 5\n",
        "\n",
        "# 두 값이 같다\n",
        "10 == 10\n",
        "\n",
        "# 두 값이 다르다\n",
        "10 != 5\n",
        "\n",
        "# 변수 값 비교\n",
        "a = 10\n",
        "b = 10\n",
        "a == b\n",
        "\n",
        "# 참 조건\n",
        "a >= b\n",
        "\n",
        "# 거짓 조건\n",
        "a > b\n",
        "\n",
        "# 문자 비교\n",
        "c = \"빅데이터\"\n",
        "d = \"빅데이터\"\n",
        "e = \"데이터\"\n",
        "\n",
        "# 주소비교가 아니라 값 비교\n",
        "print(c == d)\n",
        "print(d == e)"
      ],
      "metadata": {
        "id": "t-0Ou0_T2p_x"
      },
      "execution_count": null,
      "outputs": []
    },
    {
      "cell_type": "code",
      "source": [
        "# 조건문\n",
        "\n",
        "점수=87\n",
        "\n",
        "if 점수 >= 90:\n",
        "  print(\"A\")\n",
        "elif 점수 >= 80:\n",
        "  print(\"B\")\n",
        "elif 점수 >= 70:\n",
        "  print(\"C\")\n",
        "else:\n",
        "  print(\"D\")\n",
        "\n",
        "# 조건문 (참)\n",
        "if True:\n",
        "  print(\"실행\")\n",
        "\n",
        "# 조건문 (거짓)\n",
        "if False:\n",
        "  print(\"무시\")\n",
        "\n",
        "# 비교 연산자\n",
        "score = 10\n",
        "if score >= 10:\n",
        "  print(\"10보다 크거나 같다\")\n",
        "\n",
        "if score > 9:\n",
        "  print(\"9 보다 크다\")\n",
        "\n",
        "if score <= 10:\n",
        "  print(\"10보다 작거나 같다\")\n",
        "\n",
        "if score < 11:\n",
        "  print(\"11 보다 작다\")\n",
        "\n",
        "if score == 10:\n",
        "  print(\"score는 10이다\")\n",
        "\n",
        "if score != 11:\n",
        "  print(\"score는 11과 같지 않다\")\n",
        "\n",
        "# 논리 연산자\n",
        "# True and True = True\n",
        "# True and False = False\n",
        "# False and False = False\n",
        "# True or True = True\n",
        "# True or False = True\n",
        "# False or Flalse = False\n",
        "\n",
        "print(\"True and True: \", True and True)\n",
        "print(\"True and False: \", True and False)\n",
        "print(\"False and False: \", False and False)\n",
        "print(\"True or True: \", True or True)\n",
        "print(\"True or False: \", True or False)\n",
        "print(\"False or False: \", False or False)\n",
        "\n",
        "# else\n",
        "if score < 10 and score >=5:\n",
        "  print(\"score는 5이상, 10 미만입니다.\")\n",
        "else:\n",
        "  print(\"scpre는 5 미만, 10 이상입니다.\")\n",
        "\n",
        "# elif\n",
        "socre = 7\n",
        "\n",
        "if score > 10:\n",
        "  print(\"A\")\n",
        "elif score < 10 and score >= 5:\n",
        "  print(\"B\")\n",
        "else:\n",
        "  print(\"C\")\n",
        "\n",
        "# 조건문의 구성\n",
        "score = 2\n",
        "\n",
        "if score >= 10:\n",
        "  print(\"score는 10 이상입니다.\")\n",
        "elif score < 10 and score >=5:\n",
        "  print(\"scpre는 5 이상 10 미만입니다.\")\n",
        "elif score < 4 and score >=3:\n",
        "  print(\"score는 2 이하입니다.\")\n",
        "else:\n",
        "  print(\"score는 2 이하입니다.\")"
      ],
      "metadata": {
        "id": "O2YzvtPT2rcp"
      },
      "execution_count": null,
      "outputs": []
    },
    {
      "cell_type": "code",
      "source": [
        "# 리스트\n",
        "# 리스트 생성\n",
        "# 인덱스는 0 부터 시작\n",
        "listbox = [4, 2, 10, 6, 8]\n",
        "print(listbox)\n",
        "\n",
        "# 리스트의 첫 번째 값\n",
        "print(listbox[0])\n",
        "\n",
        "# 리스트 자료형 확인\n",
        "print(type(listbox))\n",
        "\n",
        "# 리스트 생성(문자) - 작은따옴표 혹은 큰 따옴표\n",
        "listbox = [\"길벗\", \"시나공\", \"빅데이터\"]\n",
        "print(listbox)\n",
        "\n",
        "# 리스트 값 추가\n",
        "listbox.append(\"분석\")\n",
        "print(listbox)\n",
        "\n",
        "# 리스트 정렬\n",
        "listbox = [4, 2, 10, 6, 8]\n",
        "listbox_sorted = sorted(listbox)\n",
        "listbox_sorted\n",
        "\n",
        "# 내림차순 정렬\n",
        "sorted(listbox, reverse=True)\n",
        "\n",
        "# 문자가 있는 리스트 자료형도 정렬 가능. , 단 문자와 숫자가 섞여 있다면 정렬할 수 없음"
      ],
      "metadata": {
        "id": "14QGLaGq2sni"
      },
      "execution_count": null,
      "outputs": []
    },
    {
      "cell_type": "code",
      "source": [
        "# 딕셔너리\n",
        "\n",
        "# 딕셔너리 생성\n",
        "dictbox = {'name' : '쿼카', 'level' : 5}\n",
        "\n",
        "# 딕셔너리 자료형\n",
        "print(type(dictbox))\n",
        "\n",
        "# 딕셔너리 값 출력\n",
        "print(dictbox['name'])\n",
        "print(dictbox['level'])\n",
        "\n",
        "# 딕셔너리 값 변경\n",
        "dictbox['level'] = 6\n",
        "print(dictbox['level'])\n",
        "\n",
        "# 딕셔너리 키\n",
        "print(dictbox.keys())\n",
        "\n",
        "# 딕셔너리 값\n",
        "print(dictbox.values())\n",
        "\n",
        "# 딕셔너리 키와 값\n",
        "print(dictbox.items())\n",
        "\n",
        "# 딕셔너리를 리스트로 변환\n",
        "print(list(dictbox.values()))\n",
        "\n",
        "# 딕셔너리 생성(변수)\n",
        "a = '합격맛집'\n",
        "b = '길벗'\n",
        "c = '출판사'\n",
        "\n",
        "dictbox = {'name': a, c:b}\n",
        "print(dictbox)\n",
        "\n",
        "# 딕셔너리 생성(리스트)\n",
        "listbox1 = ['딴짓분식', '딴짓카페', '딴짓피자']\n",
        "listbox2 = [4.8, 4.9, 5.0]\n",
        "\n",
        "dictbox = {'가게' : listbox1, '평점' : listbox2}\n",
        "print(dictbox)"
      ],
      "metadata": {
        "id": "gZ0igihC2tcB"
      },
      "execution_count": null,
      "outputs": []
    },
    {
      "cell_type": "code",
      "source": [
        "# 인덱싱과 슬라이싱\n",
        "\n",
        "# 인덱싱\n",
        "listbox = [2, 4, 6 ,8, 10]\n",
        "print(listbox[0]) # index 0, 첫 번째 값\n",
        "print(listbox[1]) # index 3, 네 번째 값\n",
        "print(listbox[-1])\n",
        "\n",
        "# 슬라이싱\n",
        "print(listbox[0:3])\n",
        "print(listbox[1:3])\n",
        "print(listbox[3:])\n",
        "print(listbox[:3])\n",
        "print(listbox[::2])\n",
        "\n",
        "# 값 변경(슬라이싱 활용)\n",
        "listbox[1:3] = [ 10,20 ]\n",
        "print(listbox)"
      ],
      "metadata": {
        "id": "LhRuL0RF2ub3"
      },
      "execution_count": null,
      "outputs": []
    },
    {
      "cell_type": "code",
      "source": [
        "# 내장 함수\n",
        "listbox = [4,2,10,6,8]\n",
        "sum(listbox)\n",
        "\n",
        "#  합계\n",
        "boolbox = [True, False, False]\n",
        "print(sum(boolbox))\n",
        "\n",
        "# 최댓값\n",
        "print(max(listbox))\n",
        "\n",
        "# 최솟값\n",
        "print(min(listbox))\n",
        "\n",
        "# 항목의 개수\n",
        "print(len(listbox))\n",
        "\n",
        "# 반올림\n",
        "print(round(1.2345, 2))\n",
        "print(round(1.2375, 2))"
      ],
      "metadata": {
        "id": "KXDDHzh42wCN"
      },
      "execution_count": null,
      "outputs": []
    },
    {
      "cell_type": "code",
      "source": [
        "# 문자열\n",
        "# 문자 변경\n",
        "text = \"빅데이터 분석기사 파이썬 공부\"\n",
        "text = text.replace(\"공부\", \"스터디\")\n",
        "print(text)\n",
        "\n",
        "text = \"빅데이터 분석기사 파이썬 공부\"\n",
        "text = text.replace(\"파이썬\",\"머신러닝\").replace(\"분석기사\",\"분석을 위한\")\n",
        "print(text)\n",
        "\n",
        "# 문자열 슬라이싱 (앞인덱스 포함, 뒤 인덱스 미포함, [) 규칙, 인덱스 시작 0 부터)\n",
        "text = \"안녕하세요! 함께 성장해요.\"\n",
        "print(text[:2])\n",
        "print(text[7:9])\n",
        "date = \"2022-12-25\"\n",
        "print(date[5:])\n",
        "\n",
        "# 문자열 분리\n",
        "print(date.split('-'))\n",
        "print(text.split()) # splite 인자 안주면, 스페이스바를 delimiter\n",
        "print(list(date)) # 문자열을 list로 자료형 번환을 하면 한 글자씩 순서대로 값으로 가진 리스트가 된다."
      ],
      "metadata": {
        "id": "fE07yTOS2xFt"
      },
      "execution_count": null,
      "outputs": []
    },
    {
      "cell_type": "code",
      "source": [
        "# 반복문\n",
        "listbox = [2, 4, 6, 8, 10]\n",
        "for item in listbox:\n",
        "  print(item)\n",
        "\n",
        "print()\n",
        "\n",
        "# for 문 코드 범위\n",
        "listbox = [2, 4, 6, 8, 10]\n",
        "for item in listbox:\n",
        "  print(item)\n",
        "print(\"끝\")\n",
        "\n",
        "print()\n",
        "\n",
        "listbox = [2, 4, 6, 8, 10]\n",
        "for item in listbox:\n",
        "  result = item + 1\n",
        "  print(result)\n",
        "\n",
        "print()\n",
        "\n",
        "# range() 활용\n",
        "for item in range(5):\n",
        "  print(item)\n",
        "\n",
        "print()\n",
        "\n",
        "for i in range(5,10):\n",
        "  print(i)\n",
        "\n",
        "print()\n",
        "\n",
        "#list.append()\n",
        "listbox = []\n",
        "for i in range(1,6):\n",
        "  listbox.append(i)\n",
        "print(listbox)\n",
        "\n",
        "#enumerate()\n",
        "listbox = ['길벗', '시나공', '빅분기', '분석']\n",
        "for index, item in enumerate(listbox):\n",
        "  print(index, item)\n",
        "\n",
        "#zip()\n",
        "person_info = {\n",
        "    'name' : '사랑',\n",
        "    'age' : 20,\n",
        "    'city' : '부산',\n",
        "    'hobbies' : ['연애', '수영', '코딩']\n",
        "}\n",
        "for k, v in zip(person_info.keys(), person_info.values()):\n",
        "  print(k,v)"
      ],
      "metadata": {
        "id": "Z0Xrqnrp2x9Z",
        "colab": {
          "base_uri": "https://localhost:8080/"
        },
        "outputId": "4a318e72-8c4b-48c0-c406-a0f261554b5d"
      },
      "execution_count": 10,
      "outputs": [
        {
          "output_type": "stream",
          "name": "stdout",
          "text": [
            "2\n",
            "4\n",
            "6\n",
            "8\n",
            "10\n",
            "\n",
            "2\n",
            "4\n",
            "6\n",
            "8\n",
            "10\n",
            "끝\n",
            "\n",
            "3\n",
            "5\n",
            "7\n",
            "9\n",
            "11\n",
            "\n",
            "0\n",
            "1\n",
            "2\n",
            "3\n",
            "4\n",
            "\n",
            "5\n",
            "6\n",
            "7\n",
            "8\n",
            "9\n",
            "\n",
            "[1, 2, 3, 4, 5]\n",
            "0 길벗\n",
            "1 시나공\n",
            "2 빅분기\n",
            "3 분석\n",
            "name 사랑\n",
            "age 20\n",
            "city 부산\n",
            "hobbies ['연애', '수영', '코딩']\n"
          ]
        }
      ]
    },
    {
      "cell_type": "code",
      "source": [
        "# 함수\n",
        "# 일반함수\n",
        "def hello(): #함수 정의\n",
        "  print(\"안녕하세요!\")\n",
        "\n",
        "hello() # 함수 호출\n",
        "hello() # 함수 호출\n",
        "hello() # 함수 호출\n",
        "\n",
        "# 매개변수가 있는 함수\n",
        "def hello(name):\n",
        "  print(\"hello\"+ name)\n",
        "\n",
        "hello(\"빅분기\")\n",
        "\n",
        "# 2개의 매개변수를 받아 이를 더하는 함수\n",
        "def plus(x, y):\n",
        "  print(x+y)\n",
        "\n",
        "  a = 2\n",
        "  b = 3\n",
        "  plus(a,b)\n",
        "\n",
        "# 변환 값이 있는 함수\n",
        "def plus(x,y):\n",
        "  result = x+y\n",
        "  return result\n",
        "\n",
        "a = plus(2,3)\n",
        "print(a)"
      ],
      "metadata": {
        "id": "bcra4eFu2ykd",
        "colab": {
          "base_uri": "https://localhost:8080/"
        },
        "outputId": "3226c2dd-6ffe-46d0-a928-ab8a3548946e"
      },
      "execution_count": 11,
      "outputs": [
        {
          "output_type": "stream",
          "name": "stdout",
          "text": [
            "안녕하세요!\n",
            "안녕하세요!\n",
            "안녕하세요!\n",
            "hello빅분기\n",
            "5\n"
          ]
        }
      ]
    },
    {
      "cell_type": "code",
      "source": [
        "# 확인문제\n",
        "listbox = [\"감사\", \"행복\", \"사랑\", \"성공\", \"긍정\", \"변화\", \"성장\", \"희망\"]\n",
        "# 1. 리스트에 있는 값의 수를 출력하시오.\n",
        "print(len(listbox))\n",
        "# 2. 리스트의 첫 번째 값을 출력하시오.\n",
        "print(listbox[0])\n",
        "# 3. 리스트의 마지막 값을 출력하시오.\n",
        "print(listbox[-1])\n",
        "# 4. 리스트에서 처음부터 세번쨰 값 까지를 출력하시오\n",
        "print(listbox[:3])\n",
        "# 5. 리스트에서 마지막 앞 단어를 출력하시오\n",
        "print(listbox[-2])\n",
        "# 6. 리스트 값 중 '행복'과 '사랑'만 출력하시오\n",
        "print(listbox[1:3])\n",
        "# 7. 리스트 값 중 '변화' -> '웃음'으로 변경하시오\n",
        "print(listbox[5])\n",
        "listbox[5] = '웃음'\n",
        "print(listbox[5])\n",
        "\n",
        "print()\n",
        "# 8. cols 변수는 컬럼명을 담고 있다. cols 리스트에 있는 name, age, phone 컬럼명을 반복문을 통해 출력하시오\n",
        "cols = ['name', 'age', 'phone']\n",
        "for col in cols:\n",
        "  print(col)\n",
        "\n",
        "print()\n",
        "# 9. 리스트에서 최댓값에서 최솟값으 뺸 결과를 리턴(반환)하는 함수를 만들고 실행하시오.\n",
        "listminmax = [1,2,3,4,5,6,7,9]\n",
        "def minmax(list):\n",
        "  return max(list) - min(list)\n",
        "\n",
        "print(minmax(listminmax))\n",
        "\n",
        "print()\n",
        "# 10. 문자열에서 \"여러분\"을 \"당신\"으로 변경한 결과를 리턴하는 함수를 만들고 실행하시오.\n",
        "str_data=\"여러분의 합격을 응원합니다!\"\n",
        "\n",
        "def replaceEveryoneToYou(someString):\n",
        "  return print(someString.replace(\"여러분\", \"당신\"))\n",
        "\n",
        "replaceEveryoneToYou(str_data)"
      ],
      "metadata": {
        "id": "ups-Ic-M20CJ",
        "colab": {
          "base_uri": "https://localhost:8080/"
        },
        "outputId": "bff2392c-0e0f-4ed2-f54d-4ee1441cdaa0"
      },
      "execution_count": 12,
      "outputs": [
        {
          "output_type": "stream",
          "name": "stdout",
          "text": [
            "8\n",
            "감사\n",
            "희망\n",
            "['감사', '행복', '사랑']\n",
            "성장\n",
            "['행복', '사랑']\n",
            "변화\n",
            "웃음\n",
            "\n",
            "name\n",
            "age\n",
            "phone\n",
            "\n",
            "8\n",
            "\n",
            "당신의 합격을 응원합니다!\n"
          ]
        }
      ]
    },
    {
      "cell_type": "markdown",
      "source": [
        "# PART-1-CHAPTER-02 | 판다스"
      ],
      "metadata": {
        "id": "NlUSPrvPzsj3"
      }
    },
    {
      "cell_type": "code",
      "source": [
        "# 데이터프레임과 시리즈\n",
        "# 판다스의 데이터는 시리즈(Series)와 데이터프레임(DataFrame)으로 구성되어 있다.\n",
        "# 시리즈는 1차원 형태, 데이터프레임은 행(rows)과 열(columns)이 있는 2차원(표) 형태\n",
        "\n",
        "# 행과 열\n",
        "# 행은 각 데이터/레코드(가로)고, 열은 컬럼 전체(세로)다.\n",
        "# 판다스에서 축(axis)을 숫자로 나타낼 때는 행은 0, 열은 1로 표시하므로 숫자 순서대로 행(0)렬(1)로 기억하면 좋다.\n",
        "\n",
        "# 판다스의 별칭\n",
        "# 판다스 라이브러리를 불러오자 import pandas 뒤에 as pd가 붙은 것을 확인 할 수 있다.\n",
        "# 앞으로 pandas는 pd라는 별칭(alias, 줄여서 as로 사용)으로 사용하기 위함이다.\n",
        "import pandas as pd\n",
        "\n",
        "# 시리즈(Series)\n",
        "# 시리즈는 pd.Series(데이터)로 만들 수 있다.\n",
        "# 시리즈의 괄호 안 데이터는 리스트를 활용해 만들 수 있다.\n",
        "# 출력 해보면 인덱스와 값이 출력되고, 자료형은 'object'다.\n",
        "# 판다스에서 object형은 주로 문자열 데이터를 나타내는 데 사용된다.\n",
        "\n",
        "menu = pd.Series(['비빔밥', '김치찌개', '된장찌개'])\n",
        "print(menu)\n",
        "\n",
        "print()\n",
        "# 숫자를 리스트 형태로 만들고, 이를 pd.Series()로 감싸게 되면 시리즈로 변경된다.\n",
        "# 이 시리즈 값의 자료형(타입)은 int다.\n",
        "# 판다스는 리스트에 포함된 데이터 타입을 기반으로 시리즈의 데이터 타입을 자동으로 결정한다.\n",
        "\n",
        "price = pd.Series([10000, 9000, 8000])\n",
        "print(price)\n",
        "\n",
        "print()\n",
        "# 데이터 프레임\n",
        "# 앞서 만든 2개의 시리즈를 합쳐 데이터프레임(표 형태)으로 만들어 보자.\n",
        "# 데이터 프레임은 pd.DataFrame({\"컬럼명\":데이터}) 로 만든다.\n",
        "# 자세히 살펴보면 소괄호 안에 중괄호로 묶여 있다.\n",
        "# 컬럼명의 \"메뉴\"는 문자(따옴표 있음) 그 자체고, 데이터의 menu는 변수명(따옴표 없음)이다.\n",
        "\n",
        "df1 = pd.DataFrame({\n",
        "    \"메뉴\" : menu,\n",
        "    \"가격\" : price\n",
        "})\n",
        "print(df1)\n",
        "\n",
        "print()\n",
        "# 데이터프레임을 만들 때 시리즈를 꼭 거쳐야 하는 것은 아니다.\n",
        "# 다음과 같이 데이터 프레임을 만들 수도 있다.\n",
        "\n",
        "df2 = pd.DataFrame({\n",
        "    \"메뉴\" : ['비빔밥', '김치찌개', '된장찌개'],\n",
        "    \"가격\" : [10000, 9000, 8000],\n",
        "    \"원산지\" : ['국내산', '국내산', '국내산']\n",
        "})\n",
        "print(df2)\n",
        "\n",
        "print()\n",
        "# 컬럼 선택\n",
        "# 데이터 프레임에서 특정 컬럼만 선택해 표시할 수 있다.\n",
        "# df['컬럼명'] 또는 df[\"컬럼명\"] 으로 컬럼명을 작은 따옴표 또는 큰 따옴표로 묶어주면 된다.\n",
        "\n",
        "print(df2['메뉴'])\n",
        "\n",
        "print()\n",
        "# 데이터프레임과 시리즈 자료형\n",
        "# 데이터프레임에서 특정 컬럼 1개만 선택하면 시리즈 형태가 된다.\n",
        "# 시리즈 형태가 아닌 데이터 프레임이 필요할 때가 있는데,\n",
        "# 1개의 컬럼을 시리즈가 아닌 데이터프레임으로 만드는 간단한 방법은 한번 더 대괄호로 묶어주는 것이다.\n",
        "\n",
        "print(df2[['메뉴']])\n",
        "\n",
        "print()\n",
        "# 복수의 컬럼을 선택할 때는 대괄호 2개를 사용한다. 결과는 데이터프레임 자료형이다.\n",
        "print(df2[['메뉴', '가격']])\n",
        "\n",
        "print()\n",
        "# 컬럼을 1개 선택하더라도 다음과 같이 데이터프레임 자료형으로 필요할 때 대괄호 2개를 사용할 수 있다.\n",
        "df3 = pd.DataFrame({\n",
        "    \"구분\" : [\"df[]\", \"df[[]]\"],\n",
        "    \"반환된 자료형\" : [\"1개 컬럼 선택\", \"1개 이상의 컬럼 선택\"],\n",
        "    \"예\" : [\"df['컬럼1']\", \"df['컬럼1'], df[['컬럼1','컬럼2']]\"]\n",
        "})\n",
        "print(df3)\n",
        "\n",
        "print()\n",
        "# 컬럼을 복수로 선택할 때는 주로 리스트를 활용한다.\n",
        "# cols 변수에 메뉴와 가격 컬럼명을 담고 df[cols] 를 실행하면\n",
        "# cols 변수에 있는 컬럼이 선택되어 데이터프레임으로 출력된다.\n",
        "# 대괄호가 하나처럼 보이나 df[['메뉴', '가격']]과 같음을 이해한다.\n",
        "cols = ['메뉴','가격']\n",
        "df2[cols]\n",
        "\n",
        "print()\n",
        "# 자료형 비교\n",
        "# type() 함수로 자료형을 확인해 보자.\n",
        "# df는 데이터 프레임,\n",
        "# df['컬럼명']은 시리즈,\n",
        "# df[['컬럼명']]은 데이터 프레임이다.\n",
        "\n",
        "# 머신러닝(작업형2)에서 입력 데이터로 특정 컬럼을 데이터프레임으로 넣어야 할 때가 있다.\n",
        "# df['컬럼명']과 같이 컬럼명을 1개만 선택하면 시리즈 형태가 된다.\n",
        "# 데이터프레임으로 만들기 위해 df[['컬럼명']]으로 사용한다.\n",
        "# 컬럼이 1개일 때 시리즈가 아닌 데이터프레임으로 만들기 위해 대괄호 2개가 종종 사용된다.\n",
        "\n",
        "print(\"df      :\", type(df2))\n",
        "print(\"df['가격'] :\", type(df2['가격']))\n",
        "print(\"df[['가격']]:\", type(df2[['가격']]))"
      ],
      "metadata": {
        "id": "3nB5-EnC22Go",
        "colab": {
          "base_uri": "https://localhost:8080/"
        },
        "outputId": "ca14b170-ccd2-4f01-8b1a-b0f873f31270"
      },
      "execution_count": 13,
      "outputs": [
        {
          "output_type": "stream",
          "name": "stdout",
          "text": [
            "0     비빔밥\n",
            "1    김치찌개\n",
            "2    된장찌개\n",
            "dtype: object\n",
            "\n",
            "0    10000\n",
            "1     9000\n",
            "2     8000\n",
            "dtype: int64\n",
            "\n",
            "     메뉴     가격\n",
            "0   비빔밥  10000\n",
            "1  김치찌개   9000\n",
            "2  된장찌개   8000\n",
            "\n",
            "     메뉴     가격  원산지\n",
            "0   비빔밥  10000  국내산\n",
            "1  김치찌개   9000  국내산\n",
            "2  된장찌개   8000  국내산\n",
            "\n",
            "0     비빔밥\n",
            "1    김치찌개\n",
            "2    된장찌개\n",
            "Name: 메뉴, dtype: object\n",
            "\n",
            "     메뉴\n",
            "0   비빔밥\n",
            "1  김치찌개\n",
            "2  된장찌개\n",
            "\n",
            "     메뉴     가격\n",
            "0   비빔밥  10000\n",
            "1  김치찌개   9000\n",
            "2  된장찌개   8000\n",
            "\n",
            "       구분       반환된 자료형                             예\n",
            "0    df[]      1개 컬럼 선택                     df['컬럼1']\n",
            "1  df[[]]  1개 이상의 컬럼 선택  df['컬럼1'], df[['컬럼1','컬럼2']]\n",
            "\n",
            "\n",
            "df      : <class 'pandas.core.frame.DataFrame'>\n",
            "df['가격'] : <class 'pandas.core.series.Series'>\n",
            "df[['가격']]: <class 'pandas.core.frame.DataFrame'>\n"
          ]
        }
      ]
    },
    {
      "cell_type": "code",
      "source": [
        "# 데이터 저장 및 불러오기\n",
        "import pandas as pd\n",
        "df = pd.DataFrame({\n",
        "    \"메뉴\" : ['아메리카노', '카페라떼', '카페모카', '카푸치노', '에스프레소', '밀크티', '녹차'],\n",
        "    \"가격\" : [4500, 5000, 5500, 5000, 4000, 5900, 5300],\n",
        "    \"칼로리\" : [10, 110, 250, 110, 20, 210, 0],\n",
        "})\n",
        "print(df)\n",
        "\n",
        "# csv로 저장\n",
        "df.to_csv('temp.csv')\n",
        "\n",
        "# csv 불러오기\n",
        "temp_df = pd.read_csv('temp.csv')\n",
        "print(temp_df.head())\n",
        "\n",
        "# Unnamed: 0 컬럼이 보인다. 데이터를 저장할 때 기본 설정으로 기존 인덱스가 값으로 함께 저장된 것이다.\n",
        "# 가장 왼쪽에 있는 이 인덱스는 pd.read_csv()로 데이터를 불러올 때 새로 생성된 인덱스다.\n",
        "\n",
        "# csv 저장 옵션\n",
        "# 기존 인덱스를 제외하고 csv에 저장된 것을 확인할 수 있다.\n",
        "# 데이터를 저장할 때 인덱스를 제외하는 것은 작업형2에서 필수로 사용하는 기능이다.\n",
        "df.to_csv('cafe.csv', index=False)\n",
        "df = pd.read_csv('cafe.csv')\n",
        "print(df.head())\n",
        "\n",
        "# 데이터 불러오기 옵션\n",
        "# 데이터를 불러올 때 사용하는 판다스의 read_csv() 함수는 주요 파라미터다.\n",
        "# 시험에서는 데이터를 불러오는 코드를 제공하므로 암기할 필요는 없다.\n",
        "# 간혹 제공된 코드에 index_col 등이 포함되기도 하므로 심화학습을 원한다면 살펴보자.\n",
        "\n",
        "# index_col\n",
        "# 인덱스로 사용할 컬럼명 또는 열의 번호를 지정한다.\n",
        "# pd.read_csv('data.csv', index_col='컬럼명')\n",
        "# pd.read_csv('data_csv', index_col=0)\n",
        "\n",
        "# usecols\n",
        "# 불러올 컬럼명 또는 열의 번호를 지정한다.\n",
        "\n",
        "# pd.read_csv('data.csv', usecols=['컬럼명1', '컬럼명2', ...])\n",
        "# pd.read_csv('data.csv', usecols=[열 번호1, 열 번호2,...])\n",
        "\n",
        "# parse_dates\n",
        "# 데이터를 불러올 때 parse_dates로 컬럼명을 지정하면 문자열로 된 컬럼을 날짜 datetime으로 변경할 수 있다.\n",
        "# 이를 파싱(parsing)한다고 한다.\n",
        "\n",
        "# pd.read_csv('data.csv', parse_dates=['컬럼명'])\n",
        "\n",
        "# encoding\n",
        "# 일반적으로 판다스는 'UTF-8'을 기본 인코딩 방식으로 사용한다.\n",
        "# 만약 한국어가 포함된 텍스트 파일이 'UTF-8'이 아닐 경우 글자가 깨지는 현상을 볼 수 있다.\n",
        "# 데이터를 불러올 때 'cp949' 또는 'euc-kr'로 설정한다.\n",
        "\n",
        "# pd.read_csv('data.csv', encoding='cp949')\n",
        "# pd.read_csv('data.csv', encoding='euc-kr')"
      ],
      "metadata": {
        "id": "CwtI3HjJ25SO",
        "colab": {
          "base_uri": "https://localhost:8080/"
        },
        "outputId": "03f933a9-d29b-45c6-daf8-e9b92dcc8d76"
      },
      "execution_count": 14,
      "outputs": [
        {
          "output_type": "stream",
          "name": "stdout",
          "text": [
            "      메뉴    가격  칼로리\n",
            "0  아메리카노  4500   10\n",
            "1   카페라떼  5000  110\n",
            "2   카페모카  5500  250\n",
            "3   카푸치노  5000  110\n",
            "4  에스프레소  4000   20\n",
            "5    밀크티  5900  210\n",
            "6     녹차  5300    0\n",
            "   Unnamed: 0     메뉴    가격  칼로리\n",
            "0           0  아메리카노  4500   10\n",
            "1           1   카페라떼  5000  110\n",
            "2           2   카페모카  5500  250\n",
            "3           3   카푸치노  5000  110\n",
            "4           4  에스프레소  4000   20\n",
            "      메뉴    가격  칼로리\n",
            "0  아메리카노  4500   10\n",
            "1   카페라떼  5000  110\n",
            "2   카페모카  5500  250\n",
            "3   카푸치노  5000  110\n",
            "4  에스프레소  4000   20\n"
          ]
        }
      ]
    },
    {
      "cell_type": "code",
      "source": [
        "import pandas as pd\n",
        "# 탐색적 데이터 분석(EDA)\n",
        "\n",
        "# 데이터프레임 샘플 확인\n",
        "# 판다스에서 데이터프레임의 일부를 확인 하는 방법은 세가지\n",
        "# head, tail, sample이 그것이다.\n",
        "\n",
        "# head(N)은 데이터프레임의 상위 N개 행을 반환한다. N은 양의 정수로 기본값은 5다.\n",
        "\n",
        "print(df.head(2))\n",
        "\n",
        "print()\n",
        "# tail(N)은 데이터프레임의 하위 N개의 행을 반환한다. N은 양의 정수로 기본값은 5다.\n",
        "print(df.tail(3))\n",
        "\n",
        "print()\n",
        "# sample(N)은 데이터프레임에서 임의로 샘플링해 N 개의 행을 반환한다. N은 양의 정수로 기본값은 1이다.\n",
        "# head 또는 tail과 달리, 실행할 때마다 다른 결과를 샘플링해 보여준다.\n",
        "print(df.sample(3))\n",
        "\n",
        "print()\n",
        "# 데이터 프레임의 크기\n",
        "# 전체 데이터의 크기를 확인할 때는 df.shape를 활용한다.\n",
        "# 주의할 점은 뒤에 괄호가 없는 속성을 갖고 있다는 것이다.\n",
        "print(df.shape)\n",
        "# shape는 데이터프레임의 속성이어서 괄호가 없고, head(), tail()은 함수(메소드) 형태라서 괄호가 존재한다.\n",
        "\n",
        "print()\n",
        "# 컬럼별 자료형\n",
        "# 데이터프레임 안 컬럼의 자료형(type)은 info()를 통해 확인한다.\n",
        "# Dtype에서 문자는 object, 숫자는 int로 표시됨을 확인할 수 있다.\n",
        "# 시험에서 int 또는 float 뒤에 오는 숫자(비트)는 무시해도 좋다.\n",
        "print(df.info())\n",
        "\n",
        "print()\n",
        "# 상관 관계\n",
        "# 상관관계는 판다스의 corr()을 통해 확인한다.\n",
        "# 가격과 칼로리는 0.7의 양의 상관 관계를 확인 할 수 있다.\n",
        "print(df.corr(numeric_only=True))\n",
        "\n",
        "print()\n",
        "# 코랩과 시험환경에서 발생하는 에러와 그 해결 방법\n",
        "# 판다스 라이브러리가 업데이트되면서 몇 가지 주의할 점이 생겼다.\n",
        "# 데이터프레임에 숫자형과 문자형 컬럼이 혼합되어 있을 때,\n",
        "# corr(), mean(), sum() 같은 함수를 사용하면 다음과 같은 에러가 발생할 수 있다.\n",
        "# ValueError : could not conver string to float : '아메리카노'\n",
        "\n",
        "print(df.corr(numeric_only=True))\n",
        "\n",
        "print()\n",
        "# 범주형 데이터 탐색\n",
        "# 다음은 자동차의 종류와 크기를 나타낸 중복 값이 있는 데이터다.\n",
        "df_car = pd.DataFrame({\n",
        "    \"car\" : ['Sedan', 'SUV', 'Sedan', 'SUV', 'SUV', 'SUV', 'Sedan', 'Sedan', 'Sedan', 'Sedan', 'Sedan'],\n",
        "    \"size\" : ['S', 'M', 'S', 'S', 'M', 'M', 'L', 'S', 'S', 'M', 'S']\n",
        "})\n",
        "print(df_car.head(3))\n",
        "\n",
        "print()\n",
        "# 고유한 값의 개수\n",
        "# 데이터프레임에서 컬럼별로 고유한 값의 개수를 찾을 때는 nunique()를 활용한다.\n",
        "# car 종류는 2개, size 종류는 3개가 있는 것을 확인할 수 있다.\n",
        "\n",
        "print(df_car.nunique())\n",
        "\n",
        "print()\n",
        "# 고유한 값\n",
        "# nunique()로는 종류의 수를 파악할 수 있지만, 어떤 데이터인지는 알 수 없다.\n",
        "# 구체적인 항목으 파악하기 위해서는 unique()를 활용한다.\n",
        "# car에는 Sedan과 SUV가 있고, size에는 S, M, L 이 있다.\n",
        "\n",
        "print(df_car['car'].unique())\n",
        "print(df_car['size'].unique())\n",
        "\n",
        "print()\n",
        "# 고유한 값과 개수\n",
        "# 앞서 배운 nunique()와 nunique()의 결과 내용을 한번에 파악할 수도 있다.\n",
        "# value_counts()는 항목별로 개수를 출력해 데이터를 탐색하는 데 매우 유용하게 사용된다.\n",
        "print(df_car['car'].value_counts())\n",
        "print(df_car['size'].value_counts())\n",
        "\n",
        "print()\n",
        "# value_counts()\n",
        "# value_counts()는 작업형 2에서 빈번하게 사용된다.\n",
        "# 주로 시리즈(데이터프레임 특정 컬럼)에 적용한다.\n",
        "# 데이터프레임에서 특정 컬럼 1개만 선택하면 시리즈 형태가 된다.\n",
        "# df['컬럼명'].value_counts()와 같이 사용한다.\n",
        "# 판다스 1.1.0 이상(시험 환경 포함) 에서는 df.value_counts()와 같이 사용 가능하다.\n",
        "# 다만, 결과 보기가 불편할 수 있으므로 시리즈(컬럼을 선택한 df['컬럼명'].value_counts())\n",
        "# 에서 사용하기를 추천한다.\n",
        "\n",
        "# 기술통계\n",
        "# 데이터의 기술통계량은 describe()를 통해 확인할 수 있다.\n",
        "# 더욱 명확한 결과를 보여주기 위해 수치형 데이터를 확인할 때는 df 변수를\n",
        "# 범주형 데이터를 확인할 때는 앞서 새로 만들었던 df_car 변수를 활용하자.\n",
        "\n",
        "# count : 값이 있는 데이터 수\n",
        "# mean : 평균\n",
        "# std : 표준 편차\n",
        "# min : 최솟값\n",
        "# 00% : 백분위수에서 00%\n",
        "# max : 최댓값\n",
        "\n",
        "df.describe()\n",
        "\n",
        "print()\n",
        "# 기술통계(object 자료형)\n",
        "# 데이터 타입이 object인 기술통계를 확인할 때는 include 파라미터를 활용한다.\n",
        "# \"O\" 또는 \"object\"를 입력한다.\n",
        "\n",
        "# count : 값이 있는 데이터 수\n",
        "# unique : 고유한 데이터 수(종류)\n",
        "# top : 가장 많이 나오는 값(최빈값)\n",
        "# freq : 가장 많이 나오는 값의 빈도수\n",
        "df_car.describe(include=\"object\")\n",
        "df.describe(include=\"object\")"
      ],
      "metadata": {
        "colab": {
          "base_uri": "https://localhost:8080/",
          "height": 1000
        },
        "id": "S0DbLeR677Mv",
        "outputId": "519973be-07d6-472a-aa2d-ca7a3660c34f"
      },
      "execution_count": 15,
      "outputs": [
        {
          "output_type": "stream",
          "name": "stdout",
          "text": [
            "      메뉴    가격  칼로리\n",
            "0  아메리카노  4500   10\n",
            "1   카페라떼  5000  110\n",
            "\n",
            "      메뉴    가격  칼로리\n",
            "4  에스프레소  4000   20\n",
            "5    밀크티  5900  210\n",
            "6     녹차  5300    0\n",
            "\n",
            "     메뉴    가격  칼로리\n",
            "1  카페라떼  5000  110\n",
            "6    녹차  5300    0\n",
            "3  카푸치노  5000  110\n",
            "\n",
            "(7, 3)\n",
            "\n",
            "<class 'pandas.core.frame.DataFrame'>\n",
            "RangeIndex: 7 entries, 0 to 6\n",
            "Data columns (total 3 columns):\n",
            " #   Column  Non-Null Count  Dtype \n",
            "---  ------  --------------  ----- \n",
            " 0   메뉴      7 non-null      object\n",
            " 1   가격      7 non-null      int64 \n",
            " 2   칼로리     7 non-null      int64 \n",
            "dtypes: int64(2), object(1)\n",
            "memory usage: 300.0+ bytes\n",
            "None\n",
            "\n",
            "           가격       칼로리\n",
            "가격   1.000000  0.713227\n",
            "칼로리  0.713227  1.000000\n",
            "\n",
            "           가격       칼로리\n",
            "가격   1.000000  0.713227\n",
            "칼로리  0.713227  1.000000\n",
            "\n",
            "     car size\n",
            "0  Sedan    S\n",
            "1    SUV    M\n",
            "2  Sedan    S\n",
            "\n",
            "car     2\n",
            "size    3\n",
            "dtype: int64\n",
            "\n",
            "['Sedan' 'SUV']\n",
            "['S' 'M' 'L']\n",
            "\n",
            "car\n",
            "Sedan    7\n",
            "SUV      4\n",
            "Name: count, dtype: int64\n",
            "size\n",
            "S    6\n",
            "M    4\n",
            "L    1\n",
            "Name: count, dtype: int64\n",
            "\n",
            "\n"
          ]
        },
        {
          "output_type": "execute_result",
          "data": {
            "text/plain": [
              "           메뉴\n",
              "count       7\n",
              "unique      7\n",
              "top     아메리카노\n",
              "freq        1"
            ],
            "text/html": [
              "\n",
              "  <div id=\"df-a46855fd-4f8d-4851-924b-38190eb103c8\" class=\"colab-df-container\">\n",
              "    <div>\n",
              "<style scoped>\n",
              "    .dataframe tbody tr th:only-of-type {\n",
              "        vertical-align: middle;\n",
              "    }\n",
              "\n",
              "    .dataframe tbody tr th {\n",
              "        vertical-align: top;\n",
              "    }\n",
              "\n",
              "    .dataframe thead th {\n",
              "        text-align: right;\n",
              "    }\n",
              "</style>\n",
              "<table border=\"1\" class=\"dataframe\">\n",
              "  <thead>\n",
              "    <tr style=\"text-align: right;\">\n",
              "      <th></th>\n",
              "      <th>메뉴</th>\n",
              "    </tr>\n",
              "  </thead>\n",
              "  <tbody>\n",
              "    <tr>\n",
              "      <th>count</th>\n",
              "      <td>7</td>\n",
              "    </tr>\n",
              "    <tr>\n",
              "      <th>unique</th>\n",
              "      <td>7</td>\n",
              "    </tr>\n",
              "    <tr>\n",
              "      <th>top</th>\n",
              "      <td>아메리카노</td>\n",
              "    </tr>\n",
              "    <tr>\n",
              "      <th>freq</th>\n",
              "      <td>1</td>\n",
              "    </tr>\n",
              "  </tbody>\n",
              "</table>\n",
              "</div>\n",
              "    <div class=\"colab-df-buttons\">\n",
              "\n",
              "  <div class=\"colab-df-container\">\n",
              "    <button class=\"colab-df-convert\" onclick=\"convertToInteractive('df-a46855fd-4f8d-4851-924b-38190eb103c8')\"\n",
              "            title=\"Convert this dataframe to an interactive table.\"\n",
              "            style=\"display:none;\">\n",
              "\n",
              "  <svg xmlns=\"http://www.w3.org/2000/svg\" height=\"24px\" viewBox=\"0 -960 960 960\">\n",
              "    <path d=\"M120-120v-720h720v720H120Zm60-500h600v-160H180v160Zm220 220h160v-160H400v160Zm0 220h160v-160H400v160ZM180-400h160v-160H180v160Zm440 0h160v-160H620v160ZM180-180h160v-160H180v160Zm440 0h160v-160H620v160Z\"/>\n",
              "  </svg>\n",
              "    </button>\n",
              "\n",
              "  <style>\n",
              "    .colab-df-container {\n",
              "      display:flex;\n",
              "      gap: 12px;\n",
              "    }\n",
              "\n",
              "    .colab-df-convert {\n",
              "      background-color: #E8F0FE;\n",
              "      border: none;\n",
              "      border-radius: 50%;\n",
              "      cursor: pointer;\n",
              "      display: none;\n",
              "      fill: #1967D2;\n",
              "      height: 32px;\n",
              "      padding: 0 0 0 0;\n",
              "      width: 32px;\n",
              "    }\n",
              "\n",
              "    .colab-df-convert:hover {\n",
              "      background-color: #E2EBFA;\n",
              "      box-shadow: 0px 1px 2px rgba(60, 64, 67, 0.3), 0px 1px 3px 1px rgba(60, 64, 67, 0.15);\n",
              "      fill: #174EA6;\n",
              "    }\n",
              "\n",
              "    .colab-df-buttons div {\n",
              "      margin-bottom: 4px;\n",
              "    }\n",
              "\n",
              "    [theme=dark] .colab-df-convert {\n",
              "      background-color: #3B4455;\n",
              "      fill: #D2E3FC;\n",
              "    }\n",
              "\n",
              "    [theme=dark] .colab-df-convert:hover {\n",
              "      background-color: #434B5C;\n",
              "      box-shadow: 0px 1px 3px 1px rgba(0, 0, 0, 0.15);\n",
              "      filter: drop-shadow(0px 1px 2px rgba(0, 0, 0, 0.3));\n",
              "      fill: #FFFFFF;\n",
              "    }\n",
              "  </style>\n",
              "\n",
              "    <script>\n",
              "      const buttonEl =\n",
              "        document.querySelector('#df-a46855fd-4f8d-4851-924b-38190eb103c8 button.colab-df-convert');\n",
              "      buttonEl.style.display =\n",
              "        google.colab.kernel.accessAllowed ? 'block' : 'none';\n",
              "\n",
              "      async function convertToInteractive(key) {\n",
              "        const element = document.querySelector('#df-a46855fd-4f8d-4851-924b-38190eb103c8');\n",
              "        const dataTable =\n",
              "          await google.colab.kernel.invokeFunction('convertToInteractive',\n",
              "                                                    [key], {});\n",
              "        if (!dataTable) return;\n",
              "\n",
              "        const docLinkHtml = 'Like what you see? Visit the ' +\n",
              "          '<a target=\"_blank\" href=https://colab.research.google.com/notebooks/data_table.ipynb>data table notebook</a>'\n",
              "          + ' to learn more about interactive tables.';\n",
              "        element.innerHTML = '';\n",
              "        dataTable['output_type'] = 'display_data';\n",
              "        await google.colab.output.renderOutput(dataTable, element);\n",
              "        const docLink = document.createElement('div');\n",
              "        docLink.innerHTML = docLinkHtml;\n",
              "        element.appendChild(docLink);\n",
              "      }\n",
              "    </script>\n",
              "  </div>\n",
              "\n",
              "\n",
              "    <div id=\"df-a7f832f3-0274-4c2f-a958-286cd3ab1b2e\">\n",
              "      <button class=\"colab-df-quickchart\" onclick=\"quickchart('df-a7f832f3-0274-4c2f-a958-286cd3ab1b2e')\"\n",
              "                title=\"Suggest charts\"\n",
              "                style=\"display:none;\">\n",
              "\n",
              "<svg xmlns=\"http://www.w3.org/2000/svg\" height=\"24px\"viewBox=\"0 0 24 24\"\n",
              "     width=\"24px\">\n",
              "    <g>\n",
              "        <path d=\"M19 3H5c-1.1 0-2 .9-2 2v14c0 1.1.9 2 2 2h14c1.1 0 2-.9 2-2V5c0-1.1-.9-2-2-2zM9 17H7v-7h2v7zm4 0h-2V7h2v10zm4 0h-2v-4h2v4z\"/>\n",
              "    </g>\n",
              "</svg>\n",
              "      </button>\n",
              "\n",
              "<style>\n",
              "  .colab-df-quickchart {\n",
              "      --bg-color: #E8F0FE;\n",
              "      --fill-color: #1967D2;\n",
              "      --hover-bg-color: #E2EBFA;\n",
              "      --hover-fill-color: #174EA6;\n",
              "      --disabled-fill-color: #AAA;\n",
              "      --disabled-bg-color: #DDD;\n",
              "  }\n",
              "\n",
              "  [theme=dark] .colab-df-quickchart {\n",
              "      --bg-color: #3B4455;\n",
              "      --fill-color: #D2E3FC;\n",
              "      --hover-bg-color: #434B5C;\n",
              "      --hover-fill-color: #FFFFFF;\n",
              "      --disabled-bg-color: #3B4455;\n",
              "      --disabled-fill-color: #666;\n",
              "  }\n",
              "\n",
              "  .colab-df-quickchart {\n",
              "    background-color: var(--bg-color);\n",
              "    border: none;\n",
              "    border-radius: 50%;\n",
              "    cursor: pointer;\n",
              "    display: none;\n",
              "    fill: var(--fill-color);\n",
              "    height: 32px;\n",
              "    padding: 0;\n",
              "    width: 32px;\n",
              "  }\n",
              "\n",
              "  .colab-df-quickchart:hover {\n",
              "    background-color: var(--hover-bg-color);\n",
              "    box-shadow: 0 1px 2px rgba(60, 64, 67, 0.3), 0 1px 3px 1px rgba(60, 64, 67, 0.15);\n",
              "    fill: var(--button-hover-fill-color);\n",
              "  }\n",
              "\n",
              "  .colab-df-quickchart-complete:disabled,\n",
              "  .colab-df-quickchart-complete:disabled:hover {\n",
              "    background-color: var(--disabled-bg-color);\n",
              "    fill: var(--disabled-fill-color);\n",
              "    box-shadow: none;\n",
              "  }\n",
              "\n",
              "  .colab-df-spinner {\n",
              "    border: 2px solid var(--fill-color);\n",
              "    border-color: transparent;\n",
              "    border-bottom-color: var(--fill-color);\n",
              "    animation:\n",
              "      spin 1s steps(1) infinite;\n",
              "  }\n",
              "\n",
              "  @keyframes spin {\n",
              "    0% {\n",
              "      border-color: transparent;\n",
              "      border-bottom-color: var(--fill-color);\n",
              "      border-left-color: var(--fill-color);\n",
              "    }\n",
              "    20% {\n",
              "      border-color: transparent;\n",
              "      border-left-color: var(--fill-color);\n",
              "      border-top-color: var(--fill-color);\n",
              "    }\n",
              "    30% {\n",
              "      border-color: transparent;\n",
              "      border-left-color: var(--fill-color);\n",
              "      border-top-color: var(--fill-color);\n",
              "      border-right-color: var(--fill-color);\n",
              "    }\n",
              "    40% {\n",
              "      border-color: transparent;\n",
              "      border-right-color: var(--fill-color);\n",
              "      border-top-color: var(--fill-color);\n",
              "    }\n",
              "    60% {\n",
              "      border-color: transparent;\n",
              "      border-right-color: var(--fill-color);\n",
              "    }\n",
              "    80% {\n",
              "      border-color: transparent;\n",
              "      border-right-color: var(--fill-color);\n",
              "      border-bottom-color: var(--fill-color);\n",
              "    }\n",
              "    90% {\n",
              "      border-color: transparent;\n",
              "      border-bottom-color: var(--fill-color);\n",
              "    }\n",
              "  }\n",
              "</style>\n",
              "\n",
              "      <script>\n",
              "        async function quickchart(key) {\n",
              "          const quickchartButtonEl =\n",
              "            document.querySelector('#' + key + ' button');\n",
              "          quickchartButtonEl.disabled = true;  // To prevent multiple clicks.\n",
              "          quickchartButtonEl.classList.add('colab-df-spinner');\n",
              "          try {\n",
              "            const charts = await google.colab.kernel.invokeFunction(\n",
              "                'suggestCharts', [key], {});\n",
              "          } catch (error) {\n",
              "            console.error('Error during call to suggestCharts:', error);\n",
              "          }\n",
              "          quickchartButtonEl.classList.remove('colab-df-spinner');\n",
              "          quickchartButtonEl.classList.add('colab-df-quickchart-complete');\n",
              "        }\n",
              "        (() => {\n",
              "          let quickchartButtonEl =\n",
              "            document.querySelector('#df-a7f832f3-0274-4c2f-a958-286cd3ab1b2e button');\n",
              "          quickchartButtonEl.style.display =\n",
              "            google.colab.kernel.accessAllowed ? 'block' : 'none';\n",
              "        })();\n",
              "      </script>\n",
              "    </div>\n",
              "\n",
              "    </div>\n",
              "  </div>\n"
            ],
            "application/vnd.google.colaboratory.intrinsic+json": {
              "type": "dataframe",
              "summary": "{\n  \"name\": \"df\",\n  \"rows\": 4,\n  \"fields\": [\n    {\n      \"column\": \"\\uba54\\ub274\",\n      \"properties\": {\n        \"dtype\": \"string\",\n        \"num_unique_values\": 3,\n        \"samples\": [\n          \"7\",\n          \"\\uc544\\uba54\\ub9ac\\uce74\\ub178\",\n          \"1\"\n        ],\n        \"semantic_type\": \"\",\n        \"description\": \"\"\n      }\n    }\n  ]\n}"
            }
          },
          "metadata": {},
          "execution_count": 15
        }
      ]
    },
    {
      "cell_type": "code",
      "source": [
        "# 자료형 변환\n",
        "# 판다스에서 주로 볼 수 있는 자료형은 int(정수), float(실수), object(문자)다.\n",
        "data = {\n",
        "    \"메뉴\" : ['아메리카노', '카페라떼', '카페모카', '카푸치노', '에스프레소', '밀크티', '녹차'],\n",
        "    \"가격\" : ['4500.0', '5000.0', '5500.0', '5000.0', '4000.0', '5900.0', '5300.0'],\n",
        "    \"칼로리\" : ['10', '110', '250', '110', '20', '210', '0'],\n",
        "}\n",
        "df = pd.DataFrame(data)\n",
        "print(df)\n",
        "print(df.info())\n",
        "print(df.head(2))\n",
        "\n",
        "print()\n",
        "# int로 변환\n",
        "df['가격'] = pd.to_numeric(df['가격'], errors='coerce').astype('int')\n",
        "print(df.info())\n",
        "\n",
        "print()\n",
        "# float으로 변환\n",
        "# object 자료형인 칼로리 컬럼을 float형으로 변경해 보자.\n",
        "# 이때 주의할 점은 칼로리가 정수형으로 변경 가능한 데이터라면 문제가 없지만,\n",
        "# 만약 문자 데이터가 있다면 에러가 발생한다는 것이다.\n",
        "df['칼로리'] = df['칼로리'].astype('float')\n",
        "df.info()\n"
      ],
      "metadata": {
        "id": "0Pzifxsr27tQ",
        "colab": {
          "base_uri": "https://localhost:8080/"
        },
        "outputId": "204d83be-0147-4116-d6a7-9ee7e4aed1b7"
      },
      "execution_count": 16,
      "outputs": [
        {
          "output_type": "stream",
          "name": "stdout",
          "text": [
            "      메뉴      가격  칼로리\n",
            "0  아메리카노  4500.0   10\n",
            "1   카페라떼  5000.0  110\n",
            "2   카페모카  5500.0  250\n",
            "3   카푸치노  5000.0  110\n",
            "4  에스프레소  4000.0   20\n",
            "5    밀크티  5900.0  210\n",
            "6     녹차  5300.0    0\n",
            "<class 'pandas.core.frame.DataFrame'>\n",
            "RangeIndex: 7 entries, 0 to 6\n",
            "Data columns (total 3 columns):\n",
            " #   Column  Non-Null Count  Dtype \n",
            "---  ------  --------------  ----- \n",
            " 0   메뉴      7 non-null      object\n",
            " 1   가격      7 non-null      object\n",
            " 2   칼로리     7 non-null      object\n",
            "dtypes: object(3)\n",
            "memory usage: 300.0+ bytes\n",
            "None\n",
            "      메뉴      가격  칼로리\n",
            "0  아메리카노  4500.0   10\n",
            "1   카페라떼  5000.0  110\n",
            "\n",
            "<class 'pandas.core.frame.DataFrame'>\n",
            "RangeIndex: 7 entries, 0 to 6\n",
            "Data columns (total 3 columns):\n",
            " #   Column  Non-Null Count  Dtype \n",
            "---  ------  --------------  ----- \n",
            " 0   메뉴      7 non-null      object\n",
            " 1   가격      7 non-null      int64 \n",
            " 2   칼로리     7 non-null      object\n",
            "dtypes: int64(1), object(2)\n",
            "memory usage: 300.0+ bytes\n",
            "None\n",
            "\n",
            "<class 'pandas.core.frame.DataFrame'>\n",
            "RangeIndex: 7 entries, 0 to 6\n",
            "Data columns (total 3 columns):\n",
            " #   Column  Non-Null Count  Dtype  \n",
            "---  ------  --------------  -----  \n",
            " 0   메뉴      7 non-null      object \n",
            " 1   가격      7 non-null      int64  \n",
            " 2   칼로리     7 non-null      float64\n",
            "dtypes: float64(1), int64(1), object(1)\n",
            "memory usage: 300.0+ bytes\n"
          ]
        }
      ]
    },
    {
      "cell_type": "code",
      "source": [
        "# 새로운 컬럼 추가\n",
        "df = pd.read_csv('cafe.csv')\n",
        "df.head(2)\n",
        "\n",
        "print()\n",
        "# 새로운 컬럼추가\n",
        "df['new'] = 0\n",
        "df.head(2)\n",
        "\n",
        "print()\n",
        "# 기존 컬럼을 사용한 계산\n",
        "discount = 0.2\n",
        "df['할인가'] = df['가격'] * (1-discount)\n",
        "df.head(2)\n"
      ],
      "metadata": {
        "id": "vISXpGDe29Dv",
        "colab": {
          "base_uri": "https://localhost:8080/",
          "height": 147
        },
        "outputId": "0eaba220-d3fa-4942-ef99-d2ced45c1d7e"
      },
      "execution_count": 17,
      "outputs": [
        {
          "output_type": "stream",
          "name": "stdout",
          "text": [
            "\n",
            "\n"
          ]
        },
        {
          "output_type": "execute_result",
          "data": {
            "text/plain": [
              "      메뉴    가격  칼로리  new     할인가\n",
              "0  아메리카노  4500   10    0  3600.0\n",
              "1   카페라떼  5000  110    0  4000.0"
            ],
            "text/html": [
              "\n",
              "  <div id=\"df-14471bb9-a392-433a-9a6a-d53d2fad590d\" class=\"colab-df-container\">\n",
              "    <div>\n",
              "<style scoped>\n",
              "    .dataframe tbody tr th:only-of-type {\n",
              "        vertical-align: middle;\n",
              "    }\n",
              "\n",
              "    .dataframe tbody tr th {\n",
              "        vertical-align: top;\n",
              "    }\n",
              "\n",
              "    .dataframe thead th {\n",
              "        text-align: right;\n",
              "    }\n",
              "</style>\n",
              "<table border=\"1\" class=\"dataframe\">\n",
              "  <thead>\n",
              "    <tr style=\"text-align: right;\">\n",
              "      <th></th>\n",
              "      <th>메뉴</th>\n",
              "      <th>가격</th>\n",
              "      <th>칼로리</th>\n",
              "      <th>new</th>\n",
              "      <th>할인가</th>\n",
              "    </tr>\n",
              "  </thead>\n",
              "  <tbody>\n",
              "    <tr>\n",
              "      <th>0</th>\n",
              "      <td>아메리카노</td>\n",
              "      <td>4500</td>\n",
              "      <td>10</td>\n",
              "      <td>0</td>\n",
              "      <td>3600.0</td>\n",
              "    </tr>\n",
              "    <tr>\n",
              "      <th>1</th>\n",
              "      <td>카페라떼</td>\n",
              "      <td>5000</td>\n",
              "      <td>110</td>\n",
              "      <td>0</td>\n",
              "      <td>4000.0</td>\n",
              "    </tr>\n",
              "  </tbody>\n",
              "</table>\n",
              "</div>\n",
              "    <div class=\"colab-df-buttons\">\n",
              "\n",
              "  <div class=\"colab-df-container\">\n",
              "    <button class=\"colab-df-convert\" onclick=\"convertToInteractive('df-14471bb9-a392-433a-9a6a-d53d2fad590d')\"\n",
              "            title=\"Convert this dataframe to an interactive table.\"\n",
              "            style=\"display:none;\">\n",
              "\n",
              "  <svg xmlns=\"http://www.w3.org/2000/svg\" height=\"24px\" viewBox=\"0 -960 960 960\">\n",
              "    <path d=\"M120-120v-720h720v720H120Zm60-500h600v-160H180v160Zm220 220h160v-160H400v160Zm0 220h160v-160H400v160ZM180-400h160v-160H180v160Zm440 0h160v-160H620v160ZM180-180h160v-160H180v160Zm440 0h160v-160H620v160Z\"/>\n",
              "  </svg>\n",
              "    </button>\n",
              "\n",
              "  <style>\n",
              "    .colab-df-container {\n",
              "      display:flex;\n",
              "      gap: 12px;\n",
              "    }\n",
              "\n",
              "    .colab-df-convert {\n",
              "      background-color: #E8F0FE;\n",
              "      border: none;\n",
              "      border-radius: 50%;\n",
              "      cursor: pointer;\n",
              "      display: none;\n",
              "      fill: #1967D2;\n",
              "      height: 32px;\n",
              "      padding: 0 0 0 0;\n",
              "      width: 32px;\n",
              "    }\n",
              "\n",
              "    .colab-df-convert:hover {\n",
              "      background-color: #E2EBFA;\n",
              "      box-shadow: 0px 1px 2px rgba(60, 64, 67, 0.3), 0px 1px 3px 1px rgba(60, 64, 67, 0.15);\n",
              "      fill: #174EA6;\n",
              "    }\n",
              "\n",
              "    .colab-df-buttons div {\n",
              "      margin-bottom: 4px;\n",
              "    }\n",
              "\n",
              "    [theme=dark] .colab-df-convert {\n",
              "      background-color: #3B4455;\n",
              "      fill: #D2E3FC;\n",
              "    }\n",
              "\n",
              "    [theme=dark] .colab-df-convert:hover {\n",
              "      background-color: #434B5C;\n",
              "      box-shadow: 0px 1px 3px 1px rgba(0, 0, 0, 0.15);\n",
              "      filter: drop-shadow(0px 1px 2px rgba(0, 0, 0, 0.3));\n",
              "      fill: #FFFFFF;\n",
              "    }\n",
              "  </style>\n",
              "\n",
              "    <script>\n",
              "      const buttonEl =\n",
              "        document.querySelector('#df-14471bb9-a392-433a-9a6a-d53d2fad590d button.colab-df-convert');\n",
              "      buttonEl.style.display =\n",
              "        google.colab.kernel.accessAllowed ? 'block' : 'none';\n",
              "\n",
              "      async function convertToInteractive(key) {\n",
              "        const element = document.querySelector('#df-14471bb9-a392-433a-9a6a-d53d2fad590d');\n",
              "        const dataTable =\n",
              "          await google.colab.kernel.invokeFunction('convertToInteractive',\n",
              "                                                    [key], {});\n",
              "        if (!dataTable) return;\n",
              "\n",
              "        const docLinkHtml = 'Like what you see? Visit the ' +\n",
              "          '<a target=\"_blank\" href=https://colab.research.google.com/notebooks/data_table.ipynb>data table notebook</a>'\n",
              "          + ' to learn more about interactive tables.';\n",
              "        element.innerHTML = '';\n",
              "        dataTable['output_type'] = 'display_data';\n",
              "        await google.colab.output.renderOutput(dataTable, element);\n",
              "        const docLink = document.createElement('div');\n",
              "        docLink.innerHTML = docLinkHtml;\n",
              "        element.appendChild(docLink);\n",
              "      }\n",
              "    </script>\n",
              "  </div>\n",
              "\n",
              "\n",
              "    <div id=\"df-05921174-9331-47c5-b182-a07231933978\">\n",
              "      <button class=\"colab-df-quickchart\" onclick=\"quickchart('df-05921174-9331-47c5-b182-a07231933978')\"\n",
              "                title=\"Suggest charts\"\n",
              "                style=\"display:none;\">\n",
              "\n",
              "<svg xmlns=\"http://www.w3.org/2000/svg\" height=\"24px\"viewBox=\"0 0 24 24\"\n",
              "     width=\"24px\">\n",
              "    <g>\n",
              "        <path d=\"M19 3H5c-1.1 0-2 .9-2 2v14c0 1.1.9 2 2 2h14c1.1 0 2-.9 2-2V5c0-1.1-.9-2-2-2zM9 17H7v-7h2v7zm4 0h-2V7h2v10zm4 0h-2v-4h2v4z\"/>\n",
              "    </g>\n",
              "</svg>\n",
              "      </button>\n",
              "\n",
              "<style>\n",
              "  .colab-df-quickchart {\n",
              "      --bg-color: #E8F0FE;\n",
              "      --fill-color: #1967D2;\n",
              "      --hover-bg-color: #E2EBFA;\n",
              "      --hover-fill-color: #174EA6;\n",
              "      --disabled-fill-color: #AAA;\n",
              "      --disabled-bg-color: #DDD;\n",
              "  }\n",
              "\n",
              "  [theme=dark] .colab-df-quickchart {\n",
              "      --bg-color: #3B4455;\n",
              "      --fill-color: #D2E3FC;\n",
              "      --hover-bg-color: #434B5C;\n",
              "      --hover-fill-color: #FFFFFF;\n",
              "      --disabled-bg-color: #3B4455;\n",
              "      --disabled-fill-color: #666;\n",
              "  }\n",
              "\n",
              "  .colab-df-quickchart {\n",
              "    background-color: var(--bg-color);\n",
              "    border: none;\n",
              "    border-radius: 50%;\n",
              "    cursor: pointer;\n",
              "    display: none;\n",
              "    fill: var(--fill-color);\n",
              "    height: 32px;\n",
              "    padding: 0;\n",
              "    width: 32px;\n",
              "  }\n",
              "\n",
              "  .colab-df-quickchart:hover {\n",
              "    background-color: var(--hover-bg-color);\n",
              "    box-shadow: 0 1px 2px rgba(60, 64, 67, 0.3), 0 1px 3px 1px rgba(60, 64, 67, 0.15);\n",
              "    fill: var(--button-hover-fill-color);\n",
              "  }\n",
              "\n",
              "  .colab-df-quickchart-complete:disabled,\n",
              "  .colab-df-quickchart-complete:disabled:hover {\n",
              "    background-color: var(--disabled-bg-color);\n",
              "    fill: var(--disabled-fill-color);\n",
              "    box-shadow: none;\n",
              "  }\n",
              "\n",
              "  .colab-df-spinner {\n",
              "    border: 2px solid var(--fill-color);\n",
              "    border-color: transparent;\n",
              "    border-bottom-color: var(--fill-color);\n",
              "    animation:\n",
              "      spin 1s steps(1) infinite;\n",
              "  }\n",
              "\n",
              "  @keyframes spin {\n",
              "    0% {\n",
              "      border-color: transparent;\n",
              "      border-bottom-color: var(--fill-color);\n",
              "      border-left-color: var(--fill-color);\n",
              "    }\n",
              "    20% {\n",
              "      border-color: transparent;\n",
              "      border-left-color: var(--fill-color);\n",
              "      border-top-color: var(--fill-color);\n",
              "    }\n",
              "    30% {\n",
              "      border-color: transparent;\n",
              "      border-left-color: var(--fill-color);\n",
              "      border-top-color: var(--fill-color);\n",
              "      border-right-color: var(--fill-color);\n",
              "    }\n",
              "    40% {\n",
              "      border-color: transparent;\n",
              "      border-right-color: var(--fill-color);\n",
              "      border-top-color: var(--fill-color);\n",
              "    }\n",
              "    60% {\n",
              "      border-color: transparent;\n",
              "      border-right-color: var(--fill-color);\n",
              "    }\n",
              "    80% {\n",
              "      border-color: transparent;\n",
              "      border-right-color: var(--fill-color);\n",
              "      border-bottom-color: var(--fill-color);\n",
              "    }\n",
              "    90% {\n",
              "      border-color: transparent;\n",
              "      border-bottom-color: var(--fill-color);\n",
              "    }\n",
              "  }\n",
              "</style>\n",
              "\n",
              "      <script>\n",
              "        async function quickchart(key) {\n",
              "          const quickchartButtonEl =\n",
              "            document.querySelector('#' + key + ' button');\n",
              "          quickchartButtonEl.disabled = true;  // To prevent multiple clicks.\n",
              "          quickchartButtonEl.classList.add('colab-df-spinner');\n",
              "          try {\n",
              "            const charts = await google.colab.kernel.invokeFunction(\n",
              "                'suggestCharts', [key], {});\n",
              "          } catch (error) {\n",
              "            console.error('Error during call to suggestCharts:', error);\n",
              "          }\n",
              "          quickchartButtonEl.classList.remove('colab-df-spinner');\n",
              "          quickchartButtonEl.classList.add('colab-df-quickchart-complete');\n",
              "        }\n",
              "        (() => {\n",
              "          let quickchartButtonEl =\n",
              "            document.querySelector('#df-05921174-9331-47c5-b182-a07231933978 button');\n",
              "          quickchartButtonEl.style.display =\n",
              "            google.colab.kernel.accessAllowed ? 'block' : 'none';\n",
              "        })();\n",
              "      </script>\n",
              "    </div>\n",
              "\n",
              "    </div>\n",
              "  </div>\n"
            ],
            "application/vnd.google.colaboratory.intrinsic+json": {
              "type": "dataframe",
              "variable_name": "df",
              "summary": "{\n  \"name\": \"df\",\n  \"rows\": 7,\n  \"fields\": [\n    {\n      \"column\": \"\\uba54\\ub274\",\n      \"properties\": {\n        \"dtype\": \"string\",\n        \"num_unique_values\": 7,\n        \"samples\": [\n          \"\\uc544\\uba54\\ub9ac\\uce74\\ub178\",\n          \"\\uce74\\ud398\\ub77c\\ub5bc\",\n          \"\\ubc00\\ud06c\\ud2f0\"\n        ],\n        \"semantic_type\": \"\",\n        \"description\": \"\"\n      }\n    },\n    {\n      \"column\": \"\\uac00\\uaca9\",\n      \"properties\": {\n        \"dtype\": \"number\",\n        \"std\": 631,\n        \"min\": 4000,\n        \"max\": 5900,\n        \"num_unique_values\": 6,\n        \"samples\": [\n          4500,\n          5000,\n          5300\n        ],\n        \"semantic_type\": \"\",\n        \"description\": \"\"\n      }\n    },\n    {\n      \"column\": \"\\uce7c\\ub85c\\ub9ac\",\n      \"properties\": {\n        \"dtype\": \"number\",\n        \"std\": 99,\n        \"min\": 0,\n        \"max\": 250,\n        \"num_unique_values\": 6,\n        \"samples\": [\n          10,\n          110,\n          0\n        ],\n        \"semantic_type\": \"\",\n        \"description\": \"\"\n      }\n    },\n    {\n      \"column\": \"new\",\n      \"properties\": {\n        \"dtype\": \"number\",\n        \"std\": 0,\n        \"min\": 0,\n        \"max\": 0,\n        \"num_unique_values\": 1,\n        \"samples\": [\n          0\n        ],\n        \"semantic_type\": \"\",\n        \"description\": \"\"\n      }\n    },\n    {\n      \"column\": \"\\ud560\\uc778\\uac00\",\n      \"properties\": {\n        \"dtype\": \"number\",\n        \"std\": 505.3617280626583,\n        \"min\": 3200.0,\n        \"max\": 4720.0,\n        \"num_unique_values\": 6,\n        \"samples\": [\n          3600.0\n        ],\n        \"semantic_type\": \"\",\n        \"description\": \"\"\n      }\n    }\n  ]\n}"
            }
          },
          "metadata": {},
          "execution_count": 17
        }
      ]
    },
    {
      "cell_type": "code",
      "source": [
        "# 데이터 삭제\n",
        "# 판다스에서 데이터를 삭제할 때는 행(row)을 삭제하난 것과 열(column)을 삭제하는 것이 있다.\n",
        "# 이를 구분하기 위해 축(axis)이라는 개념을 사용한다.\n",
        "# 축은 데이터의 방향을 나타내는데, 0과 1 두 가지 값을 사용한다.\n",
        "\n",
        "# axis=0 : 행(row) - 특정 행을 삭제하고 싶을 때는 'axix=0'을 사용한다.\n",
        "# axis=1 : 열(column) - 특정 열을 삭제하고 싶을 때는 'axis=1'을 사용한다.\n",
        "\n",
        "df = pd.read_csv('cafe.csv')\n",
        "df.head(3)\n",
        "\n",
        "# 행 삭제\n",
        "df.drop(1, axis=0, inplace=True)\n",
        "df.head(3)\n",
        "\n",
        "# 컬럼 삭제\n",
        "df = df.drop('칼로리', axis=1)\n",
        "df.head(3)\n",
        "\n",
        "# 삭제 후 저장 방법\n",
        "# 결과를 저장할 경우 inplace 또는 대입(=) 연산자 중 어떤 방법을 사용하더라도 같다.\n",
        "# inplace를 사용하면 반환 값이 없다. 사용하지 않으면 반환 값으로 대입이 가능하다.\n",
        "# 하지만 \"df= df.drop(1, axis=0, inplace=True)\"와 같이 대입(=) 연산자와 inplace를 함께 사용하면 안된다.\n",
        "# 반드시 둘중 하나만 사용하도록 하자\n",
        "\n",
        "# inplace 활용\n",
        "# df.drop('가격', axis=1, inplace=True)\n",
        "\n",
        "# 대입 연산자 활용\n",
        "# df = df.drop('가격', axis=1)\n",
        "\n",
        "# 삭제 전후의 데이터 크기 확인\n",
        "# 삭제할 때는 실수를 방지하기 위해서 삭제하기 전의 데이터 크기와 삭제 후의 데이터 크기를\n",
        "# df.shape를 통해 확인하는 습관을 들여라\n",
        "# df.shape # 삭제전\n",
        "# df.drop(1, axis=0, inplace=True) # 행 또는 열 삭제코드\n",
        "# df.shape # 삭제후\n"
      ],
      "metadata": {
        "id": "PcIKNf9a2-V_",
        "colab": {
          "base_uri": "https://localhost:8080/",
          "height": 143
        },
        "outputId": "93cabae7-3046-4543-d4b3-6e7afb8ec848"
      },
      "execution_count": 18,
      "outputs": [
        {
          "output_type": "execute_result",
          "data": {
            "text/plain": [
              "      메뉴    가격\n",
              "0  아메리카노  4500\n",
              "2   카페모카  5500\n",
              "3   카푸치노  5000"
            ],
            "text/html": [
              "\n",
              "  <div id=\"df-31345ea0-5500-4ad9-8d5d-4554be80e8cc\" class=\"colab-df-container\">\n",
              "    <div>\n",
              "<style scoped>\n",
              "    .dataframe tbody tr th:only-of-type {\n",
              "        vertical-align: middle;\n",
              "    }\n",
              "\n",
              "    .dataframe tbody tr th {\n",
              "        vertical-align: top;\n",
              "    }\n",
              "\n",
              "    .dataframe thead th {\n",
              "        text-align: right;\n",
              "    }\n",
              "</style>\n",
              "<table border=\"1\" class=\"dataframe\">\n",
              "  <thead>\n",
              "    <tr style=\"text-align: right;\">\n",
              "      <th></th>\n",
              "      <th>메뉴</th>\n",
              "      <th>가격</th>\n",
              "    </tr>\n",
              "  </thead>\n",
              "  <tbody>\n",
              "    <tr>\n",
              "      <th>0</th>\n",
              "      <td>아메리카노</td>\n",
              "      <td>4500</td>\n",
              "    </tr>\n",
              "    <tr>\n",
              "      <th>2</th>\n",
              "      <td>카페모카</td>\n",
              "      <td>5500</td>\n",
              "    </tr>\n",
              "    <tr>\n",
              "      <th>3</th>\n",
              "      <td>카푸치노</td>\n",
              "      <td>5000</td>\n",
              "    </tr>\n",
              "  </tbody>\n",
              "</table>\n",
              "</div>\n",
              "    <div class=\"colab-df-buttons\">\n",
              "\n",
              "  <div class=\"colab-df-container\">\n",
              "    <button class=\"colab-df-convert\" onclick=\"convertToInteractive('df-31345ea0-5500-4ad9-8d5d-4554be80e8cc')\"\n",
              "            title=\"Convert this dataframe to an interactive table.\"\n",
              "            style=\"display:none;\">\n",
              "\n",
              "  <svg xmlns=\"http://www.w3.org/2000/svg\" height=\"24px\" viewBox=\"0 -960 960 960\">\n",
              "    <path d=\"M120-120v-720h720v720H120Zm60-500h600v-160H180v160Zm220 220h160v-160H400v160Zm0 220h160v-160H400v160ZM180-400h160v-160H180v160Zm440 0h160v-160H620v160ZM180-180h160v-160H180v160Zm440 0h160v-160H620v160Z\"/>\n",
              "  </svg>\n",
              "    </button>\n",
              "\n",
              "  <style>\n",
              "    .colab-df-container {\n",
              "      display:flex;\n",
              "      gap: 12px;\n",
              "    }\n",
              "\n",
              "    .colab-df-convert {\n",
              "      background-color: #E8F0FE;\n",
              "      border: none;\n",
              "      border-radius: 50%;\n",
              "      cursor: pointer;\n",
              "      display: none;\n",
              "      fill: #1967D2;\n",
              "      height: 32px;\n",
              "      padding: 0 0 0 0;\n",
              "      width: 32px;\n",
              "    }\n",
              "\n",
              "    .colab-df-convert:hover {\n",
              "      background-color: #E2EBFA;\n",
              "      box-shadow: 0px 1px 2px rgba(60, 64, 67, 0.3), 0px 1px 3px 1px rgba(60, 64, 67, 0.15);\n",
              "      fill: #174EA6;\n",
              "    }\n",
              "\n",
              "    .colab-df-buttons div {\n",
              "      margin-bottom: 4px;\n",
              "    }\n",
              "\n",
              "    [theme=dark] .colab-df-convert {\n",
              "      background-color: #3B4455;\n",
              "      fill: #D2E3FC;\n",
              "    }\n",
              "\n",
              "    [theme=dark] .colab-df-convert:hover {\n",
              "      background-color: #434B5C;\n",
              "      box-shadow: 0px 1px 3px 1px rgba(0, 0, 0, 0.15);\n",
              "      filter: drop-shadow(0px 1px 2px rgba(0, 0, 0, 0.3));\n",
              "      fill: #FFFFFF;\n",
              "    }\n",
              "  </style>\n",
              "\n",
              "    <script>\n",
              "      const buttonEl =\n",
              "        document.querySelector('#df-31345ea0-5500-4ad9-8d5d-4554be80e8cc button.colab-df-convert');\n",
              "      buttonEl.style.display =\n",
              "        google.colab.kernel.accessAllowed ? 'block' : 'none';\n",
              "\n",
              "      async function convertToInteractive(key) {\n",
              "        const element = document.querySelector('#df-31345ea0-5500-4ad9-8d5d-4554be80e8cc');\n",
              "        const dataTable =\n",
              "          await google.colab.kernel.invokeFunction('convertToInteractive',\n",
              "                                                    [key], {});\n",
              "        if (!dataTable) return;\n",
              "\n",
              "        const docLinkHtml = 'Like what you see? Visit the ' +\n",
              "          '<a target=\"_blank\" href=https://colab.research.google.com/notebooks/data_table.ipynb>data table notebook</a>'\n",
              "          + ' to learn more about interactive tables.';\n",
              "        element.innerHTML = '';\n",
              "        dataTable['output_type'] = 'display_data';\n",
              "        await google.colab.output.renderOutput(dataTable, element);\n",
              "        const docLink = document.createElement('div');\n",
              "        docLink.innerHTML = docLinkHtml;\n",
              "        element.appendChild(docLink);\n",
              "      }\n",
              "    </script>\n",
              "  </div>\n",
              "\n",
              "\n",
              "    <div id=\"df-932d221e-fe73-4864-8d8a-b43d62810664\">\n",
              "      <button class=\"colab-df-quickchart\" onclick=\"quickchart('df-932d221e-fe73-4864-8d8a-b43d62810664')\"\n",
              "                title=\"Suggest charts\"\n",
              "                style=\"display:none;\">\n",
              "\n",
              "<svg xmlns=\"http://www.w3.org/2000/svg\" height=\"24px\"viewBox=\"0 0 24 24\"\n",
              "     width=\"24px\">\n",
              "    <g>\n",
              "        <path d=\"M19 3H5c-1.1 0-2 .9-2 2v14c0 1.1.9 2 2 2h14c1.1 0 2-.9 2-2V5c0-1.1-.9-2-2-2zM9 17H7v-7h2v7zm4 0h-2V7h2v10zm4 0h-2v-4h2v4z\"/>\n",
              "    </g>\n",
              "</svg>\n",
              "      </button>\n",
              "\n",
              "<style>\n",
              "  .colab-df-quickchart {\n",
              "      --bg-color: #E8F0FE;\n",
              "      --fill-color: #1967D2;\n",
              "      --hover-bg-color: #E2EBFA;\n",
              "      --hover-fill-color: #174EA6;\n",
              "      --disabled-fill-color: #AAA;\n",
              "      --disabled-bg-color: #DDD;\n",
              "  }\n",
              "\n",
              "  [theme=dark] .colab-df-quickchart {\n",
              "      --bg-color: #3B4455;\n",
              "      --fill-color: #D2E3FC;\n",
              "      --hover-bg-color: #434B5C;\n",
              "      --hover-fill-color: #FFFFFF;\n",
              "      --disabled-bg-color: #3B4455;\n",
              "      --disabled-fill-color: #666;\n",
              "  }\n",
              "\n",
              "  .colab-df-quickchart {\n",
              "    background-color: var(--bg-color);\n",
              "    border: none;\n",
              "    border-radius: 50%;\n",
              "    cursor: pointer;\n",
              "    display: none;\n",
              "    fill: var(--fill-color);\n",
              "    height: 32px;\n",
              "    padding: 0;\n",
              "    width: 32px;\n",
              "  }\n",
              "\n",
              "  .colab-df-quickchart:hover {\n",
              "    background-color: var(--hover-bg-color);\n",
              "    box-shadow: 0 1px 2px rgba(60, 64, 67, 0.3), 0 1px 3px 1px rgba(60, 64, 67, 0.15);\n",
              "    fill: var(--button-hover-fill-color);\n",
              "  }\n",
              "\n",
              "  .colab-df-quickchart-complete:disabled,\n",
              "  .colab-df-quickchart-complete:disabled:hover {\n",
              "    background-color: var(--disabled-bg-color);\n",
              "    fill: var(--disabled-fill-color);\n",
              "    box-shadow: none;\n",
              "  }\n",
              "\n",
              "  .colab-df-spinner {\n",
              "    border: 2px solid var(--fill-color);\n",
              "    border-color: transparent;\n",
              "    border-bottom-color: var(--fill-color);\n",
              "    animation:\n",
              "      spin 1s steps(1) infinite;\n",
              "  }\n",
              "\n",
              "  @keyframes spin {\n",
              "    0% {\n",
              "      border-color: transparent;\n",
              "      border-bottom-color: var(--fill-color);\n",
              "      border-left-color: var(--fill-color);\n",
              "    }\n",
              "    20% {\n",
              "      border-color: transparent;\n",
              "      border-left-color: var(--fill-color);\n",
              "      border-top-color: var(--fill-color);\n",
              "    }\n",
              "    30% {\n",
              "      border-color: transparent;\n",
              "      border-left-color: var(--fill-color);\n",
              "      border-top-color: var(--fill-color);\n",
              "      border-right-color: var(--fill-color);\n",
              "    }\n",
              "    40% {\n",
              "      border-color: transparent;\n",
              "      border-right-color: var(--fill-color);\n",
              "      border-top-color: var(--fill-color);\n",
              "    }\n",
              "    60% {\n",
              "      border-color: transparent;\n",
              "      border-right-color: var(--fill-color);\n",
              "    }\n",
              "    80% {\n",
              "      border-color: transparent;\n",
              "      border-right-color: var(--fill-color);\n",
              "      border-bottom-color: var(--fill-color);\n",
              "    }\n",
              "    90% {\n",
              "      border-color: transparent;\n",
              "      border-bottom-color: var(--fill-color);\n",
              "    }\n",
              "  }\n",
              "</style>\n",
              "\n",
              "      <script>\n",
              "        async function quickchart(key) {\n",
              "          const quickchartButtonEl =\n",
              "            document.querySelector('#' + key + ' button');\n",
              "          quickchartButtonEl.disabled = true;  // To prevent multiple clicks.\n",
              "          quickchartButtonEl.classList.add('colab-df-spinner');\n",
              "          try {\n",
              "            const charts = await google.colab.kernel.invokeFunction(\n",
              "                'suggestCharts', [key], {});\n",
              "          } catch (error) {\n",
              "            console.error('Error during call to suggestCharts:', error);\n",
              "          }\n",
              "          quickchartButtonEl.classList.remove('colab-df-spinner');\n",
              "          quickchartButtonEl.classList.add('colab-df-quickchart-complete');\n",
              "        }\n",
              "        (() => {\n",
              "          let quickchartButtonEl =\n",
              "            document.querySelector('#df-932d221e-fe73-4864-8d8a-b43d62810664 button');\n",
              "          quickchartButtonEl.style.display =\n",
              "            google.colab.kernel.accessAllowed ? 'block' : 'none';\n",
              "        })();\n",
              "      </script>\n",
              "    </div>\n",
              "\n",
              "    </div>\n",
              "  </div>\n"
            ],
            "application/vnd.google.colaboratory.intrinsic+json": {
              "type": "dataframe",
              "summary": "{\n  \"name\": \"# df\",\n  \"rows\": 3,\n  \"fields\": [\n    {\n      \"column\": \"\\uba54\\ub274\",\n      \"properties\": {\n        \"dtype\": \"string\",\n        \"num_unique_values\": 3,\n        \"samples\": [\n          \"\\uc544\\uba54\\ub9ac\\uce74\\ub178\",\n          \"\\uce74\\ud398\\ubaa8\\uce74\",\n          \"\\uce74\\ud478\\uce58\\ub178\"\n        ],\n        \"semantic_type\": \"\",\n        \"description\": \"\"\n      }\n    },\n    {\n      \"column\": \"\\uac00\\uaca9\",\n      \"properties\": {\n        \"dtype\": \"number\",\n        \"std\": 500,\n        \"min\": 4500,\n        \"max\": 5500,\n        \"num_unique_values\": 3,\n        \"samples\": [\n          4500,\n          5500,\n          5000\n        ],\n        \"semantic_type\": \"\",\n        \"description\": \"\"\n      }\n    }\n  ]\n}"
            }
          },
          "metadata": {},
          "execution_count": 18
        }
      ]
    },
    {
      "cell_type": "code",
      "source": [
        "# 인덱싱 / 슬라이싱 (loc)\n",
        "# 인덱싱과 슬라이싱은 문제를 풀 때 중요한 부분이다.\n",
        "import pandas as pd\n",
        "df = pd.DataFrame({\n",
        "    \"메뉴\" : ['아메리카노', '카페라떼', '카페모카', '카푸치노', '에스프레소', '밀크티', '녹차'],\n",
        "    \"가격\" : [4500, 5000, 5500, 5000, 4000, 5900, 5300],\n",
        "    \"칼로리\" : [10, 110, 250, 110, 20, 210, 0],\n",
        "})\n",
        "df.to_csv('cafe.csv', index=False)\n",
        "df = pd.read_csv('cafe.csv')\n",
        "print(df.head(2))\n",
        "\n",
        "# 인덱싱\n",
        "# loc는 location의 약자로 인덱스명 또는 컬럼명을 통해 데이터에 접근한다.\n",
        "# df.loc[인덱스명] or df.loc[# of index]\n",
        "\n",
        "print(df.loc[0]) # row\n",
        "\n",
        "print()\n",
        "# 특정 행과 특정 컬럼(열)의 교차점에 있는 단일 값을 출력할 때는 df.loc[1, \"가격\"] 과같이 콤마로 구분해\n",
        "# 인덱스명이 1인 행과 컬럼명이 가격인 값을 찾을 수 있다.\n",
        "df.loc[1, \"가격\"] # row, column intersaction\n",
        "\n",
        "print()\n",
        "# 슬라이싱\n",
        "# loc를 활용한 슬라이싱은 'loc[행 범위 또는 특정 행, 컬럼(열)의 범위 또는 특정 컬럼]을 활용한다.\n",
        "# 범위는 '시작 인덱스 : 끝 인덱스'로 구간을 나타낸다.\n",
        "# 시작 인덱스를 생략하면 처음부터, 끝 인덱스를 생략하면 마지막까지다.\n",
        "# 만약 시작과 끝 인덱스를 모두 생략하고, ':'만 남는다면 전체를 의미한다.\n",
        "\n",
        "print(df.loc[:,\"가격\"])\n",
        "\n",
        "print()\n",
        "# 컬럼의 범위를 '메뉴' 에서 '칼로리'까지로 했을 때 '메뉴'부터 '칼로리'사이에 있는 컬럼도 모두 포함된다.\n",
        "print(df.loc[2, '메뉴':'칼로리'])\n",
        "\n",
        "print()\n",
        "# 만약 특정 컬럼을 선택해 슬라이싱하고 싶다면 컬럼을 리스트 형태로 해서 원하는 컬럼명을 넣으면 된다.\n",
        "print(df.loc[2, ['메뉴', '칼로리']])\n",
        "\n",
        "print()\n",
        "# 인덱스 또한 구간으로 설정할 수 있는데, 인덱스 명이 1인 데이터(행)부터 3인 데이터(행)를 출력한다.\n",
        "print(df.loc[1:3, '메뉴':'가격'])"
      ],
      "metadata": {
        "id": "SJOOj3BT2_kD",
        "colab": {
          "base_uri": "https://localhost:8080/"
        },
        "outputId": "83f3bdf4-8adb-450b-c795-5e6881bb3236"
      },
      "execution_count": 19,
      "outputs": [
        {
          "output_type": "stream",
          "name": "stdout",
          "text": [
            "      메뉴    가격  칼로리\n",
            "0  아메리카노  4500   10\n",
            "1   카페라떼  5000  110\n",
            "메뉴     아메리카노\n",
            "가격      4500\n",
            "칼로리       10\n",
            "Name: 0, dtype: object\n",
            "\n",
            "\n",
            "0    4500\n",
            "1    5000\n",
            "2    5500\n",
            "3    5000\n",
            "4    4000\n",
            "5    5900\n",
            "6    5300\n",
            "Name: 가격, dtype: int64\n",
            "\n",
            "메뉴     카페모카\n",
            "가격     5500\n",
            "칼로리     250\n",
            "Name: 2, dtype: object\n",
            "\n",
            "메뉴     카페모카\n",
            "칼로리     250\n",
            "Name: 2, dtype: object\n",
            "\n",
            "     메뉴    가격\n",
            "1  카페라떼  5000\n",
            "2  카페모카  5500\n",
            "3  카푸치노  5000\n"
          ]
        }
      ]
    },
    {
      "cell_type": "code",
      "source": [
        "# 인덱싱 / 슬라이싱 (iloc)\n",
        "# 인덱싱 및 슬라이싱을 하는 또 다른 방법은 iloc를 사용할 수 있다.\n",
        "\n",
        "import pandas as pd\n",
        "df = pd.DataFrame({\n",
        "    \"메뉴\" : ['아메리카노', '카페라떼', '카페모카', '카푸치노', '에스프레소', '밀크티', '녹차'],\n",
        "    \"가격\" : [4500, 5000, 5500, 5000, 4000, 5900, 5300],\n",
        "    \"칼로리\" : [10, 110, 250, 110, 20, 210, 0],\n",
        "})\n",
        "df.to_csv('cafe.csv', index=False)\n",
        "df = pd.read_csv('cafe.csv')\n",
        "df.drop(0, axis=0, inplace=True) # 첫 번째 행 삭제\n",
        "print(df.head(2))\n",
        "\n",
        "# 인덱싱\n",
        "# loc에서 대괄호 안의 0은 인덱스명을 의미한다.\n",
        "# 하지만 iloc에서 대괄호 안의 0은 순서를 의미한다.\n",
        "# 0은 첫 번째 행 (또는 컬럼), 1은 두 번째 행 (또는 컬럼)을 의미한다.\n",
        "# 따라서 iloc[0]은 첫 번째 행의 값을 출력한다.\n",
        "print(df.iloc[0])\n",
        "print(df)\n",
        "# 위의 데이터에서 카페라떼로 선택하는 방법은 loc와 iloc를 사용하는 방법이 있다.\n",
        "# loc[1,'메뉴']\n",
        "# iloc[0,0]\n",
        "\n",
        "print()\n",
        "# 슬라이싱\n",
        "# iloc에서 특정 컬럼 값만 출력할 때도 인덱스 번호를 활용한다.\n",
        "# 다음은 가격데이터만 슬라이싱 하기 위해 행은 단계를 선택하고,\n",
        "# 열은 인덱스 번호를 작성했다 콜론(:) 앞뒤를 생략하면 처음부터 끝까지다.\n",
        "print(df.iloc[:,1])\n",
        "\n",
        "print()\n",
        "# iloc을 활용해 인덱스 번호 2의 메뉴와 가격만 출력해보자\n",
        "# 1개를 선택할 때는 인덱싱, 붙어 있는 2개 이상을 선택할 때는 슬라이싱한다.\n",
        "# 1개 행과 2개 열이므로 iloc[행 인덱싱, 열 슬라이싱] 으로 사용한다.\n",
        "# 파이썬은 기본적으로 인덱스를 0부터 시작한다.\n",
        "# iloc에서 0은 가장 첫 번째 행 또는 열을 의미한다.\n",
        "# iloc에서 슬라이싱 범위는 마지막 인덱스 번호 앞까지 결과를 반환한다.\n",
        "# 따라서 0:1이 아닌 0:2가 된다.\n",
        "print(df.iloc[2,0:2])\n",
        "\n",
        "print()\n",
        "# loc와 iloc의 범위 차이\n",
        "locAndilocDiff = pd.DataFrame({\n",
        "    \"방식1\" : [\"loc\", \"iloc\"],\n",
        "    \"방식2\" : [\"인덱스명, 컬럼명\", \"인덱스번호(위치 숫자) 컬럼번호(위치 숫자) *번호는 0부터 시작함\"],\n",
        "    \"범위\" : [\"끝 인덱스 포함\", \"끝 인덱스 포함하지 않음(끝 인덱스 -1)\"],\n",
        "    \"예시\" : [\"[0:2]일 때 2 포함-(0,1,2 선택)\", \"[0:2]일 때 2 미포함-(0,1 선택)\"]\n",
        "\n",
        "})\n",
        "print(locAndilocDiff)\n",
        "\n",
        "print()\n",
        "# iloc 대괄호 안에 범위가 1개만 있다면 행 인덱스 범위다.\n",
        "# 컬럼 범위는 전체를 의미하며, df.iloc[1:3, : ]과 결과가 같다.\n",
        "print(df.iloc[1:3])\n",
        "\n",
        "print()\n",
        "# 추가로 loc로 같은 결과를 얻기 위해서는 다음과 같이 사용한다.\n",
        "# 컬럼 범위는 전체이므로 생략 가능하지만, 이해를 돕기 위해 지정했다.\n",
        "print(df.loc[2:3, '메뉴':'칼로리'])"
      ],
      "metadata": {
        "id": "dCtXYlJ93C-t",
        "colab": {
          "base_uri": "https://localhost:8080/"
        },
        "outputId": "d91db284-2f0b-4875-caf6-90dcab500fa4"
      },
      "execution_count": 20,
      "outputs": [
        {
          "output_type": "stream",
          "name": "stdout",
          "text": [
            "     메뉴    가격  칼로리\n",
            "1  카페라떼  5000  110\n",
            "2  카페모카  5500  250\n",
            "메뉴     카페라떼\n",
            "가격     5000\n",
            "칼로리     110\n",
            "Name: 1, dtype: object\n",
            "      메뉴    가격  칼로리\n",
            "1   카페라떼  5000  110\n",
            "2   카페모카  5500  250\n",
            "3   카푸치노  5000  110\n",
            "4  에스프레소  4000   20\n",
            "5    밀크티  5900  210\n",
            "6     녹차  5300    0\n",
            "\n",
            "1    5000\n",
            "2    5500\n",
            "3    5000\n",
            "4    4000\n",
            "5    5900\n",
            "6    5300\n",
            "Name: 가격, dtype: int64\n",
            "\n",
            "메뉴    카푸치노\n",
            "가격    5000\n",
            "Name: 3, dtype: object\n",
            "\n",
            "    방식1                                    방식2                       범위  \\\n",
            "0   loc                              인덱스명, 컬럼명                 끝 인덱스 포함   \n",
            "1  iloc  인덱스번호(위치 숫자) 컬럼번호(위치 숫자) *번호는 0부터 시작함  끝 인덱스 포함하지 않음(끝 인덱스 -1)   \n",
            "\n",
            "                         예시  \n",
            "0  [0:2]일 때 2 포함-(0,1,2 선택)  \n",
            "1   [0:2]일 때 2 미포함-(0,1 선택)  \n",
            "\n",
            "     메뉴    가격  칼로리\n",
            "2  카페모카  5500  250\n",
            "3  카푸치노  5000  110\n",
            "\n",
            "     메뉴    가격  칼로리\n",
            "2  카페모카  5500  250\n",
            "3  카푸치노  5000  110\n"
          ]
        }
      ]
    },
    {
      "cell_type": "code",
      "source": [
        "# 데이터 추가 / 변경\n",
        "\n",
        "import pandas as pd\n",
        "df = pd.DataFrame({\n",
        "    \"메뉴\" : ['아메리카노', '카페라떼', '카페모카', '카푸치노', '에스프레소', '밀크티', '녹차'],\n",
        "    \"가격\" : [4500, 5000, 5500, 5000, 4000, 5900, 5300],\n",
        "    \"칼로리\" : [10, 110, 250, 110, 20, 210, 0],\n",
        "})\n",
        "df.to_csv('cafe.csv', index=False)\n",
        "df = pd.read_csv('cafe.csv')\n",
        "\n",
        "df.head(2)\n",
        "\n",
        "# 넘파이(numpy)는 판다스와 같은 파이썬 라이브러리로 판다스보다 빠르게 수치 연산하는 것이 특징\n",
        "# 연산량이 많은 딥러닝에서 주로 많이 활용된다.\n",
        "# 판다스에 없는 기능을 사용할 때만 넘파이를 사용한다.\n",
        "\n",
        "print()\n",
        "# 결측치(NaN) 대입\n",
        "import numpy as np\n",
        "df['원산지'] = np.nan\n",
        "print(df)\n",
        "\n",
        "print()\n",
        "# loc를 활용한 값 변경\n",
        "# loc를 활용해 특정 위치에 값을 대입할 수가 있다.\n",
        "# 작업형1에서 특정 컬럼 범위의 값을 대체할 때\n",
        "# loc[인덱스명(범위), 컬럼명(범위)]가 활용 된다.\n",
        "df[\"원산지\"] = df[\"원산지\"].astype(\"object\")\n",
        "df.loc[0, \"원산지\"] = \"콜롬비아\"\n",
        "df.loc[2:3, \"원산지\"] = \"과테말라\"\n",
        "df.head(4)\n",
        "\n",
        "print()\n",
        "# loc를 활용한 값 추가\n",
        "# loc를 활용해 새로운 데이터 행(row)을 추가할 수 있다.\n",
        "# loc의 대괄호 안에 새 인덱스명을 넣고 값을 대입한다.\n",
        "# 인덱스명은 숫자가 아닌 문자도 가능하다.\n",
        "# '시즌'이란 인덱스를 만들고 리스트 형태로 데이터를 추가할 수 있다.\n",
        "df.loc['시즌'] = ['크리스마스라떼', 6000, 300, '한국']\n",
        "print(df.tail(3))\n",
        "\n",
        "print()\n",
        "# loc와 딕셔너리를 활용한 값 추가\n",
        "# 리스트가 아닌 딕셔너리 형태로도 새로운 데이터 행(row)을 추가할 수 있다.\n",
        "# 차이점이 있다면 리스트의 경우에는 반드시 행의 컬럼 수와 리스트의 데이터 수가 일치 해야한다.\n",
        "# 반면에 딕셔너리는 특정 컬럼이 없다면 결측치(NaN)로 입력된다.\n",
        "# 원산지 값을 제외하고 새로운 컬럼을 추가해 보자.\n",
        "\n",
        "df.loc[7] = {'메뉴': '딴짓거리', '가격': 2000, '칼로리': 20}\n",
        "df.tail(3)\n",
        "\n",
        "# 인덱스 '시즌'의 데이터(행)는 삭제하고, cafe2.csv 파일로 저장하자.\n",
        "df.drop(\"시즌\", axis=0, inplace=True)\n",
        "df.to_csv('cafe2.csv', index=False)\n",
        "df"
      ],
      "metadata": {
        "id": "O1soxZDg3G1g",
        "colab": {
          "base_uri": "https://localhost:8080/",
          "height": 578
        },
        "outputId": "96ccd0ee-5d88-4e41-ebc2-794c53dd56a7"
      },
      "execution_count": 21,
      "outputs": [
        {
          "output_type": "stream",
          "name": "stdout",
          "text": [
            "\n",
            "      메뉴    가격  칼로리  원산지\n",
            "0  아메리카노  4500   10  NaN\n",
            "1   카페라떼  5000  110  NaN\n",
            "2   카페모카  5500  250  NaN\n",
            "3   카푸치노  5000  110  NaN\n",
            "4  에스프레소  4000   20  NaN\n",
            "5    밀크티  5900  210  NaN\n",
            "6     녹차  5300    0  NaN\n",
            "\n",
            "\n",
            "         메뉴    가격  칼로리  원산지\n",
            "5       밀크티  5900  210  NaN\n",
            "6        녹차  5300    0  NaN\n",
            "시즌  크리스마스라떼  6000  300   한국\n",
            "\n"
          ]
        },
        {
          "output_type": "execute_result",
          "data": {
            "text/plain": [
              "      메뉴    가격  칼로리   원산지\n",
              "0  아메리카노  4500   10  콜롬비아\n",
              "1   카페라떼  5000  110   NaN\n",
              "2   카페모카  5500  250  과테말라\n",
              "3   카푸치노  5000  110  과테말라\n",
              "4  에스프레소  4000   20   NaN\n",
              "5    밀크티  5900  210   NaN\n",
              "6     녹차  5300    0   NaN\n",
              "7   딴짓거리  2000   20   NaN"
            ],
            "text/html": [
              "\n",
              "  <div id=\"df-e71d61f9-3b85-4596-a9c9-5d76dc6e986f\" class=\"colab-df-container\">\n",
              "    <div>\n",
              "<style scoped>\n",
              "    .dataframe tbody tr th:only-of-type {\n",
              "        vertical-align: middle;\n",
              "    }\n",
              "\n",
              "    .dataframe tbody tr th {\n",
              "        vertical-align: top;\n",
              "    }\n",
              "\n",
              "    .dataframe thead th {\n",
              "        text-align: right;\n",
              "    }\n",
              "</style>\n",
              "<table border=\"1\" class=\"dataframe\">\n",
              "  <thead>\n",
              "    <tr style=\"text-align: right;\">\n",
              "      <th></th>\n",
              "      <th>메뉴</th>\n",
              "      <th>가격</th>\n",
              "      <th>칼로리</th>\n",
              "      <th>원산지</th>\n",
              "    </tr>\n",
              "  </thead>\n",
              "  <tbody>\n",
              "    <tr>\n",
              "      <th>0</th>\n",
              "      <td>아메리카노</td>\n",
              "      <td>4500</td>\n",
              "      <td>10</td>\n",
              "      <td>콜롬비아</td>\n",
              "    </tr>\n",
              "    <tr>\n",
              "      <th>1</th>\n",
              "      <td>카페라떼</td>\n",
              "      <td>5000</td>\n",
              "      <td>110</td>\n",
              "      <td>NaN</td>\n",
              "    </tr>\n",
              "    <tr>\n",
              "      <th>2</th>\n",
              "      <td>카페모카</td>\n",
              "      <td>5500</td>\n",
              "      <td>250</td>\n",
              "      <td>과테말라</td>\n",
              "    </tr>\n",
              "    <tr>\n",
              "      <th>3</th>\n",
              "      <td>카푸치노</td>\n",
              "      <td>5000</td>\n",
              "      <td>110</td>\n",
              "      <td>과테말라</td>\n",
              "    </tr>\n",
              "    <tr>\n",
              "      <th>4</th>\n",
              "      <td>에스프레소</td>\n",
              "      <td>4000</td>\n",
              "      <td>20</td>\n",
              "      <td>NaN</td>\n",
              "    </tr>\n",
              "    <tr>\n",
              "      <th>5</th>\n",
              "      <td>밀크티</td>\n",
              "      <td>5900</td>\n",
              "      <td>210</td>\n",
              "      <td>NaN</td>\n",
              "    </tr>\n",
              "    <tr>\n",
              "      <th>6</th>\n",
              "      <td>녹차</td>\n",
              "      <td>5300</td>\n",
              "      <td>0</td>\n",
              "      <td>NaN</td>\n",
              "    </tr>\n",
              "    <tr>\n",
              "      <th>7</th>\n",
              "      <td>딴짓거리</td>\n",
              "      <td>2000</td>\n",
              "      <td>20</td>\n",
              "      <td>NaN</td>\n",
              "    </tr>\n",
              "  </tbody>\n",
              "</table>\n",
              "</div>\n",
              "    <div class=\"colab-df-buttons\">\n",
              "\n",
              "  <div class=\"colab-df-container\">\n",
              "    <button class=\"colab-df-convert\" onclick=\"convertToInteractive('df-e71d61f9-3b85-4596-a9c9-5d76dc6e986f')\"\n",
              "            title=\"Convert this dataframe to an interactive table.\"\n",
              "            style=\"display:none;\">\n",
              "\n",
              "  <svg xmlns=\"http://www.w3.org/2000/svg\" height=\"24px\" viewBox=\"0 -960 960 960\">\n",
              "    <path d=\"M120-120v-720h720v720H120Zm60-500h600v-160H180v160Zm220 220h160v-160H400v160Zm0 220h160v-160H400v160ZM180-400h160v-160H180v160Zm440 0h160v-160H620v160ZM180-180h160v-160H180v160Zm440 0h160v-160H620v160Z\"/>\n",
              "  </svg>\n",
              "    </button>\n",
              "\n",
              "  <style>\n",
              "    .colab-df-container {\n",
              "      display:flex;\n",
              "      gap: 12px;\n",
              "    }\n",
              "\n",
              "    .colab-df-convert {\n",
              "      background-color: #E8F0FE;\n",
              "      border: none;\n",
              "      border-radius: 50%;\n",
              "      cursor: pointer;\n",
              "      display: none;\n",
              "      fill: #1967D2;\n",
              "      height: 32px;\n",
              "      padding: 0 0 0 0;\n",
              "      width: 32px;\n",
              "    }\n",
              "\n",
              "    .colab-df-convert:hover {\n",
              "      background-color: #E2EBFA;\n",
              "      box-shadow: 0px 1px 2px rgba(60, 64, 67, 0.3), 0px 1px 3px 1px rgba(60, 64, 67, 0.15);\n",
              "      fill: #174EA6;\n",
              "    }\n",
              "\n",
              "    .colab-df-buttons div {\n",
              "      margin-bottom: 4px;\n",
              "    }\n",
              "\n",
              "    [theme=dark] .colab-df-convert {\n",
              "      background-color: #3B4455;\n",
              "      fill: #D2E3FC;\n",
              "    }\n",
              "\n",
              "    [theme=dark] .colab-df-convert:hover {\n",
              "      background-color: #434B5C;\n",
              "      box-shadow: 0px 1px 3px 1px rgba(0, 0, 0, 0.15);\n",
              "      filter: drop-shadow(0px 1px 2px rgba(0, 0, 0, 0.3));\n",
              "      fill: #FFFFFF;\n",
              "    }\n",
              "  </style>\n",
              "\n",
              "    <script>\n",
              "      const buttonEl =\n",
              "        document.querySelector('#df-e71d61f9-3b85-4596-a9c9-5d76dc6e986f button.colab-df-convert');\n",
              "      buttonEl.style.display =\n",
              "        google.colab.kernel.accessAllowed ? 'block' : 'none';\n",
              "\n",
              "      async function convertToInteractive(key) {\n",
              "        const element = document.querySelector('#df-e71d61f9-3b85-4596-a9c9-5d76dc6e986f');\n",
              "        const dataTable =\n",
              "          await google.colab.kernel.invokeFunction('convertToInteractive',\n",
              "                                                    [key], {});\n",
              "        if (!dataTable) return;\n",
              "\n",
              "        const docLinkHtml = 'Like what you see? Visit the ' +\n",
              "          '<a target=\"_blank\" href=https://colab.research.google.com/notebooks/data_table.ipynb>data table notebook</a>'\n",
              "          + ' to learn more about interactive tables.';\n",
              "        element.innerHTML = '';\n",
              "        dataTable['output_type'] = 'display_data';\n",
              "        await google.colab.output.renderOutput(dataTable, element);\n",
              "        const docLink = document.createElement('div');\n",
              "        docLink.innerHTML = docLinkHtml;\n",
              "        element.appendChild(docLink);\n",
              "      }\n",
              "    </script>\n",
              "  </div>\n",
              "\n",
              "\n",
              "    <div id=\"df-3ebdedc1-468e-4b21-bda5-3613e11cfb5b\">\n",
              "      <button class=\"colab-df-quickchart\" onclick=\"quickchart('df-3ebdedc1-468e-4b21-bda5-3613e11cfb5b')\"\n",
              "                title=\"Suggest charts\"\n",
              "                style=\"display:none;\">\n",
              "\n",
              "<svg xmlns=\"http://www.w3.org/2000/svg\" height=\"24px\"viewBox=\"0 0 24 24\"\n",
              "     width=\"24px\">\n",
              "    <g>\n",
              "        <path d=\"M19 3H5c-1.1 0-2 .9-2 2v14c0 1.1.9 2 2 2h14c1.1 0 2-.9 2-2V5c0-1.1-.9-2-2-2zM9 17H7v-7h2v7zm4 0h-2V7h2v10zm4 0h-2v-4h2v4z\"/>\n",
              "    </g>\n",
              "</svg>\n",
              "      </button>\n",
              "\n",
              "<style>\n",
              "  .colab-df-quickchart {\n",
              "      --bg-color: #E8F0FE;\n",
              "      --fill-color: #1967D2;\n",
              "      --hover-bg-color: #E2EBFA;\n",
              "      --hover-fill-color: #174EA6;\n",
              "      --disabled-fill-color: #AAA;\n",
              "      --disabled-bg-color: #DDD;\n",
              "  }\n",
              "\n",
              "  [theme=dark] .colab-df-quickchart {\n",
              "      --bg-color: #3B4455;\n",
              "      --fill-color: #D2E3FC;\n",
              "      --hover-bg-color: #434B5C;\n",
              "      --hover-fill-color: #FFFFFF;\n",
              "      --disabled-bg-color: #3B4455;\n",
              "      --disabled-fill-color: #666;\n",
              "  }\n",
              "\n",
              "  .colab-df-quickchart {\n",
              "    background-color: var(--bg-color);\n",
              "    border: none;\n",
              "    border-radius: 50%;\n",
              "    cursor: pointer;\n",
              "    display: none;\n",
              "    fill: var(--fill-color);\n",
              "    height: 32px;\n",
              "    padding: 0;\n",
              "    width: 32px;\n",
              "  }\n",
              "\n",
              "  .colab-df-quickchart:hover {\n",
              "    background-color: var(--hover-bg-color);\n",
              "    box-shadow: 0 1px 2px rgba(60, 64, 67, 0.3), 0 1px 3px 1px rgba(60, 64, 67, 0.15);\n",
              "    fill: var(--button-hover-fill-color);\n",
              "  }\n",
              "\n",
              "  .colab-df-quickchart-complete:disabled,\n",
              "  .colab-df-quickchart-complete:disabled:hover {\n",
              "    background-color: var(--disabled-bg-color);\n",
              "    fill: var(--disabled-fill-color);\n",
              "    box-shadow: none;\n",
              "  }\n",
              "\n",
              "  .colab-df-spinner {\n",
              "    border: 2px solid var(--fill-color);\n",
              "    border-color: transparent;\n",
              "    border-bottom-color: var(--fill-color);\n",
              "    animation:\n",
              "      spin 1s steps(1) infinite;\n",
              "  }\n",
              "\n",
              "  @keyframes spin {\n",
              "    0% {\n",
              "      border-color: transparent;\n",
              "      border-bottom-color: var(--fill-color);\n",
              "      border-left-color: var(--fill-color);\n",
              "    }\n",
              "    20% {\n",
              "      border-color: transparent;\n",
              "      border-left-color: var(--fill-color);\n",
              "      border-top-color: var(--fill-color);\n",
              "    }\n",
              "    30% {\n",
              "      border-color: transparent;\n",
              "      border-left-color: var(--fill-color);\n",
              "      border-top-color: var(--fill-color);\n",
              "      border-right-color: var(--fill-color);\n",
              "    }\n",
              "    40% {\n",
              "      border-color: transparent;\n",
              "      border-right-color: var(--fill-color);\n",
              "      border-top-color: var(--fill-color);\n",
              "    }\n",
              "    60% {\n",
              "      border-color: transparent;\n",
              "      border-right-color: var(--fill-color);\n",
              "    }\n",
              "    80% {\n",
              "      border-color: transparent;\n",
              "      border-right-color: var(--fill-color);\n",
              "      border-bottom-color: var(--fill-color);\n",
              "    }\n",
              "    90% {\n",
              "      border-color: transparent;\n",
              "      border-bottom-color: var(--fill-color);\n",
              "    }\n",
              "  }\n",
              "</style>\n",
              "\n",
              "      <script>\n",
              "        async function quickchart(key) {\n",
              "          const quickchartButtonEl =\n",
              "            document.querySelector('#' + key + ' button');\n",
              "          quickchartButtonEl.disabled = true;  // To prevent multiple clicks.\n",
              "          quickchartButtonEl.classList.add('colab-df-spinner');\n",
              "          try {\n",
              "            const charts = await google.colab.kernel.invokeFunction(\n",
              "                'suggestCharts', [key], {});\n",
              "          } catch (error) {\n",
              "            console.error('Error during call to suggestCharts:', error);\n",
              "          }\n",
              "          quickchartButtonEl.classList.remove('colab-df-spinner');\n",
              "          quickchartButtonEl.classList.add('colab-df-quickchart-complete');\n",
              "        }\n",
              "        (() => {\n",
              "          let quickchartButtonEl =\n",
              "            document.querySelector('#df-3ebdedc1-468e-4b21-bda5-3613e11cfb5b button');\n",
              "          quickchartButtonEl.style.display =\n",
              "            google.colab.kernel.accessAllowed ? 'block' : 'none';\n",
              "        })();\n",
              "      </script>\n",
              "    </div>\n",
              "\n",
              "  <div id=\"id_a8760aa9-9583-44a1-94fa-e083a1339160\">\n",
              "    <style>\n",
              "      .colab-df-generate {\n",
              "        background-color: #E8F0FE;\n",
              "        border: none;\n",
              "        border-radius: 50%;\n",
              "        cursor: pointer;\n",
              "        display: none;\n",
              "        fill: #1967D2;\n",
              "        height: 32px;\n",
              "        padding: 0 0 0 0;\n",
              "        width: 32px;\n",
              "      }\n",
              "\n",
              "      .colab-df-generate:hover {\n",
              "        background-color: #E2EBFA;\n",
              "        box-shadow: 0px 1px 2px rgba(60, 64, 67, 0.3), 0px 1px 3px 1px rgba(60, 64, 67, 0.15);\n",
              "        fill: #174EA6;\n",
              "      }\n",
              "\n",
              "      [theme=dark] .colab-df-generate {\n",
              "        background-color: #3B4455;\n",
              "        fill: #D2E3FC;\n",
              "      }\n",
              "\n",
              "      [theme=dark] .colab-df-generate:hover {\n",
              "        background-color: #434B5C;\n",
              "        box-shadow: 0px 1px 3px 1px rgba(0, 0, 0, 0.15);\n",
              "        filter: drop-shadow(0px 1px 2px rgba(0, 0, 0, 0.3));\n",
              "        fill: #FFFFFF;\n",
              "      }\n",
              "    </style>\n",
              "    <button class=\"colab-df-generate\" onclick=\"generateWithVariable('df')\"\n",
              "            title=\"Generate code using this dataframe.\"\n",
              "            style=\"display:none;\">\n",
              "\n",
              "  <svg xmlns=\"http://www.w3.org/2000/svg\" height=\"24px\"viewBox=\"0 0 24 24\"\n",
              "       width=\"24px\">\n",
              "    <path d=\"M7,19H8.4L18.45,9,17,7.55,7,17.6ZM5,21V16.75L18.45,3.32a2,2,0,0,1,2.83,0l1.4,1.43a1.91,1.91,0,0,1,.58,1.4,1.91,1.91,0,0,1-.58,1.4L9.25,21ZM18.45,9,17,7.55Zm-12,3A5.31,5.31,0,0,0,4.9,8.1,5.31,5.31,0,0,0,1,6.5,5.31,5.31,0,0,0,4.9,4.9,5.31,5.31,0,0,0,6.5,1,5.31,5.31,0,0,0,8.1,4.9,5.31,5.31,0,0,0,12,6.5,5.46,5.46,0,0,0,6.5,12Z\"/>\n",
              "  </svg>\n",
              "    </button>\n",
              "    <script>\n",
              "      (() => {\n",
              "      const buttonEl =\n",
              "        document.querySelector('#id_a8760aa9-9583-44a1-94fa-e083a1339160 button.colab-df-generate');\n",
              "      buttonEl.style.display =\n",
              "        google.colab.kernel.accessAllowed ? 'block' : 'none';\n",
              "\n",
              "      buttonEl.onclick = () => {\n",
              "        google.colab.notebook.generateWithVariable('df');\n",
              "      }\n",
              "      })();\n",
              "    </script>\n",
              "  </div>\n",
              "\n",
              "    </div>\n",
              "  </div>\n"
            ],
            "application/vnd.google.colaboratory.intrinsic+json": {
              "type": "dataframe",
              "variable_name": "df",
              "summary": "{\n  \"name\": \"df\",\n  \"rows\": 8,\n  \"fields\": [\n    {\n      \"column\": \"\\uba54\\ub274\",\n      \"properties\": {\n        \"dtype\": \"string\",\n        \"num_unique_values\": 8,\n        \"samples\": [\n          \"\\uce74\\ud398\\ub77c\\ub5bc\",\n          \"\\ubc00\\ud06c\\ud2f0\",\n          \"\\uc544\\uba54\\ub9ac\\uce74\\ub178\"\n        ],\n        \"semantic_type\": \"\",\n        \"description\": \"\"\n      }\n    },\n    {\n      \"column\": \"\\uac00\\uaca9\",\n      \"properties\": {\n        \"dtype\": \"number\",\n        \"std\": 1220,\n        \"min\": 2000,\n        \"max\": 5900,\n        \"num_unique_values\": 7,\n        \"samples\": [\n          4500,\n          5000,\n          5300\n        ],\n        \"semantic_type\": \"\",\n        \"description\": \"\"\n      }\n    },\n    {\n      \"column\": \"\\uce7c\\ub85c\\ub9ac\",\n      \"properties\": {\n        \"dtype\": \"number\",\n        \"std\": 96,\n        \"min\": 0,\n        \"max\": 250,\n        \"num_unique_values\": 6,\n        \"samples\": [\n          10,\n          110,\n          0\n        ],\n        \"semantic_type\": \"\",\n        \"description\": \"\"\n      }\n    },\n    {\n      \"column\": \"\\uc6d0\\uc0b0\\uc9c0\",\n      \"properties\": {\n        \"dtype\": \"category\",\n        \"num_unique_values\": 2,\n        \"samples\": [\n          \"\\uacfc\\ud14c\\ub9d0\\ub77c\",\n          \"\\ucf5c\\ub86c\\ube44\\uc544\"\n        ],\n        \"semantic_type\": \"\",\n        \"description\": \"\"\n      }\n    }\n  ]\n}"
            }
          },
          "metadata": {},
          "execution_count": 21
        }
      ]
    },
    {
      "cell_type": "code",
      "source": [
        "# 정렬\n",
        "# 데이터를 오름차순 또는 내림차순으로 정렬할 수 있다.\n",
        "# 오름차순은 작은 수에서 큰 수로 정렬되고, 내림차순은 큰 수에서 작은 수로 정렬된다.\n",
        "# 우선 작업에 피룡한 데이터를 불러오자\n",
        "\n",
        "import pandas as pd\n",
        "df = pd.DataFrame({\n",
        "    \"메뉴\" : ['아메리카노', '카페라떼', '카페모카', '카푸치노', '에스프레소', '밀크티', '녹차'],\n",
        "    \"가격\" : [4500, 5000, 5500, 5000, 4000, 5900, 5300],\n",
        "    \"칼로리\" : [10, 110, 250, 110, 20, 210, 0],\n",
        "})\n",
        "df.to_csv('cafe.csv', index=False)\n",
        "df = pd.read_csv('cafe.csv')\n",
        "\n",
        "# 정렬 방법\n",
        "# 인덱스 기준 : sort_index()\n",
        "# 데이터 값 기준 : sort_values()\n",
        "# 오름차순  : acending=True, 기본값(생략가능)\n",
        "# 내림차순 : acending=False\n",
        "\n",
        "print()\n",
        "# 인덱스 기준 정렬\n",
        "print(df.sort_index(ascending=False))\n",
        "\n",
        "print()\n",
        "# 데이터 값 기준 정렬\n",
        "print(df.sort_values('메뉴', ascending=False))\n",
        "\n",
        "print()\n",
        "# 2개 이상의 기준 정렬\n",
        "# 정렬하고자 하는 컬럼이 2개 이상일 때도 있고, 또 각 컬럼마다 오름차순/내림차순이 다를 수 있다.\n",
        "# 이때는 순서에 맞게 리스트 형태로 대입한다.\n",
        "# 우선 가격을 내림차순으로 먼저 정렬한 후 메뉴를 오름차순으로 정렬한다.\n",
        "# 먼저 작성된 컬럼이 우선순위가 높다.\n",
        "# inplace를 활용해 변경 사항을 저장했다.\n",
        "\n",
        "df.sort_values(['가격', '메뉴'], ascending=[False, True], inplace=True)\n",
        "print(df)\n",
        "\n",
        "print()\n",
        "# 인덱스 초기화\n",
        "# sort_values()로 정렬된(변경된) 상태에서 인덱스를 새로 만들고 싶을 때는 reset_index()를 활용한다.\n",
        "# 인덱스가 0 부터 새롭게 만들어진다."
      ],
      "metadata": {
        "id": "r9S5v59d3Ir-",
        "colab": {
          "base_uri": "https://localhost:8080/"
        },
        "outputId": "d0d0ecc8-6fda-44a9-8eb0-4745ee30b48a"
      },
      "execution_count": 22,
      "outputs": [
        {
          "output_type": "stream",
          "name": "stdout",
          "text": [
            "\n",
            "      메뉴    가격  칼로리\n",
            "6     녹차  5300    0\n",
            "5    밀크티  5900  210\n",
            "4  에스프레소  4000   20\n",
            "3   카푸치노  5000  110\n",
            "2   카페모카  5500  250\n",
            "1   카페라떼  5000  110\n",
            "0  아메리카노  4500   10\n",
            "\n",
            "      메뉴    가격  칼로리\n",
            "3   카푸치노  5000  110\n",
            "2   카페모카  5500  250\n",
            "1   카페라떼  5000  110\n",
            "4  에스프레소  4000   20\n",
            "0  아메리카노  4500   10\n",
            "5    밀크티  5900  210\n",
            "6     녹차  5300    0\n",
            "\n",
            "      메뉴    가격  칼로리\n",
            "5    밀크티  5900  210\n",
            "2   카페모카  5500  250\n",
            "6     녹차  5300    0\n",
            "1   카페라떼  5000  110\n",
            "3   카푸치노  5000  110\n",
            "0  아메리카노  4500   10\n",
            "4  에스프레소  4000   20\n",
            "\n"
          ]
        }
      ]
    },
    {
      "cell_type": "code",
      "source": [
        "# 필터링\n",
        "\n",
        "import pandas as pd\n",
        "df = pd.DataFrame({\n",
        "    \"메뉴\" : ['아메리카노', '카페라떼', '카페모카', '카푸치노', '에스프레소', '밀크티', '녹차'],\n",
        "    \"가격\" : [4500, 5000, 5500, 5000, 4000, 5900, 5300],\n",
        "    \"칼로리\" : [10, 110, 250, 110, 20, 210, 0],\n",
        "})\n",
        "\n",
        "df.to_csv('cafe2.csv', index=False)\n",
        "df = pd.read_csv('cafe2.csv')\n",
        "df.head(2)\n",
        "\n",
        "print()\n",
        "# 1개 조건 필터링\n",
        "# 특정 컬럼에 조건식(<,>,==, != 등) 을 적용하면 True/False가 반환된다.\n",
        "# 불리안(Boolean) 자료형이다.\n",
        "# 각 행에 대해 True 또는 False가 반환되고, 이 결과는 '칼로리' 컬럼의 값이 50보다 작은지를 나타낸다.\n",
        "print(df['칼로리'] < 50)\n",
        "\n",
        "print()\n",
        "#  불리언(Boolean) 결과를 데이터프레이므이 대괄호 안에 넣으면 True로 표시된 행들만 선택된다.\n",
        "# 예를 들어, df[cond] 형태로 사용하면 '칼로리'가 50보다 작은 행들만 필터링 되어 선택된다.\n",
        "# 여기서 cond는 df['칼로리'] < 50 의 결과를 저장한 변수다.\n",
        "\n",
        "cond = df['칼로리'] < 50\n",
        "print(df[cond])\n",
        "\n",
        "print()\n",
        "# 물론 df[df['칼로리'] < 50]와 같이 변수 없이 한 줄로 사용해도 같은 결과를 얻을 수 있다.\n",
        "\n",
        "print(df[df['칼로리']< 50])\n",
        "\n",
        "print()\n",
        "# NOT 연산자\n",
        "# '~' 연산자는 조건의 반대를 필터링 하는데 사용한다.\n",
        "cond = df['칼로리'] < 50\n",
        "df[~cond]\n",
        "\n",
        "print()\n",
        "# 복수 조건 필터링\n",
        "# 조건이 2개 이싱일 때는 합집합(OR)이거나 교집합(AND) 인지를 구분해야 한다.\n",
        "# 판다스에서 & 와 | 연산자는 데이터프레임을 필터링하는 데 사용한다.\n",
        "# 파이썬 조건문에서는 and와 or 연산자를 사용하고, 판다스 데이터프레임을 필터링할 때는 &와 | 연산자를 사용한다.\n",
        "# 시험에서는 판다스로 데이터를 다루는 일이 많으므로 &와 | 연산자를 머릿속에 기억해 두자.\n",
        "# 참고로 파이썬에서도 &와 | 연산자를 사용한다.\n",
        "# 다만 비트(0과 1) 연산을 수행하고, 시험에서는 사용하지 않는다.\n",
        "# 파이썬 조건문 if 조건1 and 조건2 , if 조건1 or 조건2\n",
        "# 판다스 df[조건1 & 조건2], df[조건1 | 조건2]\n",
        "\n",
        "cond1 = df['가격'] >= 5000\n",
        "cond2 = df['칼로리'] > 100\n",
        "print(df[cond1 & cond2])\n",
        "print()\n",
        "print(df[cond1 | cond2])\n",
        "\n",
        "# '원산지' 컬럼에서 '과테말라' 데이터만 필터링해 보자.\n",
        "# 만약 조건식에서 '='과 '=='가 동시에 있어 어색하다면 cond = (조건)과 같이 소괄호로 묶어주면 된다.\n",
        "\n",
        "print()\n",
        "# cond = (df['원산지']=='과테말라')\n",
        "# print(df[cond])\n",
        "\n",
        "print()\n",
        "# isin()은 주어진 값이 있는지 확인한다.\n",
        "# 데이터프레임이나 시리즈의 값 중에 포함되어 있는지를 체크해 포함되어 있으면 True\n",
        "# 그렇지 않으면 False를 반환한다.\n",
        "# isin()을 사용해 녹차를 찾아보자.\n",
        "df['메뉴'].isin(['녹차'])\n",
        "\n",
        "print()\n",
        "# isin()의 결과는 True/False다. 앞서 사용한 조건식과 결과가 같다.\n",
        "# 데이터 프레임에 불리언 (True/False)을 대입하면 녹차데이터(행)만 찾을 수 있다.\n",
        "cond = df['메뉴'].isin(['녹차'])\n",
        "print(df[cond])\n",
        "\n",
        "print()\n",
        "box = ['녹차', '카푸치노', '카페라떼']\n",
        "cond = df['메뉴'].isin(box)\n",
        "print(df[cond])\n",
        "\n",
        "print()\n",
        "# isin()을 사용할 떄 유용한 점은 여러개의 값을 한번에 찾을 수 있다는 것이다.\n",
        "# 예를 들어, 100개의 값을 조건식으로 찾는다면 최대 100개의 조건식이 필요하다.\n",
        "# 하지만 isin()을 활용할 경우 한번에 찾을 수 있다.\n",
        "# 리스트에 찾는 값을 담고, 그 리스트를 isin()의 괄호 안에 작성하면 녹차, 카푸치노, 카페라떼가 포함된 행 데이터를 찾을 수 있다.\n",
        "\n",
        "box = ['녹차', '카푸치노', '카페라떼']\n",
        "cond = df['메뉴'].isin(box)\n",
        "print(df[cond])\n",
        "# isin()은 주어진 값과의 완전한 일치를 검사한다.\n",
        "# 따라서 '카페라떼'는 찾을 수 있지만, '라떼'는 찾을 수 없다.\n",
        "# 문자열 안에 특정 문자열(예: 라떼)이 포함되었는지 알고 싶다면 문자열을 다루는 섹션에서\n",
        "# 그 방법을 배워보자.\n",
        "\n"
      ],
      "metadata": {
        "id": "8W7T9qTi3Jq4",
        "colab": {
          "base_uri": "https://localhost:8080/"
        },
        "outputId": "b63a1083-9ad2-49fe-8ab4-f869ba59cc38"
      },
      "execution_count": 23,
      "outputs": [
        {
          "output_type": "stream",
          "name": "stdout",
          "text": [
            "\n",
            "0     True\n",
            "1    False\n",
            "2    False\n",
            "3    False\n",
            "4     True\n",
            "5    False\n",
            "6     True\n",
            "Name: 칼로리, dtype: bool\n",
            "\n",
            "      메뉴    가격  칼로리\n",
            "0  아메리카노  4500   10\n",
            "4  에스프레소  4000   20\n",
            "6     녹차  5300    0\n",
            "\n",
            "      메뉴    가격  칼로리\n",
            "0  아메리카노  4500   10\n",
            "4  에스프레소  4000   20\n",
            "6     녹차  5300    0\n",
            "\n",
            "\n",
            "     메뉴    가격  칼로리\n",
            "1  카페라떼  5000  110\n",
            "2  카페모카  5500  250\n",
            "3  카푸치노  5000  110\n",
            "5   밀크티  5900  210\n",
            "\n",
            "     메뉴    가격  칼로리\n",
            "1  카페라떼  5000  110\n",
            "2  카페모카  5500  250\n",
            "3  카푸치노  5000  110\n",
            "5   밀크티  5900  210\n",
            "6    녹차  5300    0\n",
            "\n",
            "\n",
            "\n",
            "   메뉴    가격  칼로리\n",
            "6  녹차  5300    0\n",
            "\n",
            "     메뉴    가격  칼로리\n",
            "1  카페라떼  5000  110\n",
            "3  카푸치노  5000  110\n",
            "6    녹차  5300    0\n",
            "\n",
            "     메뉴    가격  칼로리\n",
            "1  카페라떼  5000  110\n",
            "3  카푸치노  5000  110\n",
            "6    녹차  5300    0\n"
          ]
        }
      ]
    },
    {
      "cell_type": "code",
      "source": [
        "# 결측치 처리\n",
        "# 데이터에 결측치가 있다면, 삭제하거나 특정 값으로 채울 수 있다.\n",
        "# 우선 데이터를 불러오자.\n",
        "import pandas as pd\n",
        "import numpy as np\n",
        "\n",
        "df = pd.DataFrame({\n",
        "    \"메뉴\" : ['아메리카노', '카페라떼', '카페모카', '카푸치노', '에스프레소', '밀크티', '녹차'],\n",
        "    \"가격\" : [4500, 5000, 5500, 5000, 4000, 5900, 5300],\n",
        "    \"칼로리\" : [10, 110, 250, 110, 20, 210, 0],\n",
        "})\n",
        "\n",
        "df['원산지'] = np.nan\n",
        "df[\"원산지\"] = df[\"원산지\"].astype(\"object\")\n",
        "df.loc[0, \"원산지\"] = \"콜롬비아\"\n",
        "df.loc[2:3, \"원산지\"] = \"과테말라\"\n",
        "df.head(4)\n",
        "\n",
        "# 결측치 탐색\n",
        "# 결측치를 확인하는 데는 df.isnull()을 사용한다.\n",
        "# df.isnull()을 입력하면 각 값마다 True/False가 나타난다.\n",
        "# 결측치(NaN)면 True를 반환하고, 값이 있다면 False를 반환한다.\n",
        "# '메뉴', '가격', '칼로리' 컬럼은 모두 False고, '원산지' 컬럼에는 결측치인 True가 보인다.\n",
        "\n",
        "print(df.isnull())\n",
        "\n",
        "print()\n",
        "# df.isnull()에 sum()을 붙이면 컬럼별로 모두 더할 수 있다.\n",
        "# True는 1이고, False는 0이다.\n",
        "# 컬럼별로 더하면 결측치 수를 확인할 수 있다.\n",
        "# '메뉴', '가격', '칼로리'는 결측치가 없고, '원산지'는 5개의 결측치가 있다.\n",
        "print(df.isnull().sum())\n",
        "\n",
        "print()\n",
        "# isnull() 외에 isna()를 활용해도 같은 결과를 얻을 수 있다.\n",
        "print(df.isna().sum())\n",
        "\n",
        "print()\n",
        "# 결측치 채우기\n",
        "# '원산지' 컬럼에 있는 결측치를 fillna()를 활용해 임의의 값으로 채워보자.\n",
        "# '코스타리카'로 결측치를 모두 채웠다.\n",
        "df['원산지'].fillna('코스타리카', inplace=True)\n",
        "print(df)\n",
        "\n",
        "# 결측치가 처리된 결괏값을 cafe3.csv로 저장한다.\n",
        "df.to_csv(\"cafe3.csv\", index=False)"
      ],
      "metadata": {
        "id": "l5HvYlMZ3KhF",
        "colab": {
          "base_uri": "https://localhost:8080/"
        },
        "outputId": "9533d4de-d3fc-41e0-c75b-6700f7254ed4"
      },
      "execution_count": 24,
      "outputs": [
        {
          "output_type": "stream",
          "name": "stdout",
          "text": [
            "      메뉴     가격    칼로리    원산지\n",
            "0  False  False  False  False\n",
            "1  False  False  False   True\n",
            "2  False  False  False  False\n",
            "3  False  False  False  False\n",
            "4  False  False  False   True\n",
            "5  False  False  False   True\n",
            "6  False  False  False   True\n",
            "\n",
            "메뉴     0\n",
            "가격     0\n",
            "칼로리    0\n",
            "원산지    4\n",
            "dtype: int64\n",
            "\n",
            "메뉴     0\n",
            "가격     0\n",
            "칼로리    0\n",
            "원산지    4\n",
            "dtype: int64\n",
            "\n",
            "      메뉴    가격  칼로리    원산지\n",
            "0  아메리카노  4500   10   콜롬비아\n",
            "1   카페라떼  5000  110  코스타리카\n",
            "2   카페모카  5500  250   과테말라\n",
            "3   카푸치노  5000  110   과테말라\n",
            "4  에스프레소  4000   20  코스타리카\n",
            "5    밀크티  5900  210  코스타리카\n",
            "6     녹차  5300    0  코스타리카\n"
          ]
        },
        {
          "output_type": "stream",
          "name": "stderr",
          "text": [
            "/tmp/ipython-input-272032880.py:42: FutureWarning: A value is trying to be set on a copy of a DataFrame or Series through chained assignment using an inplace method.\n",
            "The behavior will change in pandas 3.0. This inplace method will never work because the intermediate object on which we are setting values always behaves as a copy.\n",
            "\n",
            "For example, when doing 'df[col].method(value, inplace=True)', try using 'df.method({col: value}, inplace=True)' or df[col] = df[col].method(value) instead, to perform the operation inplace on the original object.\n",
            "\n",
            "\n",
            "  df['원산지'].fillna('코스타리카', inplace=True)\n"
          ]
        }
      ]
    },
    {
      "cell_type": "code",
      "source": [
        "# 값 변경\n",
        "import pandas as pd\n",
        "df = pd.read_csv(\"cafe3.csv\")\n",
        "df.head(3)\n",
        "\n",
        "print()\n",
        "# replace() 활용\n",
        "# replace()는 변경 전 값과 변경 후 값 순서로 입력해 사용한다.\n",
        "# 여러 개의 값을 변경하기 위해 replace()를 여러 번 사용해도 된다.\n",
        "df.replace('아메리카노', '룽고', inplace=True)\n",
        "df.replace('녹차', '그린티', inplace=True)\n",
        "print(df)\n",
        "\n",
        "print()\n",
        "# 여러 개의 값을 변경할 때 replace()를 여러 번 사용하기도 하지만, 딕셔너리를 활용할 수도 있다.\n",
        "# '변경 전 값 : 변경 후 값' 형태로 딕셔너리를 만든 후 replace()의 괄호 안에 넣어주면 된다.\n",
        "change = {'룽고' : '아메리카노', '그린티' : '녹차'} # 이 방법이 좀 더 좋을 듯.\n",
        "df.replace(change, inplace=True)\n",
        "print(df)\n",
        "\n",
        "print()\n",
        "# loc/iloc 활용\n",
        "# loc를 활용해 '녹차'의 원산지를 '대한민국'으로 변경해 보자.\n",
        "# loc는 인덱스명을 사용한다.\n",
        "# 녹차의 인덱스명은 6이므로 인덱스명에는 '6', 컬럼명에는 '원산지'를 입력한다.\n",
        "df.loc[6, '원산지'] = '대한민국'\n",
        "df.tail(3)\n",
        "\n",
        "print()\n",
        "# loc를 활용해 새로운 컬럼 '이벤트가'를 만들고 카페라떼와 카페모카에 1000원을 대입해 보자.\n",
        "# 새로운 컬럼을 만들고 값을 대입하지 않으면 자동으로 'NaN'이 들어간 것을 확인할 수 있다.\n",
        "df.loc[1:2, '이벤트가'] = 1000\n",
        "df.head()\n",
        "# 변경된 데이터 프레임을 cafe4.csv로 저장하자\n",
        "df.to_csv('cafe4.csv', index=False)\n",
        "\n",
        "print()\n",
        "# map() 함수\n",
        "# map() 함수는 replace()에 비해 유연성이 뛰어나, 딕셔너리나 사용자 정의 함수를 활용하여\n",
        "# 보다 세밀하게 각 요소를 변환할 수 있다.\n",
        "# map() 함수는 시리즈의 각 요소를 지정된 딕셔너리나 함수에 따라 변환하는데 사용한다.\n",
        "# 즉, 변경하려는 값을 딕셔너리(키:값 쌍)로 정의한 후, map() 함수를 통해 Series의 각 요소를\n",
        "# 해당 딕셔너리의 키와 매칭하여 대응되는 값으로 대체할 수 있다.\n",
        "import pandas as pd\n",
        "df = pd.DataFrame({\n",
        "    '만족도' : ['만족', '보통', '불만', '보통', '만족']\n",
        "})\n",
        "\n",
        "mapping = {'만족' : 3, '보통' : 2, '불만' : 1}\n",
        "df['만족도_숫자'] = df['만족도'].map(mapping)\n",
        "print(df)"
      ],
      "metadata": {
        "id": "fUdubxdP3LYY",
        "colab": {
          "base_uri": "https://localhost:8080/"
        },
        "outputId": "8d953a59-6814-403a-ec72-0956df7b20c9"
      },
      "execution_count": 25,
      "outputs": [
        {
          "output_type": "stream",
          "name": "stdout",
          "text": [
            "\n",
            "      메뉴    가격  칼로리    원산지\n",
            "0     룽고  4500   10   콜롬비아\n",
            "1   카페라떼  5000  110  코스타리카\n",
            "2   카페모카  5500  250   과테말라\n",
            "3   카푸치노  5000  110   과테말라\n",
            "4  에스프레소  4000   20  코스타리카\n",
            "5    밀크티  5900  210  코스타리카\n",
            "6    그린티  5300    0  코스타리카\n",
            "\n",
            "      메뉴    가격  칼로리    원산지\n",
            "0  아메리카노  4500   10   콜롬비아\n",
            "1   카페라떼  5000  110  코스타리카\n",
            "2   카페모카  5500  250   과테말라\n",
            "3   카푸치노  5000  110   과테말라\n",
            "4  에스프레소  4000   20  코스타리카\n",
            "5    밀크티  5900  210  코스타리카\n",
            "6     녹차  5300    0  코스타리카\n",
            "\n",
            "\n",
            "\n",
            "  만족도  만족도_숫자\n",
            "0  만족       3\n",
            "1  보통       2\n",
            "2  불만       1\n",
            "3  보통       2\n",
            "4  만족       3\n"
          ]
        }
      ]
    },
    {
      "cell_type": "code",
      "source": [
        "# 문자열\n",
        "# 문자열(string)은 일련의 문자로 구성된 데이터 유형이다.\n",
        "# 이 문자들은 문자, 숫자, 구두점, 공백, 특수 문자 등의 문자를 포함하고 있다.\n",
        "# 판다스에서는 str 접근자를 사용해 문자열 데이터를 효율적으로 다룰 수 있다.\n",
        "# 문자열을 설명하기 위해 이 섹션에서 사용할 임의의 데이터를 생성한다.\n",
        "\n",
        "# 단, 의도적으로 C 컬럼에서 마지막 데이터인 'ab cd'뒤에 공백을 하나 추가했다.\n",
        "\n",
        "import pandas as pd\n",
        "df = pd.DataFrame({\n",
        "    'A' : ['데이터 분석', '기본 학습서', '퇴근 후 열공'],\n",
        "    'B' : [10, 20, 30],\n",
        "    'C' : ['ab cd', 'AB CD', 'ab cd ']\n",
        "})\n",
        "print(df)\n",
        "\n",
        "# 문자열 변경(치환)\n",
        "# 이전 섹션에서 배운대로 replace()를 활용해 A 컬럼에서 '분석' 단어를 '시각화'로 변경을 시도했다.\n",
        "# 하지만 변경되지 않았다.\n",
        "# 0행 0열에 있는 전체 문자열은 '데이터 분석'이다.\n",
        "# replace()만으로 전체 단어인 '데이터 분석'을 다른 단어로 변경할 수 있지만, '데이터 분석'이라는 문자열에서\n",
        "# '분석'이라는 일부 단어만 변경하지는 못한다.\n",
        "\n",
        "df['A'] = df['A'].replace('분석', '시각화')\n",
        "print(df)\n",
        "\n",
        "print()\n",
        "# 전체 문자열 중 일부만 변경할 때는 str을 사용한다.\n",
        "# str 접근자를 활용하면 데이터프레임의 값을 문자열로 인식한다.\n",
        "# str.replace('분석', '시각화')를 적용하면 변경된 것을 확인할 수 있다.\n",
        "df['A'] = df['A'].str.replace('분석', '시각화')\n",
        "print(df)\n",
        "\n",
        "print()\n",
        "# replace()를 사용할 때 \"항상 str을 사용하면 되지 않을까?\"  싶을 수도 있다.\n",
        "# 하지만 이 방식은 데이터가 숫자일 때 에러가 발생한다.\n",
        "# 예를 들어, 숫자 데이터를 replace()로 변경해보자.\n",
        "# 정상적으로 10이 100으로 변경된 것을 확인할 수 있다.\n",
        "\n",
        "df['B'] = df['B'].replace(10, 100)\n",
        "print(df)\n",
        "\n",
        "\n",
        "print()\n",
        "# 이번에는 20을 200으로 변경하되, str.replace()를 적용해 보자.\n",
        "# 이 경우 에러가 발생한다.\n",
        "# str은 문자열만 적용 가능하다.\n",
        "# 정리하면\n",
        "# replace()는 문자열뿐만 아니라 다른 유형도 변경가능 하지만\n",
        "# str.replace()는 문자열에만 사용 가능하다.\n",
        "\n",
        "# df['B'] = df['B'].str.replace(20, 200)\n",
        "# print(df)\n",
        "# ->Attribute Error\n",
        "\n",
        "print()\n",
        "# 문자열 분리\n",
        "# 문자열을 분리할 때는 str.split()을 사용한다.\n",
        "# 괄호 안에 값이 없을 때는 기본적으로 띄어쓰기를 기준으로 분리한다.\n",
        "# str.split(',')와 같이 괄호 안에 콤마가 있다면 콤마를 기준으로 분리한다.\n",
        "print(df['A'].str.split())\n",
        "\n",
        "print()\n",
        "# 대괄호([])를 사용해 분리한 데이터의 특정 행만 선택할 수도 있다. 0번째 인덱스 행만 선택했다.\n",
        "print(df['A'].str.split()[0])\n",
        "\n",
        "print()\n",
        "# 분리 후 첫 번째 단어만 필요하다면 각 행별 첫 번째 값을 선택해야 한다.\n",
        "# 이때는 str[0]을 붙인다.\n",
        "# str.split()은 문자열을 리스트로 나눠 시리즈 자료형으로 반환하고\n",
        "# str[0]은 각 리스트의 첫 번째 값을 선택한다.\n",
        "# 그 값을 새로운 컬럼 D에 대입한 결과를 확인할 수 있다.\n",
        "df['D'] = df['A'].str.split().str[0]\n",
        "print(df)\n",
        "\n",
        "print()\n",
        "# 분리 후 첫 번째 단어만 필요하다면 각 행별 첫 번째 값을 선택해야 한다.\n",
        "# 이때는 str[0]을 붙인다.\n",
        "# str.split()은 문자열을 리스트로 나눠 시리즈 자료형으로 반환하고, str[0]은 각 리스트의 첫 번째 값을 선택한다.\n",
        "# 그 값을 새로운 컬럼 D에 대입한 결과를 확인할 수 있다.\n",
        "df['D'] = df['A'].str.split().str[0]\n",
        "print(df)\n",
        "\n",
        "# str.split()[0] vs str.sprit().str[0]\n",
        "# str.split()[0]에서 [0]은 첫 번째 행(0번째 인덱스)을 선택한다.\n",
        "\n",
        "# str.split().str[0]에서 str[0]은 각 문자열 리스트 값에서 첫 번쨰 요소(0번째 인덱스)를 선택한다.\n",
        "# str 접근자로 인해 차이가 있다.\n",
        "\n",
        "print()\n",
        "# 특정 문자열 검색\n",
        "# str.contains()를 활용해 특정 단어가 포함되어 있는지 확인할 수 있다.\n",
        "# A 컬럼에서 '기본'단어가 있는지 찾아보자.\n",
        "# 0, 2행에는 없고, 1행에는 있는 것을 확인할 수 있다.\n",
        "print(df['A'].str.contains('기본'))\n",
        "\n",
        "print()\n",
        "# str.contains('기본')에서 반환된 값을 데이터프레임에 새로운 컬럼으로 추가한다.\n",
        "df['기본포함유무'] = df['A'].str.contains('기본')\n",
        "print(df)\n",
        "\n",
        "print()\n",
        "# str.contains()와 isin()\n",
        "# str.contains()는 필터링에서 배운 isin()과 유사하지만 다르다.\n",
        "# isin()은 값을 찾고, contains()는 값을 찾거나 값의 일부를 찾는다.\n",
        "# 데이터프레임 또는 시리즈에서는 isin()과 str.contains() 모두 사용 가능하다.\n",
        "# isin()은 특정 값이 있는지 확인하며, 괄호 안에는 리스트 형태로 데이터가 입력된다.\n",
        "# 따라서 여러 개의 값을 찾을 수 있는 장점이 있고, 이는 필터링에서 유용하게 사용된다.\n",
        "# 다만, 1개 값만 찾더라도 menu.isin(['맛난버거']) 와 같이 대괄호가 필요하다.\n",
        "menu = pd.Series(['맛난버거 세트', '매운 치킨버거', '더블 치즈버거'])\n",
        "print(menu)\n",
        "print(menu.isin(['맛난버거 세트', '더블 치즈버거']))\n",
        "\n",
        "print()\n",
        "# str.contains()는 문장 속에서 특정 문자열을 찾을 수 있다는 장점이 있다.\n",
        "# str을 통해 접근한다.\n",
        "# 찾고자 하는 1개 값만 입력값으로 대입할 수 있다.\n",
        "#  리스트 형태가 아니므로 대괄호는 필요 없다.\n",
        "print(menu.str.contains('세트'))\n",
        "\n",
        "print()\n",
        "# 문자열 길이\n",
        "# A 컬럼의 문자열 길이를 반환받아 새로운 컬럼에 추가했다.\n",
        "df['문자길이'] = df['A'].str.len()\n",
        "print(df)\n",
        "\n",
        "print()\n",
        "# 파이썬에서는 대소문자를 구분한다. 따라서 'AB cd' =='ab CD'는 다르다.\n",
        "# 결과도 False로 출력된다.\n",
        "'AB cd' == 'ab CD'\n",
        "\n",
        "print()\n",
        "# str.lower()를 활용해 영어로 된 문자열을 모두 소문자로 변경할 수 있다.\n",
        "df['C'] = df['C'].str.lower()\n",
        "print(df['C'])\n",
        "\n",
        "print()\n",
        "# str.upper()를 활용해 영어로 된 문자열을 모두 대문자로 변경할 수 있다.\n",
        "df['C'] = df['C'].str.upper()\n",
        "print(df['C'])\n",
        "\n",
        "print()\n",
        "# C 컬럼의 값이 'AB CD'와 같은지를 비교해 보면 마지막 값은 False로 출력된다.\n",
        "# 이 상황을 보여주기 위해 데이터를 만들 때 문자열 마지막에 공백을 의도적으로 추가했다.\n",
        "# 공백이 있다면 컴퓨터는 다르게 인식한다.\n",
        "df['C'] == 'AB CD'\n",
        "\n",
        "print()\n",
        "# 문제에서 특정 영문 단어의 수를 물었을 때 특정 단어의 대소문자가 다를 수도 있고,\n",
        "# 공백이 포함될 수도 있다.\n",
        "# 따라서 소문자 (또는 대문자)로 변경하고 공백도 제거하는 전처리가 필요하다.\n",
        "df['C'] = df['C'].str.lower()\n",
        "df['C'] = df['C'].str.replace(\" \",\"\")\n",
        "print(df['C'])\n",
        "\n",
        "print()\n",
        "# 왼쪽, 오른쪽, 앞쪽 공백 제거 방법은?\n",
        "df['C'].str.strip() # 양쪽 공백 제거\n",
        "df['C'].str.lstrip() # 왼쪽 공백 제거\n",
        "df['C'].str.rstrip() # 오른쪽 공백 제거\n",
        "\n",
        "print()\n",
        "# 문자열 슬라이싱\n",
        "# str[시작 인덱스 번호: 끝 인덱스 번호]를 활용해 데이터프레임에서 특정 구간만 슬라이싱할 수 있다.\n",
        "# 행별로 bc를 슬라이싱 했다.\n",
        "print(df['C'].str[1:3])\n",
        "\n",
        "print()\n",
        "# 만약 str 없이 df['C'][1:3]과 같이 사용한다면 첫 번째 행과 두 번째 행이 선택된다.\n",
        "# 데이터프레임에서 슬라이싱할 때 str 사용에 주의하자.\n",
        "print(df['C'][1:3])"
      ],
      "metadata": {
        "id": "uAzBeHR13MjI",
        "colab": {
          "base_uri": "https://localhost:8080/"
        },
        "outputId": "edee9d7d-f64c-4c27-b178-194d8b088a49"
      },
      "execution_count": 26,
      "outputs": [
        {
          "output_type": "stream",
          "name": "stdout",
          "text": [
            "         A   B       C\n",
            "0   데이터 분석  10   ab cd\n",
            "1   기본 학습서  20   AB CD\n",
            "2  퇴근 후 열공  30  ab cd \n",
            "         A   B       C\n",
            "0   데이터 분석  10   ab cd\n",
            "1   기본 학습서  20   AB CD\n",
            "2  퇴근 후 열공  30  ab cd \n",
            "\n",
            "         A   B       C\n",
            "0  데이터 시각화  10   ab cd\n",
            "1   기본 학습서  20   AB CD\n",
            "2  퇴근 후 열공  30  ab cd \n",
            "\n",
            "         A    B       C\n",
            "0  데이터 시각화  100   ab cd\n",
            "1   기본 학습서   20   AB CD\n",
            "2  퇴근 후 열공   30  ab cd \n",
            "\n",
            "\n",
            "0     [데이터, 시각화]\n",
            "1      [기본, 학습서]\n",
            "2    [퇴근, 후, 열공]\n",
            "Name: A, dtype: object\n",
            "\n",
            "['데이터', '시각화']\n",
            "\n",
            "         A    B       C    D\n",
            "0  데이터 시각화  100   ab cd  데이터\n",
            "1   기본 학습서   20   AB CD   기본\n",
            "2  퇴근 후 열공   30  ab cd    퇴근\n",
            "\n",
            "         A    B       C    D\n",
            "0  데이터 시각화  100   ab cd  데이터\n",
            "1   기본 학습서   20   AB CD   기본\n",
            "2  퇴근 후 열공   30  ab cd    퇴근\n",
            "\n",
            "0    False\n",
            "1     True\n",
            "2    False\n",
            "Name: A, dtype: bool\n",
            "\n",
            "         A    B       C    D  기본포함유무\n",
            "0  데이터 시각화  100   ab cd  데이터   False\n",
            "1   기본 학습서   20   AB CD   기본    True\n",
            "2  퇴근 후 열공   30  ab cd    퇴근   False\n",
            "\n",
            "0    맛난버거 세트\n",
            "1    매운 치킨버거\n",
            "2    더블 치즈버거\n",
            "dtype: object\n",
            "0     True\n",
            "1    False\n",
            "2     True\n",
            "dtype: bool\n",
            "\n",
            "0     True\n",
            "1    False\n",
            "2    False\n",
            "dtype: bool\n",
            "\n",
            "         A    B       C    D  기본포함유무  문자길이\n",
            "0  데이터 시각화  100   ab cd  데이터   False     7\n",
            "1   기본 학습서   20   AB CD   기본    True     6\n",
            "2  퇴근 후 열공   30  ab cd    퇴근   False     7\n",
            "\n",
            "\n",
            "0     ab cd\n",
            "1     ab cd\n",
            "2    ab cd \n",
            "Name: C, dtype: object\n",
            "\n",
            "0     AB CD\n",
            "1     AB CD\n",
            "2    AB CD \n",
            "Name: C, dtype: object\n",
            "\n",
            "\n",
            "0    abcd\n",
            "1    abcd\n",
            "2    abcd\n",
            "Name: C, dtype: object\n",
            "\n",
            "\n",
            "0    bc\n",
            "1    bc\n",
            "2    bc\n",
            "Name: C, dtype: object\n",
            "\n",
            "1    abcd\n",
            "2    abcd\n",
            "Name: C, dtype: object\n"
          ]
        }
      ]
    },
    {
      "cell_type": "code",
      "source": [
        "# 내장 함수\n",
        "# 데이터프레임에서 활용할 수 있는 다양한 함수가 이미 구현되어 있다.\n",
        "# 다양한 함수를 활용하고 있지만, 추가로 알고 있어야 할 함수를 살펴보자.\n",
        "import pandas as pd\n",
        "df = pd.read_csv('cafe4.csv')\n",
        "\n",
        "# len()\n",
        "print(df)\n",
        "print()\n",
        "print(len(df))\n",
        "print(df.shape[0])\n",
        "\n",
        "# sum()\n",
        "cond = df['가격'] > 5000\n",
        "\n",
        "print()\n",
        "# sum으로 조건에 맞는 개수 구하기\n",
        "print(sum(cond))\n",
        "\n",
        "print()\n",
        "# len으로 조건에 맞는 개수 구하기\n",
        "print(len(df[cond]))\n",
        "\n",
        "print()\n",
        "# len으로 조건에 맞는 개수 구하기\n",
        "df.sum(numeric_only=True)\n",
        "\n",
        "# 만약 행별 합계를 구한다면 두 가지 방법이 있다.\n",
        "# 1. 데이터프레임 df의 행과 열을 변경한다.\n",
        "# T(대문자)를 사용하면 되는데, T는 transpose의 약자다.\n",
        "# 만약 변경한 형태로 저장하고 싶다면 df = df.T로 저장할 수 있다.\n",
        "print(df.T)\n",
        "\n",
        "print()\n",
        "# 데이터프레임 속성: df.T와 df.shape는 함수(메소드)가 아니라 데이터프레임 속성이므로 괄호가 없다.\n",
        "# 2. 축(axis)을 변경한다.\n",
        "# 기본적으로 axis = 0이다. 이를 1로 변경하면 행별 합계를 구할 수 있다.\n",
        "print(df.sum(axis=1, numeric_only=True))\n",
        "\n",
        "print()\n",
        "# 단, 이때 주의할 점은 drop에서 사용할 때와는 축설정을 반대라고 생각하는 것이 이해하기 쉽다.\n",
        "# sum(axis=0)은 컬럼별 합계이고, sum(axis=1)은 행별 합계이다.\n",
        "# sum(df)과 df.sum()의 차이는?\n",
        "# sum(df)와 같이 함수가 밖에서 데이터프레임을 감싸고 있으면 파이썬 내장함수이고, df.sum()과 같이\n",
        "# 데이터프레임 뒤에 점(.)과 함께 함수가 붙으면 판다스의 데이터프레임에서 제공하는 함수(메소드)다.\n",
        "# 계산 결과는 같다.\n",
        "\n",
        "# max(), min(), mean(), median(), sum(), std(), var()\n",
        "# 기초 통계 함수를 확인해 보자. 최댓값, 최솟값, 평균값, 중앙값, 합계, 표준편차, 분산을 손쉽게 확인할 수 있다.\n",
        "print(\"최댓값: \", df['가격'].max())\n",
        "print(\"최솟값: \", df['가격'].min())\n",
        "print(\"평균값: \", df['가격'].mean())\n",
        "print(\"중앙값: \", df['가격'].median())\n",
        "print(\"합계: \", df['가격'].sum())\n",
        "print(\"표준편차; \", df['가격'].std())\n",
        "print(\"분산: \", df['가격'].var())\n",
        "\n",
        "print()\n",
        "# quantile()\n",
        "# 판다스의 quantile(0~1 사이 값) 함수를 통해 분위수를 확인할 수 있다.\n",
        "# - 0.25 : 1사분위수(데이터 하위 25%)\n",
        "# - 0.5 : 2사분위수(데이터의 중앙값)\n",
        "# - 0.75 : 3사분위수(데이터의 하위 75%)\n",
        "# 1, 2, 3 사분위수 외에도 0.1은 데이터의 하위 10% 0.9는 데이터의 하위 90%에 해당하는 값을 구할 수 있다.\n",
        "# quantile() 함수에 숫자(파라미터)를 넣을 때 1사분위수를 구한다면 '0.25'를 입력한다.\n",
        "# 또는 '0.25'에서 '0'을 생략하고 '.25'와 같은 방식으로 입력할 수 있다.\n",
        "\n",
        "print(\"분위수 25% 값\", df['가격'].quantile(.25))\n",
        "print(\"분위수 75% 값\", df['가격'].quantile(.75))\n",
        "\n",
        "print()\n",
        "# 1사분위수보다 작은 가격의 데이터를 찾아보자.\n",
        "# 조건을 cond 변수에 담고 데이터프레임에 필터링한다.\n",
        "cond = df['가격'].quantile(.25) > df['가격'] # True인 거 반환\n",
        "print(df[cond])\n",
        "\n",
        "print()\n",
        "# 3 사분위보다 큰 가격의 데이터를 찾아보자.\n",
        "# 조건이 복잡하게 느껴진다면 df['가격'].quantile(.75) 값을 먼저 새로운 변수에 담고,\n",
        "# cond = 새로운 변수 < df['가격']으로 작성해도 된다.\n",
        "cond = df['가격'].quantile(.75) < df['가격']\n",
        "print(df[cond])\n",
        "\n",
        "print()\n",
        "# mode()\n",
        "# 최빈값을 찾을 때는 mode() 함수를 활용한다.\n",
        "# mode() 함수는 최빈값을 찾아 시리즈 형태로 반환한다.\n",
        "# 따라서 인덱스를 제외하고 최빈값만 얻고 싶다면 뒤에 인덱스 0을 붙여준다."
      ],
      "metadata": {
        "id": "LHP3rKj93Ncc",
        "colab": {
          "base_uri": "https://localhost:8080/"
        },
        "outputId": "3180a8dd-d81f-4e20-fe09-ebe17eb7dcc2"
      },
      "execution_count": 161,
      "outputs": [
        {
          "output_type": "stream",
          "name": "stdout",
          "text": [
            "      메뉴    가격  칼로리    원산지    이벤트가\n",
            "0  아메리카노  4500   10   콜롬비아     NaN\n",
            "1   카페라떼  5000  110  코스타리카  1000.0\n",
            "2   카페모카  5500  250   과테말라  1000.0\n",
            "3   카푸치노  5000  110   과테말라     NaN\n",
            "4  에스프레소  4000   20  코스타리카     NaN\n",
            "5    밀크티  5900  210  코스타리카     NaN\n",
            "6     녹차  5300    0   대한민국     NaN\n",
            "\n",
            "7\n",
            "7\n",
            "\n",
            "3\n",
            "\n",
            "3\n",
            "\n",
            "          0       1       2     3      4      5     6\n",
            "메뉴    아메리카노    카페라떼    카페모카  카푸치노  에스프레소    밀크티    녹차\n",
            "가격     4500    5000    5500  5000   4000   5900  5300\n",
            "칼로리      10     110     250   110     20    210     0\n",
            "원산지    콜롬비아   코스타리카    과테말라  과테말라  코스타리카  코스타리카  대한민국\n",
            "이벤트가    NaN  1000.0  1000.0   NaN    NaN    NaN   NaN\n",
            "\n",
            "0    4510.0\n",
            "1    6110.0\n",
            "2    6750.0\n",
            "3    5110.0\n",
            "4    4020.0\n",
            "5    6110.0\n",
            "6    5300.0\n",
            "dtype: float64\n",
            "\n",
            "최댓값:  5900\n",
            "최솟값:  4000\n",
            "평균값:  5028.571428571428\n",
            "중앙값:  5000.0\n",
            "합계:  35200\n",
            "표준편차;  631.7021600783229\n",
            "분산:  399047.6190476191\n",
            "\n",
            "분위수 25% 값 4750.0\n",
            "분위수 75% 값 5400.0\n",
            "\n",
            "      메뉴    가격  칼로리    원산지  이벤트가\n",
            "0  아메리카노  4500   10   콜롬비아   NaN\n",
            "4  에스프레소  4000   20  코스타리카   NaN\n",
            "\n",
            "     메뉴    가격  칼로리    원산지    이벤트가\n",
            "2  카페모카  5500  250   과테말라  1000.0\n",
            "5   밀크티  5900  210  코스타리카     NaN\n"
          ]
        }
      ]
    },
    {
      "cell_type": "code",
      "source": [
        "# 그룹핑"
      ],
      "metadata": {
        "id": "5ksEeyLd3Ok3"
      },
      "execution_count": 28,
      "outputs": []
    },
    {
      "cell_type": "code",
      "source": [
        "# 시계열 데이터 (dataframe)"
      ],
      "metadata": {
        "id": "ngRDOWW83Pmj"
      },
      "execution_count": 29,
      "outputs": []
    },
    {
      "cell_type": "code",
      "source": [
        "# 시계열 데이터 (Timedelta)"
      ],
      "metadata": {
        "id": "YkM01L5g3R5i"
      },
      "execution_count": 30,
      "outputs": []
    },
    {
      "cell_type": "code",
      "source": [
        "# 데이터프레임 합치기"
      ],
      "metadata": {
        "id": "YfOyXh_63XCl"
      },
      "execution_count": 31,
      "outputs": []
    },
    {
      "cell_type": "code",
      "source": [
        "# 피벗테이블"
      ],
      "metadata": {
        "id": "V4ukNpf03atI"
      },
      "execution_count": 32,
      "outputs": []
    },
    {
      "cell_type": "code",
      "source": [
        "# 확인문제"
      ],
      "metadata": {
        "id": "U8nrmhdG3dZt"
      },
      "execution_count": 33,
      "outputs": []
    },
    {
      "cell_type": "markdown",
      "source": [
        "# PART-1-CHAPTER-03 | 작업형1 연습문제"
      ],
      "metadata": {
        "id": "aOROlDIpztnD"
      }
    },
    {
      "cell_type": "code",
      "source": [
        "# 필터링, 최솟값, 중앙값"
      ],
      "metadata": {
        "id": "0KLVj_NB3ftZ"
      },
      "execution_count": 34,
      "outputs": []
    },
    {
      "cell_type": "code",
      "source": [
        "# 카테고리, 인덱스, 문자열 슬라이싱"
      ],
      "metadata": {
        "id": "Ry2GM9NJ3kHA"
      },
      "execution_count": 35,
      "outputs": []
    },
    {
      "cell_type": "code",
      "source": [
        "# 파생변수, 정렬, 인덱싱"
      ],
      "metadata": {
        "id": "qMxIUoGI3mdW"
      },
      "execution_count": 36,
      "outputs": []
    },
    {
      "cell_type": "code",
      "source": [
        "# 값 변경, 정렬, 합계"
      ],
      "metadata": {
        "id": "QVlGXTNI3pEw"
      },
      "execution_count": 37,
      "outputs": []
    },
    {
      "cell_type": "code",
      "source": [
        "# 문자열 슬라이싱, 파생변수, 평균값"
      ],
      "metadata": {
        "id": "60vf8MAl3rHj"
      },
      "execution_count": 38,
      "outputs": []
    },
    {
      "cell_type": "code",
      "source": [
        "# 필터링, 분산"
      ],
      "metadata": {
        "id": "eLiUC-6x3ti-"
      },
      "execution_count": 39,
      "outputs": []
    },
    {
      "cell_type": "code",
      "source": [
        "# 값 변경(연산), 필터링 절댓값"
      ],
      "metadata": {
        "id": "YqMRk4e93u8R"
      },
      "execution_count": 40,
      "outputs": []
    },
    {
      "cell_type": "code",
      "source": [
        "# 시계열 데이터, 필터링, 데이터 개수"
      ],
      "metadata": {
        "id": "YDShqeiu3xi4"
      },
      "execution_count": 41,
      "outputs": []
    },
    {
      "cell_type": "code",
      "source": [
        "# 필터링, 카테고리, 최빈값"
      ],
      "metadata": {
        "id": "27daNt_Y31dC"
      },
      "execution_count": 42,
      "outputs": []
    },
    {
      "cell_type": "code",
      "source": [
        "# 그룹핑, 최댓값, 정렬"
      ],
      "metadata": {
        "id": "gTswnEDc33oR"
      },
      "execution_count": 43,
      "outputs": []
    },
    {
      "cell_type": "code",
      "source": [
        "# 슬라이싱, 사분위수, 결측치 제거"
      ],
      "metadata": {
        "id": "RypQq9tz35_R"
      },
      "execution_count": 44,
      "outputs": []
    },
    {
      "cell_type": "code",
      "source": [
        "# 결측치 처리, 최빈값, 데이터 개수"
      ],
      "metadata": {
        "id": "5vCg2huW38n7"
      },
      "execution_count": 45,
      "outputs": []
    },
    {
      "cell_type": "code",
      "source": [
        "# 결측 데이터 찾기, 필터링, 평균값"
      ],
      "metadata": {
        "id": "-PUQGwEv3-6P"
      },
      "execution_count": 46,
      "outputs": []
    },
    {
      "cell_type": "code",
      "source": [
        "# 중복 데이터 제거, 값 변경, 필터링"
      ],
      "metadata": {
        "id": "Av_xpoC44MDD"
      },
      "execution_count": 47,
      "outputs": []
    },
    {
      "cell_type": "code",
      "source": [
        "# 이상치, IQR"
      ],
      "metadata": {
        "id": "guxmCr6a4V7-"
      },
      "execution_count": 48,
      "outputs": []
    },
    {
      "cell_type": "code",
      "source": [
        "# 이상치, 소수점 있는 데이터 찾기, 표준 편차"
      ],
      "metadata": {
        "id": "8NqCUxpe4ZV5"
      },
      "execution_count": 49,
      "outputs": []
    },
    {
      "cell_type": "code",
      "source": [
        "# 데이터(행) 기준 평균값, 인덱싱"
      ],
      "metadata": {
        "id": "a_PM8D0y4cq6"
      },
      "execution_count": 50,
      "outputs": []
    },
    {
      "cell_type": "code",
      "source": [
        "# 결측치(뒤의 값으로 대체), 그룹합"
      ],
      "metadata": {
        "id": "K0b6SEF04g-p"
      },
      "execution_count": 51,
      "outputs": []
    },
    {
      "cell_type": "code",
      "source": [
        "# 시계열 데이터, 월별 집계, 인덱스"
      ],
      "metadata": {
        "id": "5J_rMAwX4j4w"
      },
      "execution_count": 52,
      "outputs": []
    },
    {
      "cell_type": "code",
      "source": [
        "# 시간 간의 차이 계산(분), 필터링"
      ],
      "metadata": {
        "id": "yikp56eg4oaR"
      },
      "execution_count": 53,
      "outputs": []
    },
    {
      "cell_type": "code",
      "source": [
        "# 시간 간의 차이 계산(분), 그룹핑"
      ],
      "metadata": {
        "id": "rC7b-qry4qez"
      },
      "execution_count": 54,
      "outputs": []
    },
    {
      "cell_type": "code",
      "source": [
        "# 시간 간의 차이 계산(분), 비율"
      ],
      "metadata": {
        "id": "iTn7B8pS4ucf"
      },
      "execution_count": 55,
      "outputs": []
    },
    {
      "cell_type": "code",
      "source": [
        "# 그룹핑, 값 찾기, 필터링"
      ],
      "metadata": {
        "id": "SIdjya6U4w4y"
      },
      "execution_count": 56,
      "outputs": []
    },
    {
      "cell_type": "code",
      "source": [
        "# 시간 간의 차이 계산(일)"
      ],
      "metadata": {
        "id": "Butzg4Fi4zJQ"
      },
      "execution_count": 57,
      "outputs": []
    },
    {
      "cell_type": "code",
      "source": [
        "# 날짜와 시간 정보 변환, 비율"
      ],
      "metadata": {
        "id": "qMSb0xzx42LR"
      },
      "execution_count": 58,
      "outputs": []
    },
    {
      "cell_type": "code",
      "source": [
        "# 시간 범위, 속도(km/h)"
      ],
      "metadata": {
        "id": "KBjv6yjo45oD"
      },
      "execution_count": 59,
      "outputs": []
    },
    {
      "cell_type": "code",
      "source": [
        "# 날짜와 시간, 문자열"
      ],
      "metadata": {
        "id": "gyKvLphF47md"
      },
      "execution_count": 60,
      "outputs": []
    },
    {
      "cell_type": "code",
      "source": [
        "# 함수, 월별 집계"
      ],
      "metadata": {
        "id": "ehq35vJo49L4"
      },
      "execution_count": 61,
      "outputs": []
    },
    {
      "cell_type": "code",
      "source": [
        "# 주말, 평일 구분"
      ],
      "metadata": {
        "id": "TJy_ORc95AGB"
      },
      "execution_count": 62,
      "outputs": []
    },
    {
      "cell_type": "code",
      "source": [
        "# 문자열, 형 변환"
      ],
      "metadata": {
        "id": "gS3EfJf55CAO"
      },
      "execution_count": 63,
      "outputs": []
    },
    {
      "cell_type": "code",
      "source": [
        "# 합계(열 방향), 상위 값 선택"
      ],
      "metadata": {
        "id": "BpCSqv8z5DQB"
      },
      "execution_count": 64,
      "outputs": []
    },
    {
      "cell_type": "code",
      "source": [
        "# 데이터프레임 재구조화"
      ],
      "metadata": {
        "id": "8V3OU0aK5Fo8"
      },
      "execution_count": 65,
      "outputs": []
    },
    {
      "cell_type": "code",
      "source": [
        "# 데이터 합치기 (concat)"
      ],
      "metadata": {
        "id": "o5qXGA4n5Hy3"
      },
      "execution_count": 66,
      "outputs": []
    },
    {
      "cell_type": "code",
      "source": [
        "# 데이터 합치기 (merge)"
      ],
      "metadata": {
        "id": "6mgjIhMB5JgC"
      },
      "execution_count": 67,
      "outputs": []
    },
    {
      "cell_type": "code",
      "source": [
        "# 조건별 변환 (transform)"
      ],
      "metadata": {
        "id": "8hi7Kr8x5PQe"
      },
      "execution_count": 68,
      "outputs": []
    },
    {
      "cell_type": "code",
      "source": [
        "# 재구조화 (unstack),맵핑"
      ],
      "metadata": {
        "id": "reiNHRUa5TOT"
      },
      "execution_count": 69,
      "outputs": []
    },
    {
      "cell_type": "code",
      "source": [
        "# 피벗테이블"
      ],
      "metadata": {
        "id": "0Ip04RR-5X8s"
      },
      "execution_count": 70,
      "outputs": []
    },
    {
      "cell_type": "code",
      "source": [
        "# 재구조화 (melt), 그룹핑"
      ],
      "metadata": {
        "id": "hlYjx3ga5Zio"
      },
      "execution_count": 71,
      "outputs": []
    },
    {
      "cell_type": "markdown",
      "source": [
        "#PART-2-CHAPTER-01 | 머신러닝 기초"
      ],
      "metadata": {
        "id": "Rv-DiiuGzvrN"
      }
    },
    {
      "cell_type": "code",
      "source": [
        "# 지도 학습, 비지도 학습, 강화 학습"
      ],
      "metadata": {
        "id": "N43-Ofps5dto"
      },
      "execution_count": 72,
      "outputs": []
    },
    {
      "cell_type": "code",
      "source": [
        "# 분류와 회귀"
      ],
      "metadata": {
        "id": "se38WuBX5gzY"
      },
      "execution_count": 73,
      "outputs": []
    },
    {
      "cell_type": "code",
      "source": [
        "# 정형 데이터"
      ],
      "metadata": {
        "id": "-u79KXS35h7e"
      },
      "execution_count": 74,
      "outputs": []
    },
    {
      "cell_type": "code",
      "source": [
        "# 머신러닝 프로세스"
      ],
      "metadata": {
        "id": "pY-n3y9R5iy1"
      },
      "execution_count": 75,
      "outputs": []
    },
    {
      "cell_type": "markdown",
      "source": [
        "# PART-2-CHAPTER-02 | 머신러닝 실습(분류)"
      ],
      "metadata": {
        "id": "hF1gH1SfzwAe"
      }
    },
    {
      "cell_type": "code",
      "source": [
        "# 문제 정의"
      ],
      "metadata": {
        "id": "cNVd4DSW5kll"
      },
      "execution_count": 76,
      "outputs": []
    },
    {
      "cell_type": "code",
      "source": [
        "# 라이브러리 및 데이터 불러오기"
      ],
      "metadata": {
        "id": "xtS66jdu5mJD"
      },
      "execution_count": 77,
      "outputs": []
    },
    {
      "cell_type": "code",
      "source": [
        "# 탐색적 데이터 분석 (EDA)"
      ],
      "metadata": {
        "id": "P28cVD5d5nYC"
      },
      "execution_count": 78,
      "outputs": []
    },
    {
      "cell_type": "code",
      "source": [
        "# 데이터 전처리"
      ],
      "metadata": {
        "id": "Mie6Zx-j5pgk"
      },
      "execution_count": 79,
      "outputs": []
    },
    {
      "cell_type": "code",
      "source": [
        "# 검증 데이터 나누기"
      ],
      "metadata": {
        "id": "nrMgiGhN5rGN"
      },
      "execution_count": 80,
      "outputs": []
    },
    {
      "cell_type": "code",
      "source": [
        "# 머신러닝 학습 및 평가"
      ],
      "metadata": {
        "id": "qgNe7-Dl5sKD"
      },
      "execution_count": 81,
      "outputs": []
    },
    {
      "cell_type": "code",
      "source": [
        "# 예측 및 결과 파일 생성"
      ],
      "metadata": {
        "id": "gHBMMoKG5uqw"
      },
      "execution_count": 82,
      "outputs": []
    },
    {
      "cell_type": "markdown",
      "source": [
        "# PART-2-CHAPTER-03 | 머신러닝 평가지표"
      ],
      "metadata": {
        "id": "4CrU680DzwTR"
      }
    },
    {
      "cell_type": "code",
      "source": [
        "# 이진 분류 평가지표"
      ],
      "metadata": {
        "id": "eP5tY_2u5xVK"
      },
      "execution_count": 83,
      "outputs": []
    },
    {
      "cell_type": "code",
      "source": [
        "# 다중 분류 평가지표"
      ],
      "metadata": {
        "id": "KEUWaIiM5y59"
      },
      "execution_count": 84,
      "outputs": []
    },
    {
      "cell_type": "code",
      "source": [
        "# 회귀 평가지표"
      ],
      "metadata": {
        "id": "8qZEJvVo52Ev"
      },
      "execution_count": 85,
      "outputs": []
    },
    {
      "cell_type": "markdown",
      "source": [
        "# PART-2-CHAPTER-04 | 머신러닝 실습(회귀)"
      ],
      "metadata": {
        "id": "hdg3iUUczwjo"
      }
    },
    {
      "cell_type": "code",
      "source": [
        "# 문제 정의"
      ],
      "metadata": {
        "id": "qhwwZGD755Rx"
      },
      "execution_count": 86,
      "outputs": []
    },
    {
      "cell_type": "code",
      "source": [
        "# 라이브러리 및 데이터 불러오기"
      ],
      "metadata": {
        "id": "py63phWb56pJ"
      },
      "execution_count": 87,
      "outputs": []
    },
    {
      "cell_type": "code",
      "source": [
        "# 탐색적 데이터 분석 (EDA)"
      ],
      "metadata": {
        "id": "JCjr1X8r58X2"
      },
      "execution_count": 88,
      "outputs": []
    },
    {
      "cell_type": "code",
      "source": [
        "# 데이터 전처리"
      ],
      "metadata": {
        "id": "mO8tj4iS6EyF"
      },
      "execution_count": 89,
      "outputs": []
    },
    {
      "cell_type": "code",
      "source": [
        "# 검증 데이터 나누기"
      ],
      "metadata": {
        "id": "I5_p3UtF6H1l"
      },
      "execution_count": 90,
      "outputs": []
    },
    {
      "cell_type": "code",
      "source": [
        "# 머신러닝 학습 및 평가"
      ],
      "metadata": {
        "id": "eVJ7Pjq56I8P"
      },
      "execution_count": 91,
      "outputs": []
    },
    {
      "cell_type": "code",
      "source": [
        "# 예측 및 결과 파일 생성"
      ],
      "metadata": {
        "id": "2SQ_RYHF6Khp"
      },
      "execution_count": 92,
      "outputs": []
    },
    {
      "cell_type": "markdown",
      "source": [
        "# PART-2-CHAPTER-05 | 머신러닝 실습(다중 분류)"
      ],
      "metadata": {
        "id": "Eu9O628uzw4O"
      }
    },
    {
      "cell_type": "code",
      "source": [
        "# 문제 정의"
      ],
      "metadata": {
        "id": "6439__Ot6PRP"
      },
      "execution_count": 93,
      "outputs": []
    },
    {
      "cell_type": "code",
      "source": [
        "# 라이브러리 및 데이터 불러오기"
      ],
      "metadata": {
        "id": "q9REgtq16QaW"
      },
      "execution_count": 94,
      "outputs": []
    },
    {
      "cell_type": "code",
      "source": [
        "# 탐색적 데이터 분석 (EDA)"
      ],
      "metadata": {
        "id": "RJ53cziC6SkL"
      },
      "execution_count": 95,
      "outputs": []
    },
    {
      "cell_type": "code",
      "source": [
        "# 데이터 전처리"
      ],
      "metadata": {
        "id": "WuLQIfis6UYJ"
      },
      "execution_count": 96,
      "outputs": []
    },
    {
      "cell_type": "code",
      "source": [
        "# 검증 데이터 나누기"
      ],
      "metadata": {
        "id": "6NNI7qLA6VvX"
      },
      "execution_count": 97,
      "outputs": []
    },
    {
      "cell_type": "code",
      "source": [
        "# 머신러닝 학습 및 평가"
      ],
      "metadata": {
        "id": "-StTIGnM6XSN"
      },
      "execution_count": 98,
      "outputs": []
    },
    {
      "cell_type": "code",
      "source": [
        "# 예측 및 결과 파일 생성"
      ],
      "metadata": {
        "id": "frZaVWQJ6Yz7"
      },
      "execution_count": 99,
      "outputs": []
    },
    {
      "cell_type": "markdown",
      "source": [
        "# PART-2-CHAPTER-06 | 이진 분류 연습문제\n"
      ],
      "metadata": {
        "id": "uRCJ9Oi4zxIv"
      }
    },
    {
      "cell_type": "code",
      "source": [
        "# 환자의 당뇨병 여부 예측"
      ],
      "metadata": {
        "id": "8P5lUA476bLa"
      },
      "execution_count": 100,
      "outputs": []
    },
    {
      "cell_type": "code",
      "source": [
        "# 이직 여부 예측"
      ],
      "metadata": {
        "id": "7rFUXbnC6dVO"
      },
      "execution_count": 101,
      "outputs": []
    },
    {
      "cell_type": "code",
      "source": [
        "# 신용카드 신청자의 미래 신용 예측"
      ],
      "metadata": {
        "id": "Zuf113gi6ete"
      },
      "execution_count": 102,
      "outputs": []
    },
    {
      "cell_type": "markdown",
      "source": [
        "# PART-2-CHAPTER-07 | 다중 분류 연습문제\n"
      ],
      "metadata": {
        "id": "1D84RxikzxeU"
      }
    },
    {
      "cell_type": "code",
      "source": [
        "# 신용 등급 예측"
      ],
      "metadata": {
        "id": "DIvK4hGZ6hKR"
      },
      "execution_count": 103,
      "outputs": []
    },
    {
      "cell_type": "code",
      "source": [
        "# 약물 종류 예측"
      ],
      "metadata": {
        "id": "VPkyQCQS6ikx"
      },
      "execution_count": 104,
      "outputs": []
    },
    {
      "cell_type": "code",
      "source": [
        "# 유리 종류 예측"
      ],
      "metadata": {
        "id": "rPSfwebH6jvL"
      },
      "execution_count": 105,
      "outputs": []
    },
    {
      "cell_type": "markdown",
      "source": [
        "# PART-2-CHAPTER-08 | 회귀 연습문제\n"
      ],
      "metadata": {
        "id": "tiASFUbrzxyE"
      }
    },
    {
      "cell_type": "code",
      "source": [
        "# 항공권 가격 예측"
      ],
      "metadata": {
        "id": "_WPpvez_6mAp"
      },
      "execution_count": 106,
      "outputs": []
    },
    {
      "cell_type": "code",
      "source": [
        "# 노트북 가격 예측"
      ],
      "metadata": {
        "id": "WLGXHk0p6o4z"
      },
      "execution_count": 107,
      "outputs": []
    },
    {
      "cell_type": "code",
      "source": [
        "# 중고차 가격 예측"
      ],
      "metadata": {
        "id": "w8tEilqq6qOB"
      },
      "execution_count": 108,
      "outputs": []
    },
    {
      "cell_type": "markdown",
      "source": [
        "# PART-3-CHAPTER-01 | 가설 검정"
      ],
      "metadata": {
        "id": "IM4PVTr8zyEh"
      }
    },
    {
      "cell_type": "code",
      "source": [
        "# 가설검정의 이해"
      ],
      "metadata": {
        "id": "lvzbqqj16wrH"
      },
      "execution_count": 109,
      "outputs": []
    },
    {
      "cell_type": "code",
      "source": [
        "# 단일 표본 검정"
      ],
      "metadata": {
        "id": "YAJLoC3Q6zSD"
      },
      "execution_count": 110,
      "outputs": []
    },
    {
      "cell_type": "code",
      "source": [
        "# 대응 표본 검정"
      ],
      "metadata": {
        "id": "TQuwFRDy61CP"
      },
      "execution_count": 111,
      "outputs": []
    },
    {
      "cell_type": "code",
      "source": [
        "# 독립 표본 검정"
      ],
      "metadata": {
        "id": "3aMbRnzv63Eo"
      },
      "execution_count": 112,
      "outputs": []
    },
    {
      "cell_type": "markdown",
      "source": [
        "# PART-3-CHAPTER-02  | 분산 분석"
      ],
      "metadata": {
        "id": "2mAn7OhPzyTb"
      }
    },
    {
      "cell_type": "code",
      "source": [
        "# 일원 분산 분석"
      ],
      "metadata": {
        "id": "s-c3NlGk64uK"
      },
      "execution_count": 113,
      "outputs": []
    },
    {
      "cell_type": "code",
      "source": [
        "# 이원 분산 분석"
      ],
      "metadata": {
        "id": "_Uw5bDOb65yF"
      },
      "execution_count": 114,
      "outputs": []
    },
    {
      "cell_type": "markdown",
      "source": [
        "# PART-3-CHAPTER-03  | 카이제곱 검정"
      ],
      "metadata": {
        "id": "iMAAyftyzykV"
      }
    },
    {
      "cell_type": "code",
      "source": [
        "# 적합도 검정"
      ],
      "metadata": {
        "id": "63IPvFIv69k4"
      },
      "execution_count": 115,
      "outputs": []
    },
    {
      "cell_type": "code",
      "source": [
        "# 독립성 검정"
      ],
      "metadata": {
        "id": "4fcw82HZ6_H_"
      },
      "execution_count": 116,
      "outputs": []
    },
    {
      "cell_type": "code",
      "source": [
        "# 동질성 검정"
      ],
      "metadata": {
        "id": "Ft2d3H8r6_7p"
      },
      "execution_count": 117,
      "outputs": []
    },
    {
      "cell_type": "markdown",
      "source": [
        "# PART-3-CHAPTER-04  | 회귀 분석"
      ],
      "metadata": {
        "id": "qbue3x5Qzyy4"
      }
    },
    {
      "cell_type": "code",
      "source": [
        "# 상관 계수"
      ],
      "metadata": {
        "id": "AmSWpR3c7Bf3"
      },
      "execution_count": 118,
      "outputs": []
    },
    {
      "cell_type": "code",
      "source": [
        "# 단순 선형 회귀 분석"
      ],
      "metadata": {
        "id": "S9do3sAG7Dqx"
      },
      "execution_count": 119,
      "outputs": []
    },
    {
      "cell_type": "code",
      "source": [
        "# 다중 선형 회귀 분석"
      ],
      "metadata": {
        "id": "4e_KVOfZ7FHa"
      },
      "execution_count": 120,
      "outputs": []
    },
    {
      "cell_type": "code",
      "source": [
        "# 범주형 변수"
      ],
      "metadata": {
        "id": "ENB6r5xT7GS1"
      },
      "execution_count": 121,
      "outputs": []
    },
    {
      "cell_type": "markdown",
      "source": [
        "# PART-3-CHAPTER-05  | 로지스틱 회귀 분석"
      ],
      "metadata": {
        "id": "yk8ZeZ6k1kIo"
      }
    },
    {
      "cell_type": "code",
      "source": [
        "# 로지스틱 회귀 분석"
      ],
      "metadata": {
        "id": "UqJWr60h7IDD"
      },
      "execution_count": 122,
      "outputs": []
    },
    {
      "cell_type": "code",
      "source": [
        "# 오즈와 오즈비"
      ],
      "metadata": {
        "id": "h5VewXwj7Jer"
      },
      "execution_count": 123,
      "outputs": []
    },
    {
      "cell_type": "markdown",
      "source": [
        "# PART-3-CHAPTER-06 | 작업형3 연습 문제"
      ],
      "metadata": {
        "id": "wJ8aJLvn1mxY"
      }
    },
    {
      "cell_type": "code",
      "source": [
        "# 단일 표본 검정"
      ],
      "metadata": {
        "id": "xX-kpo2L7Odj"
      },
      "execution_count": 124,
      "outputs": []
    },
    {
      "cell_type": "code",
      "source": [
        "# 독립 표본 검정"
      ],
      "metadata": {
        "id": "9IbLIwjx7RnA"
      },
      "execution_count": 125,
      "outputs": []
    },
    {
      "cell_type": "code",
      "source": [
        "# 대응 표본 검정"
      ],
      "metadata": {
        "id": "gmEUA8uD7Tov"
      },
      "execution_count": 126,
      "outputs": []
    },
    {
      "cell_type": "code",
      "source": [
        "# 일원 분산 분석"
      ],
      "metadata": {
        "id": "dy6zcnwd7UxP"
      },
      "execution_count": 127,
      "outputs": []
    },
    {
      "cell_type": "code",
      "source": [
        "# 이원 분산 분석"
      ],
      "metadata": {
        "id": "s7jk2qKX7Vzo"
      },
      "execution_count": 128,
      "outputs": []
    },
    {
      "cell_type": "code",
      "source": [
        "# 적합도 검정"
      ],
      "metadata": {
        "id": "B2CkGf4w7XHl"
      },
      "execution_count": 129,
      "outputs": []
    },
    {
      "cell_type": "code",
      "source": [
        "# 독립성 검정"
      ],
      "metadata": {
        "id": "KC9MUCnS7YBS"
      },
      "execution_count": 130,
      "outputs": []
    },
    {
      "cell_type": "code",
      "source": [
        "# 다중 선형 회귀"
      ],
      "metadata": {
        "id": "0LSWLp_s7Y3I"
      },
      "execution_count": 131,
      "outputs": []
    },
    {
      "cell_type": "code",
      "source": [
        "# 로지스틱 회귀"
      ],
      "metadata": {
        "id": "pXZM48mf7Zxc"
      },
      "execution_count": 132,
      "outputs": []
    },
    {
      "cell_type": "markdown",
      "source": [
        "# 기출 및 연습문제"
      ],
      "metadata": {
        "id": "iAxQGH3r1vk7"
      }
    }
  ]
}