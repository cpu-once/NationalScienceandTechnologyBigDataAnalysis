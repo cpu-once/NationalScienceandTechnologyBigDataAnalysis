{
  "nbformat": 4,
  "nbformat_minor": 0,
  "metadata": {
    "colab": {
      "provenance": [],
      "toc_visible": true,
      "authorship_tag": "ABX9TyM3op6VaxcB0GSyvQh4wnvS",
      "include_colab_link": true
    },
    "kernelspec": {
      "name": "python3",
      "display_name": "Python 3"
    },
    "language_info": {
      "name": "python"
    }
  },
  "cells": [
    {
      "cell_type": "markdown",
      "metadata": {
        "id": "view-in-github",
        "colab_type": "text"
      },
      "source": [
        "<a href=\"https://colab.research.google.com/github/cpu-once/NationalScienceandTechnologyBigDataAnalysis/blob/main/bigdataExamAndADP.ipynb\" target=\"_parent\"><img src=\"https://colab.research.google.com/assets/colab-badge.svg\" alt=\"Open In Colab\"/></a>"
      ]
    },
    {
      "cell_type": "markdown",
      "source": [
        "# PART-1-CHAPTER-01 | 파이썬"
      ],
      "metadata": {
        "id": "ircXLWqtzrmV"
      }
    },
    {
      "cell_type": "code",
      "source": [
        "# 출력"
      ],
      "metadata": {
        "id": "ZvgLLn662XzS"
      },
      "execution_count": 98,
      "outputs": []
    },
    {
      "cell_type": "code",
      "source": [
        "# 주석"
      ],
      "metadata": {
        "id": "TbC8JpLa2eMo"
      },
      "execution_count": 99,
      "outputs": []
    },
    {
      "cell_type": "code",
      "source": [
        "# 산술 연산자"
      ],
      "metadata": {
        "id": "wNE7KRh22foz"
      },
      "execution_count": 100,
      "outputs": []
    },
    {
      "cell_type": "code",
      "source": [
        "# 자료형"
      ],
      "metadata": {
        "id": "muF9TrzN2iWN"
      },
      "execution_count": 102,
      "outputs": []
    },
    {
      "cell_type": "code",
      "source": [
        "# 변수"
      ],
      "metadata": {
        "id": "RiVknWB32jsj"
      },
      "execution_count": 104,
      "outputs": []
    },
    {
      "cell_type": "code",
      "source": [
        "# 자료형 변환"
      ],
      "metadata": {
        "id": "c2gi9PD82oP-"
      },
      "execution_count": 105,
      "outputs": []
    },
    {
      "cell_type": "code",
      "source": [
        "# 비교 연산자"
      ],
      "metadata": {
        "id": "t-0Ou0_T2p_x"
      },
      "execution_count": 106,
      "outputs": []
    },
    {
      "cell_type": "code",
      "source": [
        "# 조건문"
      ],
      "metadata": {
        "id": "O2YzvtPT2rcp"
      },
      "execution_count": 107,
      "outputs": []
    },
    {
      "cell_type": "code",
      "source": [
        "# 리스트"
      ],
      "metadata": {
        "id": "14QGLaGq2sni"
      },
      "execution_count": 108,
      "outputs": []
    },
    {
      "cell_type": "code",
      "source": [
        "# 딕셔너리"
      ],
      "metadata": {
        "id": "gZ0igihC2tcB"
      },
      "execution_count": 109,
      "outputs": []
    },
    {
      "cell_type": "code",
      "source": [
        "# 인덱싱과 슬라이싱"
      ],
      "metadata": {
        "id": "LhRuL0RF2ub3"
      },
      "execution_count": 110,
      "outputs": []
    },
    {
      "cell_type": "code",
      "source": [
        "# 내장 함수"
      ],
      "metadata": {
        "id": "KXDDHzh42wCN"
      },
      "execution_count": 111,
      "outputs": []
    },
    {
      "cell_type": "code",
      "source": [
        "# 문자열"
      ],
      "metadata": {
        "id": "fE07yTOS2xFt"
      },
      "execution_count": 112,
      "outputs": []
    },
    {
      "cell_type": "code",
      "source": [
        "# 반복문"
      ],
      "metadata": {
        "id": "Z0Xrqnrp2x9Z"
      },
      "execution_count": 113,
      "outputs": []
    },
    {
      "cell_type": "code",
      "source": [
        "# 함수"
      ],
      "metadata": {
        "id": "bcra4eFu2ykd"
      },
      "execution_count": 114,
      "outputs": []
    },
    {
      "cell_type": "code",
      "source": [
        "# 확인문제"
      ],
      "metadata": {
        "id": "ups-Ic-M20CJ"
      },
      "execution_count": null,
      "outputs": []
    },
    {
      "cell_type": "markdown",
      "source": [
        "# PART-1-CHAPTER-02 | 판다스"
      ],
      "metadata": {
        "id": "NlUSPrvPzsj3"
      }
    },
    {
      "cell_type": "code",
      "source": [
        "# 데이터프레임과 시리즈"
      ],
      "metadata": {
        "id": "3nB5-EnC22Go"
      },
      "execution_count": 115,
      "outputs": []
    },
    {
      "cell_type": "code",
      "source": [
        "# 데이터 저장 및 불러오기"
      ],
      "metadata": {
        "id": "CwtI3HjJ25SO"
      },
      "execution_count": 116,
      "outputs": []
    },
    {
      "cell_type": "code",
      "source": [
        "# 자료형 변환"
      ],
      "metadata": {
        "id": "0Pzifxsr27tQ"
      },
      "execution_count": 117,
      "outputs": []
    },
    {
      "cell_type": "code",
      "source": [
        "# 새로운 컬럼 추가"
      ],
      "metadata": {
        "id": "vISXpGDe29Dv"
      },
      "execution_count": 118,
      "outputs": []
    },
    {
      "cell_type": "code",
      "source": [
        "# 데이터 삭제"
      ],
      "metadata": {
        "id": "PcIKNf9a2-V_"
      },
      "execution_count": 119,
      "outputs": []
    },
    {
      "cell_type": "code",
      "source": [
        "# 인덱싱 / 슬라이싱 (loc)"
      ],
      "metadata": {
        "id": "SJOOj3BT2_kD"
      },
      "execution_count": 120,
      "outputs": []
    },
    {
      "cell_type": "code",
      "source": [
        "# 인덱싱 / 슬라이싱 (iloc)"
      ],
      "metadata": {
        "id": "dCtXYlJ93C-t"
      },
      "execution_count": 121,
      "outputs": []
    },
    {
      "cell_type": "code",
      "source": [
        "# 데이터 추가 / 변경"
      ],
      "metadata": {
        "id": "O1soxZDg3G1g"
      },
      "execution_count": 122,
      "outputs": []
    },
    {
      "cell_type": "code",
      "source": [
        "# 정렬"
      ],
      "metadata": {
        "id": "r9S5v59d3Ir-"
      },
      "execution_count": 123,
      "outputs": []
    },
    {
      "cell_type": "code",
      "source": [
        "# 필터링"
      ],
      "metadata": {
        "id": "8W7T9qTi3Jq4"
      },
      "execution_count": 124,
      "outputs": []
    },
    {
      "cell_type": "code",
      "source": [
        "# 결측치 처리"
      ],
      "metadata": {
        "id": "l5HvYlMZ3KhF"
      },
      "execution_count": 125,
      "outputs": []
    },
    {
      "cell_type": "code",
      "source": [
        "# 값 변경"
      ],
      "metadata": {
        "id": "fUdubxdP3LYY"
      },
      "execution_count": 126,
      "outputs": []
    },
    {
      "cell_type": "code",
      "source": [
        "# 문자열"
      ],
      "metadata": {
        "id": "uAzBeHR13MjI"
      },
      "execution_count": 127,
      "outputs": []
    },
    {
      "cell_type": "code",
      "source": [
        "# 내장 함수"
      ],
      "metadata": {
        "id": "LHP3rKj93Ncc"
      },
      "execution_count": 128,
      "outputs": []
    },
    {
      "cell_type": "code",
      "source": [
        "# 그룹핑"
      ],
      "metadata": {
        "id": "5ksEeyLd3Ok3"
      },
      "execution_count": 129,
      "outputs": []
    },
    {
      "cell_type": "code",
      "source": [
        "# 시계열 데이터 (dataframe)"
      ],
      "metadata": {
        "id": "ngRDOWW83Pmj"
      },
      "execution_count": 130,
      "outputs": []
    },
    {
      "cell_type": "code",
      "source": [
        "# 시계열 데이터 (Timedelta)"
      ],
      "metadata": {
        "id": "YkM01L5g3R5i"
      },
      "execution_count": 131,
      "outputs": []
    },
    {
      "cell_type": "code",
      "source": [
        "# 데이터프레임 합치기"
      ],
      "metadata": {
        "id": "YfOyXh_63XCl"
      },
      "execution_count": 132,
      "outputs": []
    },
    {
      "cell_type": "code",
      "source": [
        "# 피벗테이블"
      ],
      "metadata": {
        "id": "V4ukNpf03atI"
      },
      "execution_count": 133,
      "outputs": []
    },
    {
      "cell_type": "code",
      "source": [
        "# 확인문제"
      ],
      "metadata": {
        "id": "U8nrmhdG3dZt"
      },
      "execution_count": null,
      "outputs": []
    },
    {
      "cell_type": "markdown",
      "source": [
        "# PART-1-CHAPTER-03 | 작업형1 연습문제"
      ],
      "metadata": {
        "id": "aOROlDIpztnD"
      }
    },
    {
      "cell_type": "code",
      "source": [
        "# 필터링, 최솟값, 중앙값"
      ],
      "metadata": {
        "id": "0KLVj_NB3ftZ"
      },
      "execution_count": 134,
      "outputs": []
    },
    {
      "cell_type": "code",
      "source": [
        "# 카테고리, 인덱스, 문자열 슬라이싱"
      ],
      "metadata": {
        "id": "Ry2GM9NJ3kHA"
      },
      "execution_count": 135,
      "outputs": []
    },
    {
      "cell_type": "code",
      "source": [
        "# 파생변수, 정렬, 인덱싱"
      ],
      "metadata": {
        "id": "qMxIUoGI3mdW"
      },
      "execution_count": 136,
      "outputs": []
    },
    {
      "cell_type": "code",
      "source": [
        "# 값 변경, 정렬, 합계"
      ],
      "metadata": {
        "id": "QVlGXTNI3pEw"
      },
      "execution_count": 137,
      "outputs": []
    },
    {
      "cell_type": "code",
      "source": [
        "# 문자열 슬라이싱, 파생변수, 평균값"
      ],
      "metadata": {
        "id": "60vf8MAl3rHj"
      },
      "execution_count": 138,
      "outputs": []
    },
    {
      "cell_type": "code",
      "source": [
        "# 필터링, 분산"
      ],
      "metadata": {
        "id": "eLiUC-6x3ti-"
      },
      "execution_count": 139,
      "outputs": []
    },
    {
      "cell_type": "code",
      "source": [
        "# 값 변경(연산), 필터링 절댓값"
      ],
      "metadata": {
        "id": "YqMRk4e93u8R"
      },
      "execution_count": 140,
      "outputs": []
    },
    {
      "cell_type": "code",
      "source": [
        "# 시계열 데이터, 필터링, 데이터 개수"
      ],
      "metadata": {
        "id": "YDShqeiu3xi4"
      },
      "execution_count": 141,
      "outputs": []
    },
    {
      "cell_type": "code",
      "source": [
        "# 필터링, 카테고리, 최빈값"
      ],
      "metadata": {
        "id": "27daNt_Y31dC"
      },
      "execution_count": 142,
      "outputs": []
    },
    {
      "cell_type": "code",
      "source": [
        "# 그룹핑, 최댓값, 정렬"
      ],
      "metadata": {
        "id": "gTswnEDc33oR"
      },
      "execution_count": 143,
      "outputs": []
    },
    {
      "cell_type": "code",
      "source": [
        "# 슬라이싱, 사분위수, 결측치 제거"
      ],
      "metadata": {
        "id": "RypQq9tz35_R"
      },
      "execution_count": 144,
      "outputs": []
    },
    {
      "cell_type": "code",
      "source": [
        "# 결측치 처리, 최빈값, 데이터 개수"
      ],
      "metadata": {
        "id": "5vCg2huW38n7"
      },
      "execution_count": 145,
      "outputs": []
    },
    {
      "cell_type": "code",
      "source": [
        "# 결측 데이터 찾기, 필터링, 평균값"
      ],
      "metadata": {
        "id": "-PUQGwEv3-6P"
      },
      "execution_count": 147,
      "outputs": []
    },
    {
      "cell_type": "code",
      "source": [
        "# 중복 데이터 제거, 값 변경, 필터링"
      ],
      "metadata": {
        "id": "Av_xpoC44MDD"
      },
      "execution_count": 148,
      "outputs": []
    },
    {
      "cell_type": "code",
      "source": [
        "# 이상치, IQR"
      ],
      "metadata": {
        "id": "guxmCr6a4V7-"
      },
      "execution_count": 149,
      "outputs": []
    },
    {
      "cell_type": "code",
      "source": [
        "# 이상치, 소수점 있는 데이터 찾기, 표준 편차"
      ],
      "metadata": {
        "id": "8NqCUxpe4ZV5"
      },
      "execution_count": 150,
      "outputs": []
    },
    {
      "cell_type": "code",
      "source": [
        "# 데이터(행) 기준 평균값, 인덱싱"
      ],
      "metadata": {
        "id": "a_PM8D0y4cq6"
      },
      "execution_count": 151,
      "outputs": []
    },
    {
      "cell_type": "code",
      "source": [
        "# 결측치(뒤의 값으로 대체), 그룹합"
      ],
      "metadata": {
        "id": "K0b6SEF04g-p"
      },
      "execution_count": 152,
      "outputs": []
    },
    {
      "cell_type": "code",
      "source": [
        "# 시계열 데이터, 월별 집계, 인덱스"
      ],
      "metadata": {
        "id": "5J_rMAwX4j4w"
      },
      "execution_count": 153,
      "outputs": []
    },
    {
      "cell_type": "code",
      "source": [
        "# 시간 간의 차이 계산(분), 필터링"
      ],
      "metadata": {
        "id": "yikp56eg4oaR"
      },
      "execution_count": 154,
      "outputs": []
    },
    {
      "cell_type": "code",
      "source": [
        "# 시간 간의 차이 계산(분), 그룹핑"
      ],
      "metadata": {
        "id": "rC7b-qry4qez"
      },
      "execution_count": 155,
      "outputs": []
    },
    {
      "cell_type": "code",
      "source": [
        "# 시간 간의 차이 계산(분), 비율"
      ],
      "metadata": {
        "id": "iTn7B8pS4ucf"
      },
      "execution_count": 156,
      "outputs": []
    },
    {
      "cell_type": "code",
      "source": [
        "# 그룹핑, 값 찾기, 필터링"
      ],
      "metadata": {
        "id": "SIdjya6U4w4y"
      },
      "execution_count": 157,
      "outputs": []
    },
    {
      "cell_type": "code",
      "source": [
        "# 시간 간의 차이 계산(일)"
      ],
      "metadata": {
        "id": "Butzg4Fi4zJQ"
      },
      "execution_count": 158,
      "outputs": []
    },
    {
      "cell_type": "code",
      "source": [
        "# 날짜와 시간 정보 변환, 비율"
      ],
      "metadata": {
        "id": "qMSb0xzx42LR"
      },
      "execution_count": 159,
      "outputs": []
    },
    {
      "cell_type": "code",
      "source": [
        "# 시간 범위, 속도(km/h)"
      ],
      "metadata": {
        "id": "KBjv6yjo45oD"
      },
      "execution_count": 160,
      "outputs": []
    },
    {
      "cell_type": "code",
      "source": [
        "# 날짜와 시간, 문자열"
      ],
      "metadata": {
        "id": "gyKvLphF47md"
      },
      "execution_count": 161,
      "outputs": []
    },
    {
      "cell_type": "code",
      "source": [
        "# 함수, 월별 집계"
      ],
      "metadata": {
        "id": "ehq35vJo49L4"
      },
      "execution_count": 162,
      "outputs": []
    },
    {
      "cell_type": "code",
      "source": [
        "# 주말, 평일 구분"
      ],
      "metadata": {
        "id": "TJy_ORc95AGB"
      },
      "execution_count": 163,
      "outputs": []
    },
    {
      "cell_type": "code",
      "source": [
        "# 문자열, 형 변환"
      ],
      "metadata": {
        "id": "gS3EfJf55CAO"
      },
      "execution_count": 164,
      "outputs": []
    },
    {
      "cell_type": "code",
      "source": [
        "# 합계(열 방향), 상위 값 선택"
      ],
      "metadata": {
        "id": "BpCSqv8z5DQB"
      },
      "execution_count": 165,
      "outputs": []
    },
    {
      "cell_type": "code",
      "source": [
        "# 데이터프레임 재구조화"
      ],
      "metadata": {
        "id": "8V3OU0aK5Fo8"
      },
      "execution_count": 166,
      "outputs": []
    },
    {
      "cell_type": "code",
      "source": [
        "# 데이터 합치기 (concat)"
      ],
      "metadata": {
        "id": "o5qXGA4n5Hy3"
      },
      "execution_count": 167,
      "outputs": []
    },
    {
      "cell_type": "code",
      "source": [
        "# 데이터 합치기 (merge)"
      ],
      "metadata": {
        "id": "6mgjIhMB5JgC"
      },
      "execution_count": 168,
      "outputs": []
    },
    {
      "cell_type": "code",
      "source": [
        "# 조건별 변환 (transform)"
      ],
      "metadata": {
        "id": "8hi7Kr8x5PQe"
      },
      "execution_count": 169,
      "outputs": []
    },
    {
      "cell_type": "code",
      "source": [
        "# 재구조화 (unstack),맵핑"
      ],
      "metadata": {
        "id": "reiNHRUa5TOT"
      },
      "execution_count": 170,
      "outputs": []
    },
    {
      "cell_type": "code",
      "source": [
        "# 피벗테이블"
      ],
      "metadata": {
        "id": "0Ip04RR-5X8s"
      },
      "execution_count": 171,
      "outputs": []
    },
    {
      "cell_type": "code",
      "source": [
        "# 재구조화 (melt), 그룹핑"
      ],
      "metadata": {
        "id": "hlYjx3ga5Zio"
      },
      "execution_count": null,
      "outputs": []
    },
    {
      "cell_type": "markdown",
      "source": [
        "#PART-2-CHAPTER-01 | 머신러닝 기초"
      ],
      "metadata": {
        "id": "Rv-DiiuGzvrN"
      }
    },
    {
      "cell_type": "code",
      "source": [
        "# 지도 학습, 비지도 학습, 강화 학습"
      ],
      "metadata": {
        "id": "N43-Ofps5dto"
      },
      "execution_count": 172,
      "outputs": []
    },
    {
      "cell_type": "code",
      "source": [
        "# 분류와 회귀"
      ],
      "metadata": {
        "id": "se38WuBX5gzY"
      },
      "execution_count": 173,
      "outputs": []
    },
    {
      "cell_type": "code",
      "source": [
        "# 정형 데이터"
      ],
      "metadata": {
        "id": "-u79KXS35h7e"
      },
      "execution_count": 174,
      "outputs": []
    },
    {
      "cell_type": "code",
      "source": [
        "# 머신러닝 프로세스"
      ],
      "metadata": {
        "id": "pY-n3y9R5iy1"
      },
      "execution_count": null,
      "outputs": []
    },
    {
      "cell_type": "markdown",
      "source": [
        "# PART-2-CHAPTER-02 | 머신러닝 실습(분류)"
      ],
      "metadata": {
        "id": "hF1gH1SfzwAe"
      }
    },
    {
      "cell_type": "code",
      "source": [
        "# 문제 정의"
      ],
      "metadata": {
        "id": "cNVd4DSW5kll"
      },
      "execution_count": 175,
      "outputs": []
    },
    {
      "cell_type": "code",
      "source": [
        "# 라이브러리 및 데이터 불러오기"
      ],
      "metadata": {
        "id": "xtS66jdu5mJD"
      },
      "execution_count": 176,
      "outputs": []
    },
    {
      "cell_type": "code",
      "source": [
        "# 탐색적 데이터 분석 (EDA)"
      ],
      "metadata": {
        "id": "P28cVD5d5nYC"
      },
      "execution_count": 177,
      "outputs": []
    },
    {
      "cell_type": "code",
      "source": [
        "# 데이터 전처리"
      ],
      "metadata": {
        "id": "Mie6Zx-j5pgk"
      },
      "execution_count": 178,
      "outputs": []
    },
    {
      "cell_type": "code",
      "source": [
        "# 검증 데이터 나누기"
      ],
      "metadata": {
        "id": "nrMgiGhN5rGN"
      },
      "execution_count": 179,
      "outputs": []
    },
    {
      "cell_type": "code",
      "source": [
        "# 머신러닝 학습 및 평가"
      ],
      "metadata": {
        "id": "qgNe7-Dl5sKD"
      },
      "execution_count": 180,
      "outputs": []
    },
    {
      "cell_type": "code",
      "source": [
        "# 예측 및 결과 파일 생성"
      ],
      "metadata": {
        "id": "gHBMMoKG5uqw"
      },
      "execution_count": null,
      "outputs": []
    },
    {
      "cell_type": "markdown",
      "source": [
        "# PART-2-CHAPTER-03 | 머신러닝 평가지표"
      ],
      "metadata": {
        "id": "4CrU680DzwTR"
      }
    },
    {
      "cell_type": "code",
      "source": [
        "# 이진 분류 평가지표"
      ],
      "metadata": {
        "id": "eP5tY_2u5xVK"
      },
      "execution_count": 181,
      "outputs": []
    },
    {
      "cell_type": "code",
      "source": [
        "# 다중 분류 평가지표"
      ],
      "metadata": {
        "id": "KEUWaIiM5y59"
      },
      "execution_count": 182,
      "outputs": []
    },
    {
      "cell_type": "code",
      "source": [
        "# 회귀 평가지표"
      ],
      "metadata": {
        "id": "8qZEJvVo52Ev"
      },
      "execution_count": null,
      "outputs": []
    },
    {
      "cell_type": "markdown",
      "source": [
        "# PART-2-CHAPTER-04 | 머신러닝 실습(회귀)"
      ],
      "metadata": {
        "id": "hdg3iUUczwjo"
      }
    },
    {
      "cell_type": "code",
      "source": [
        "# 문제 정의"
      ],
      "metadata": {
        "id": "qhwwZGD755Rx"
      },
      "execution_count": 183,
      "outputs": []
    },
    {
      "cell_type": "code",
      "source": [
        "# 라이브러리 및 데이터 불러오기"
      ],
      "metadata": {
        "id": "py63phWb56pJ"
      },
      "execution_count": 184,
      "outputs": []
    },
    {
      "cell_type": "code",
      "source": [
        "# 탐색적 데이터 분석 (EDA)"
      ],
      "metadata": {
        "id": "JCjr1X8r58X2"
      },
      "execution_count": 185,
      "outputs": []
    },
    {
      "cell_type": "code",
      "source": [
        "# 데이터 전처리"
      ],
      "metadata": {
        "id": "mO8tj4iS6EyF"
      },
      "execution_count": 186,
      "outputs": []
    },
    {
      "cell_type": "code",
      "source": [
        "# 검증 데이터 나누기"
      ],
      "metadata": {
        "id": "I5_p3UtF6H1l"
      },
      "execution_count": 187,
      "outputs": []
    },
    {
      "cell_type": "code",
      "source": [
        "# 머신러닝 학습 및 평가"
      ],
      "metadata": {
        "id": "eVJ7Pjq56I8P"
      },
      "execution_count": 188,
      "outputs": []
    },
    {
      "cell_type": "code",
      "source": [
        "# 예측 및 결과 파일 생성"
      ],
      "metadata": {
        "id": "2SQ_RYHF6Khp"
      },
      "execution_count": 189,
      "outputs": []
    },
    {
      "cell_type": "markdown",
      "source": [
        "# PART-2-CHAPTER-05 | 머신러닝 실습(다중 분류)"
      ],
      "metadata": {
        "id": "Eu9O628uzw4O"
      }
    },
    {
      "cell_type": "code",
      "source": [
        "# 문제 정의"
      ],
      "metadata": {
        "id": "6439__Ot6PRP"
      },
      "execution_count": 190,
      "outputs": []
    },
    {
      "cell_type": "code",
      "source": [
        "# 라이브러리 및 데이터 불러오기"
      ],
      "metadata": {
        "id": "q9REgtq16QaW"
      },
      "execution_count": 191,
      "outputs": []
    },
    {
      "cell_type": "code",
      "source": [
        "# 탐색적 데이터 분석 (EDA)"
      ],
      "metadata": {
        "id": "RJ53cziC6SkL"
      },
      "execution_count": 192,
      "outputs": []
    },
    {
      "cell_type": "code",
      "source": [
        "# 데이터 전처리"
      ],
      "metadata": {
        "id": "WuLQIfis6UYJ"
      },
      "execution_count": 193,
      "outputs": []
    },
    {
      "cell_type": "code",
      "source": [
        "# 검증 데이터 나누기"
      ],
      "metadata": {
        "id": "6NNI7qLA6VvX"
      },
      "execution_count": 194,
      "outputs": []
    },
    {
      "cell_type": "code",
      "source": [
        "# 머신러닝 학습 및 평가"
      ],
      "metadata": {
        "id": "-StTIGnM6XSN"
      },
      "execution_count": 195,
      "outputs": []
    },
    {
      "cell_type": "code",
      "source": [
        "# 예측 및 결과 파일 생성"
      ],
      "metadata": {
        "id": "frZaVWQJ6Yz7"
      },
      "execution_count": null,
      "outputs": []
    },
    {
      "cell_type": "markdown",
      "source": [
        "# PART-2-CHAPTER-06 | 이진 분류 연습문제\n"
      ],
      "metadata": {
        "id": "uRCJ9Oi4zxIv"
      }
    },
    {
      "cell_type": "code",
      "source": [
        "# 환자의 당뇨병 여부 예측"
      ],
      "metadata": {
        "id": "8P5lUA476bLa"
      },
      "execution_count": 196,
      "outputs": []
    },
    {
      "cell_type": "code",
      "source": [
        "# 이직 여부 예측"
      ],
      "metadata": {
        "id": "7rFUXbnC6dVO"
      },
      "execution_count": 197,
      "outputs": []
    },
    {
      "cell_type": "code",
      "source": [
        "# 신용카드 신청자의 미래 신용 예측"
      ],
      "metadata": {
        "id": "Zuf113gi6ete"
      },
      "execution_count": null,
      "outputs": []
    },
    {
      "cell_type": "markdown",
      "source": [
        "# PART-2-CHAPTER-07 | 다중 분류 연습문제\n"
      ],
      "metadata": {
        "id": "1D84RxikzxeU"
      }
    },
    {
      "cell_type": "code",
      "source": [
        "# 신용 등급 예측"
      ],
      "metadata": {
        "id": "DIvK4hGZ6hKR"
      },
      "execution_count": 198,
      "outputs": []
    },
    {
      "cell_type": "code",
      "source": [
        "# 약물 종류 예측"
      ],
      "metadata": {
        "id": "VPkyQCQS6ikx"
      },
      "execution_count": 199,
      "outputs": []
    },
    {
      "cell_type": "code",
      "source": [
        "# 유리 종류 예측"
      ],
      "metadata": {
        "id": "rPSfwebH6jvL"
      },
      "execution_count": null,
      "outputs": []
    },
    {
      "cell_type": "markdown",
      "source": [
        "# PART-2-CHAPTER-08 | 회귀 연습문제\n"
      ],
      "metadata": {
        "id": "tiASFUbrzxyE"
      }
    },
    {
      "cell_type": "code",
      "source": [
        "# 항공권 가격 예측"
      ],
      "metadata": {
        "id": "_WPpvez_6mAp"
      },
      "execution_count": 200,
      "outputs": []
    },
    {
      "cell_type": "code",
      "source": [
        "# 노트북 가격 예측"
      ],
      "metadata": {
        "id": "WLGXHk0p6o4z"
      },
      "execution_count": 201,
      "outputs": []
    },
    {
      "cell_type": "code",
      "source": [
        "# 중고차 가격 예측"
      ],
      "metadata": {
        "id": "w8tEilqq6qOB"
      },
      "execution_count": 202,
      "outputs": []
    },
    {
      "cell_type": "markdown",
      "source": [
        "# PART-3-CHAPTER-01 | 가설 검정"
      ],
      "metadata": {
        "id": "IM4PVTr8zyEh"
      }
    },
    {
      "cell_type": "code",
      "source": [
        "# 가설검정의 이해"
      ],
      "metadata": {
        "id": "lvzbqqj16wrH"
      },
      "execution_count": 203,
      "outputs": []
    },
    {
      "cell_type": "code",
      "source": [
        "# 단일 표본 검정"
      ],
      "metadata": {
        "id": "YAJLoC3Q6zSD"
      },
      "execution_count": 204,
      "outputs": []
    },
    {
      "cell_type": "code",
      "source": [
        "# 대응 표본 검정"
      ],
      "metadata": {
        "id": "TQuwFRDy61CP"
      },
      "execution_count": 205,
      "outputs": []
    },
    {
      "cell_type": "code",
      "source": [
        "# 독립 표본 검정"
      ],
      "metadata": {
        "id": "3aMbRnzv63Eo"
      },
      "execution_count": null,
      "outputs": []
    },
    {
      "cell_type": "markdown",
      "source": [
        "# PART-3-CHAPTER-02  | 분산 분석"
      ],
      "metadata": {
        "id": "2mAn7OhPzyTb"
      }
    },
    {
      "cell_type": "code",
      "source": [
        "# 일원 분산 분석"
      ],
      "metadata": {
        "id": "s-c3NlGk64uK"
      },
      "execution_count": 206,
      "outputs": []
    },
    {
      "cell_type": "code",
      "source": [
        "# 이원 분산 분석"
      ],
      "metadata": {
        "id": "_Uw5bDOb65yF"
      },
      "execution_count": null,
      "outputs": []
    },
    {
      "cell_type": "markdown",
      "source": [
        "# PART-3-CHAPTER-03  | 카이제곱 검정"
      ],
      "metadata": {
        "id": "iMAAyftyzykV"
      }
    },
    {
      "cell_type": "code",
      "source": [
        "# 적합도 검정"
      ],
      "metadata": {
        "id": "63IPvFIv69k4"
      },
      "execution_count": 207,
      "outputs": []
    },
    {
      "cell_type": "code",
      "source": [
        "# 독립성 검정"
      ],
      "metadata": {
        "id": "4fcw82HZ6_H_"
      },
      "execution_count": 208,
      "outputs": []
    },
    {
      "cell_type": "code",
      "source": [
        "# 동질성 검정"
      ],
      "metadata": {
        "id": "Ft2d3H8r6_7p"
      },
      "execution_count": null,
      "outputs": []
    },
    {
      "cell_type": "markdown",
      "source": [
        "# PART-3-CHAPTER-04  | 회귀 분석"
      ],
      "metadata": {
        "id": "qbue3x5Qzyy4"
      }
    },
    {
      "cell_type": "code",
      "source": [
        "# 상관 계수"
      ],
      "metadata": {
        "id": "AmSWpR3c7Bf3"
      },
      "execution_count": 209,
      "outputs": []
    },
    {
      "cell_type": "code",
      "source": [
        "# 단순 선형 회귀 분석"
      ],
      "metadata": {
        "id": "S9do3sAG7Dqx"
      },
      "execution_count": 210,
      "outputs": []
    },
    {
      "cell_type": "code",
      "source": [
        "# 다중 선형 회귀 분석"
      ],
      "metadata": {
        "id": "4e_KVOfZ7FHa"
      },
      "execution_count": 211,
      "outputs": []
    },
    {
      "cell_type": "code",
      "source": [
        "# 범주형 변수"
      ],
      "metadata": {
        "id": "ENB6r5xT7GS1"
      },
      "execution_count": null,
      "outputs": []
    },
    {
      "cell_type": "markdown",
      "source": [
        "# PART-3-CHAPTER-05  | 로지스틱 회귀 분석"
      ],
      "metadata": {
        "id": "yk8ZeZ6k1kIo"
      }
    },
    {
      "cell_type": "code",
      "source": [
        "# 로지스틱 회귀 분석"
      ],
      "metadata": {
        "id": "UqJWr60h7IDD"
      },
      "execution_count": 212,
      "outputs": []
    },
    {
      "cell_type": "code",
      "source": [
        "# 오즈와 오즈비"
      ],
      "metadata": {
        "id": "h5VewXwj7Jer"
      },
      "execution_count": 213,
      "outputs": []
    },
    {
      "cell_type": "markdown",
      "source": [
        "# PART-3-CHAPTER-06 | 작업형3 연습 문제"
      ],
      "metadata": {
        "id": "wJ8aJLvn1mxY"
      }
    },
    {
      "cell_type": "code",
      "source": [
        "# 단일 표본 검정"
      ],
      "metadata": {
        "id": "xX-kpo2L7Odj"
      },
      "execution_count": 214,
      "outputs": []
    },
    {
      "cell_type": "code",
      "source": [
        "# 독립 표본 검정"
      ],
      "metadata": {
        "id": "9IbLIwjx7RnA"
      },
      "execution_count": 215,
      "outputs": []
    },
    {
      "cell_type": "code",
      "source": [
        "# 대응 표본 검정"
      ],
      "metadata": {
        "id": "gmEUA8uD7Tov"
      },
      "execution_count": 216,
      "outputs": []
    },
    {
      "cell_type": "code",
      "source": [
        "# 일원 분산 분석"
      ],
      "metadata": {
        "id": "dy6zcnwd7UxP"
      },
      "execution_count": 217,
      "outputs": []
    },
    {
      "cell_type": "code",
      "source": [
        "# 이원 분산 분석"
      ],
      "metadata": {
        "id": "s7jk2qKX7Vzo"
      },
      "execution_count": 218,
      "outputs": []
    },
    {
      "cell_type": "code",
      "source": [
        "# 적합도 검정"
      ],
      "metadata": {
        "id": "B2CkGf4w7XHl"
      },
      "execution_count": 219,
      "outputs": []
    },
    {
      "cell_type": "code",
      "source": [
        "# 독립성 검정"
      ],
      "metadata": {
        "id": "KC9MUCnS7YBS"
      },
      "execution_count": 220,
      "outputs": []
    },
    {
      "cell_type": "code",
      "source": [
        "# 다중 선형 회귀"
      ],
      "metadata": {
        "id": "0LSWLp_s7Y3I"
      },
      "execution_count": 221,
      "outputs": []
    },
    {
      "cell_type": "code",
      "source": [
        "# 로지스틱 회귀"
      ],
      "metadata": {
        "id": "pXZM48mf7Zxc"
      },
      "execution_count": null,
      "outputs": []
    },
    {
      "cell_type": "markdown",
      "source": [
        "# 기출 및 연습문제"
      ],
      "metadata": {
        "id": "iAxQGH3r1vk7"
      }
    }
  ]
}